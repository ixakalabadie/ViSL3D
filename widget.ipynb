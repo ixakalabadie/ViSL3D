{
 "cells": [
  {
   "cell_type": "code",
   "execution_count": 1,
   "id": "38ffe700",
   "metadata": {},
   "outputs": [
    {
     "name": "stdout",
     "output_type": "stream",
     "text": [
      "c:\\Users\\ixaka\\Documents\\Visualization\\ViSL3D\\visl3d\\visual.py\n"
     ]
    }
   ],
   "source": [
    "from visl3d import visual as vis\n",
    "print(vis.__file__)"
   ]
  },
  {
   "cell_type": "code",
   "execution_count": null,
   "id": "33be2ece",
   "metadata": {},
   "outputs": [
    {
     "name": "stdout",
     "output_type": "stream",
     "text": [
      "Warning: Cube with polarization axis. Using first.\n",
      "WARNING: the first time might fail, run again if not working after a while. Take into account large visualisations will load slowly.\n"
     ]
    },
    {
     "data": {
      "application/vnd.jupyter.widget-view+json": {
       "model_id": "3c3dab2081414ffc8bbf4f975beea445",
       "version_major": 2,
       "version_minor": 1
      },
      "text/plain": [
       "X3DomWidget(html='<!DOCTYPE html>\\n\\t <head>\\n\\t\\t<script type=\\'text/javascript\\' src=\\'https://ixakalabadie.…"
      ]
     },
     "metadata": {},
     "output_type": "display_data"
    }
   ],
   "source": [
    "cube = vis.prep_one('test_cube_hcg16.fits', isolevels=[3,4,5,7,10,15,20], unit='rms')\n",
    "cube.interface = 'minimal'\n",
    "vis.createVis(cube, 'widget_test', notebook=True)"
   ]
  },
  {
   "cell_type": "code",
   "execution_count": null,
   "id": "6a2451e3",
   "metadata": {},
   "outputs": [],
   "source": [
    "vis.displayVis('widget_test.html')"
   ]
  },
  {
   "cell_type": "code",
   "execution_count": null,
   "id": "9a98a8bc",
   "metadata": {},
   "outputs": [],
   "source": []
  }
 ],
 "metadata": {
  "kernelspec": {
   "display_name": "x3d",
   "language": "python",
   "name": "python3"
  },
  "language_info": {
   "codemirror_mode": {
    "name": "ipython",
    "version": 3
   },
   "file_extension": ".py",
   "mimetype": "text/x-python",
   "name": "python",
   "nbconvert_exporter": "python",
   "pygments_lexer": "ipython3",
   "version": "3.10.8"
  }
 },
 "nbformat": 4,
 "nbformat_minor": 5
}
