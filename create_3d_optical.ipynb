{
 "cells": [
  {
   "cell_type": "code",
   "execution_count": 3,
   "id": "a663f696",
   "metadata": {},
   "outputs": [],
   "source": [
    "from spectral_cube import SpectralCube #To read FITS\n",
    "import numpy as np\n",
    "import astropy.units as u\n",
    "from astropy.coordinates import SkyCoord, Angle\n",
    "from skimage import measure\n",
    "from astropy import wcs\n",
    "import cube_x3d as c3\n",
    "import matplotlib.pyplot as plt\n",
    "from matplotlib import cm\n",
    "from astroquery.skyview import SkyView"
   ]
  },
  {
   "cell_type": "code",
   "execution_count": null,
   "id": "ade3539b",
   "metadata": {},
   "outputs": [],
   "source": [
    "import importlib\n",
    "importlib.reload(c3)"
   ]
  },
  {
   "cell_type": "code",
   "execution_count": 4,
   "id": "4977833d",
   "metadata": {},
   "outputs": [
    {
     "name": "stdout",
     "output_type": "stream",
     "text": [
      "C:\\Users\\ixaka\\Documents\\Visualization\n"
     ]
    }
   ],
   "source": [
    "%cd C:\\Users\\ixaka\\Documents\\Visualization"
   ]
  },
  {
   "cell_type": "code",
   "execution_count": 5,
   "id": "41fd7d93",
   "metadata": {},
   "outputs": [
    {
     "name": "stdout",
     "output_type": "stream",
     "text": [
      "(4300, 52, 58)\n"
     ]
    },
    {
     "name": "stderr",
     "output_type": "stream",
     "text": [
      "WARNING: UnitsWarning: 'erg/cm2/s/A' contains multiple slashes, which is discouraged by the FITS standard [astropy.units.format.generic]\n"
     ]
    }
   ],
   "source": [
    "# Read the fits file and save header\n",
    "HI_cube = SpectralCube.read('C:\\\\Users\\\\ixaka\\\\Documents\\\\Optical-Montoro\\\\flux_MRB_final_rss.fits')\n",
    "cubehead = HI_cube.header\n",
    "cubew = wcs.WCS(cubehead)\n",
    "nz, ny, nx = HI_cube.shape\n",
    "print(HI_cube.shape)\n",
    "dra, ddec, dv = cubehead['CDELT1'], cubehead['CDELT2'], cubehead['CDELT3']\n",
    "delta_arcsec = (np.abs(dra)*3600, np.abs(ddec)*3600, np.abs(dv)) #/10 to nm"
   ]
  },
  {
   "cell_type": "code",
   "execution_count": 14,
   "id": "0449361e",
   "metadata": {},
   "outputs": [
    {
     "data": {
      "text/plain": [
       "(0.0, 2.5e-15)"
      ]
     },
     "execution_count": 14,
     "metadata": {},
     "output_type": "execute_result"
    },
    {
     "data": {
      "image/png": "[encoded data removed]",
      "text/plain": [
       "<Figure size 640x480 with 1 Axes>"
      ]
     },
     "metadata": {},
     "output_type": "display_data"
    }
   ],
   "source": [
    "plt.hist(HI_cube.unmasked_data[:].to_value().flatten(), bins=400, density=True)\n",
    "plt.yscale('log')\n",
    "plt.xlim(0,2.5e-15)"
   ]
  },
  {
   "cell_type": "code",
   "execution_count": 6,
   "id": "157dadf2",
   "metadata": {},
   "outputs": [],
   "source": [
    "#define isoleves in mJy/beam\n",
    "#isolevels = np.array([1.5, 2.5, 3.5, 6]) #hcg91\n",
    "#isolevels = np.array([1.5, 4.5, 8.5, 13]) #hcg16\n",
    "#isolevels = np.array([1.5, 3.5, 6.5, 11]) #hcg31\n",
    "isolevels = np.array([2, 5, 9, 13, 18])"
   ]
  },
  {
   "cell_type": "code",
   "execution_count": 9,
   "id": "edb56ff2",
   "metadata": {},
   "outputs": [
    {
     "name": "stderr",
     "output_type": "stream",
     "text": [
      "WARNING: PossiblySlowWarning: This function (<function BaseSpectralCube.sum at 0x000001CE5C4B9C60>) requires loading the entire cube into memory and may therefore be slow. [spectral_cube.utils]\n"
     ]
    },
    {
     "ename": "TypeError",
     "evalue": "allbadtonan.<locals>.f() got an unexpected keyword argument 'out'",
     "output_type": "error",
     "traceback": [
      "\u001b[1;31m---------------------------------------------------------------------------\u001b[0m",
      "\u001b[1;31mTypeError\u001b[0m                                 Traceback (most recent call last)",
      "Cell \u001b[1;32mIn[9], line 1\u001b[0m\n\u001b[1;32m----> 1\u001b[0m c3\u001b[39m.\u001b[39;49mpreview2d(HI_cube)\n",
      "File \u001b[1;32mc:\\Users\\ixaka\\Documents\\Visualization\\cube_x3d\\cube_x3d_mw.py:1514\u001b[0m, in \u001b[0;36mpreview2d\u001b[1;34m(cube, vmin1, vmax1, vmin2, vmax2, norm)\u001b[0m\n\u001b[0;32m   1493\u001b[0m \u001b[39m\u001b[39m\u001b[39m\"\"\"\u001b[39;00m\n\u001b[0;32m   1494\u001b[0m \u001b[39m\u001b[39;00m\n\u001b[0;32m   1495\u001b[0m \n\u001b[1;32m   (...)\u001b[0m\n\u001b[0;32m   1511\u001b[0m \n\u001b[0;32m   1512\u001b[0m \u001b[39m\"\"\"\u001b[39;00m\n\u001b[0;32m   1513\u001b[0m nz, ny, nx \u001b[39m=\u001b[39m cube\u001b[39m.\u001b[39mshape\n\u001b[1;32m-> 1514\u001b[0m cs1 \u001b[39m=\u001b[39m np\u001b[39m.\u001b[39;49msum(cube, axis\u001b[39m=\u001b[39;49m\u001b[39m0\u001b[39;49m)\n\u001b[0;32m   1515\u001b[0m cs2 \u001b[39m=\u001b[39m np\u001b[39m.\u001b[39msum(cube, axis\u001b[39m=\u001b[39m\u001b[39m2\u001b[39m)\n\u001b[0;32m   1516\u001b[0m \u001b[39mif\u001b[39;00m vmin1 \u001b[39m==\u001b[39m \u001b[39mNone\u001b[39;00m: vmin1 \u001b[39m=\u001b[39m np\u001b[39m.\u001b[39mmin(cs1)\n",
      "File \u001b[1;32m<__array_function__ internals>:180\u001b[0m, in \u001b[0;36msum\u001b[1;34m(*args, **kwargs)\u001b[0m\n",
      "File \u001b[1;32mc:\\Users\\ixaka\\miniconda3\\envs\\x3d\\lib\\site-packages\\numpy\\core\\fromnumeric.py:2298\u001b[0m, in \u001b[0;36msum\u001b[1;34m(a, axis, dtype, out, keepdims, initial, where)\u001b[0m\n\u001b[0;32m   2295\u001b[0m         \u001b[39mreturn\u001b[39;00m out\n\u001b[0;32m   2296\u001b[0m     \u001b[39mreturn\u001b[39;00m res\n\u001b[1;32m-> 2298\u001b[0m \u001b[39mreturn\u001b[39;00m _wrapreduction(a, np\u001b[39m.\u001b[39;49madd, \u001b[39m'\u001b[39;49m\u001b[39msum\u001b[39;49m\u001b[39m'\u001b[39;49m, axis, dtype, out, keepdims\u001b[39m=\u001b[39;49mkeepdims,\n\u001b[0;32m   2299\u001b[0m                       initial\u001b[39m=\u001b[39;49minitial, where\u001b[39m=\u001b[39;49mwhere)\n",
      "File \u001b[1;32mc:\\Users\\ixaka\\miniconda3\\envs\\x3d\\lib\\site-packages\\numpy\\core\\fromnumeric.py:84\u001b[0m, in \u001b[0;36m_wrapreduction\u001b[1;34m(obj, ufunc, method, axis, dtype, out, **kwargs)\u001b[0m\n\u001b[0;32m     82\u001b[0m             \u001b[39mreturn\u001b[39;00m reduction(axis\u001b[39m=\u001b[39maxis, dtype\u001b[39m=\u001b[39mdtype, out\u001b[39m=\u001b[39mout, \u001b[39m*\u001b[39m\u001b[39m*\u001b[39mpasskwargs)\n\u001b[0;32m     83\u001b[0m         \u001b[39melse\u001b[39;00m:\n\u001b[1;32m---> 84\u001b[0m             \u001b[39mreturn\u001b[39;00m reduction(axis\u001b[39m=\u001b[39maxis, out\u001b[39m=\u001b[39mout, \u001b[39m*\u001b[39m\u001b[39m*\u001b[39mpasskwargs)\n\u001b[0;32m     86\u001b[0m \u001b[39mreturn\u001b[39;00m ufunc\u001b[39m.\u001b[39mreduce(obj, axis, dtype, out, \u001b[39m*\u001b[39m\u001b[39m*\u001b[39mpasskwargs)\n",
      "File \u001b[1;32mc:\\Users\\ixaka\\miniconda3\\envs\\x3d\\lib\\site-packages\\spectral_cube\\spectral_cube.py:101\u001b[0m, in \u001b[0;36maggregation_docstring.<locals>.wrapper\u001b[1;34m(*args, **kwargs)\u001b[0m\n\u001b[0;32m     99\u001b[0m \u001b[39m@wraps\u001b[39m(func)\n\u001b[0;32m    100\u001b[0m \u001b[39mdef\u001b[39;00m \u001b[39mwrapper\u001b[39m(\u001b[39m*\u001b[39margs, \u001b[39m*\u001b[39m\u001b[39m*\u001b[39mkwargs):\n\u001b[1;32m--> 101\u001b[0m     \u001b[39mreturn\u001b[39;00m func(\u001b[39m*\u001b[39margs, \u001b[39m*\u001b[39m\u001b[39m*\u001b[39mkwargs)\n",
      "File \u001b[1;32mc:\\Users\\ixaka\\miniconda3\\envs\\x3d\\lib\\site-packages\\spectral_cube\\utils.py:49\u001b[0m, in \u001b[0;36mwarn_slow.<locals>.wrapper\u001b[1;34m(self, *args, **kwargs)\u001b[0m\n\u001b[0;32m     43\u001b[0m \u001b[39melif\u001b[39;00m warn_how \u001b[39mand\u001b[39;00m \u001b[39mnot\u001b[39;00m \u001b[39mself\u001b[39m\u001b[39m.\u001b[39m_is_huge:\n\u001b[0;32m     44\u001b[0m     \u001b[39m# TODO: add check for whether cube has been loaded into memory\u001b[39;00m\n\u001b[0;32m     45\u001b[0m     warnings\u001b[39m.\u001b[39mwarn(\u001b[39m\"\u001b[39m\u001b[39mThis function (\u001b[39m\u001b[39m{0}\u001b[39;00m\u001b[39m) requires loading the entire cube into \u001b[39m\u001b[39m\"\u001b[39m\n\u001b[0;32m     46\u001b[0m                   \u001b[39m\"\u001b[39m\u001b[39mmemory and may therefore be slow.\u001b[39m\u001b[39m\"\u001b[39m\u001b[39m.\u001b[39mformat(\u001b[39mstr\u001b[39m(function)),\n\u001b[0;32m     47\u001b[0m                   PossiblySlowWarning\n\u001b[0;32m     48\u001b[0m                  )\n\u001b[1;32m---> 49\u001b[0m \u001b[39mreturn\u001b[39;00m function(\u001b[39mself\u001b[39m, \u001b[39m*\u001b[39margs, \u001b[39m*\u001b[39m\u001b[39m*\u001b[39mkwargs)\n",
      "File \u001b[1;32mc:\\Users\\ixaka\\miniconda3\\envs\\x3d\\lib\\site-packages\\spectral_cube\\spectral_cube.py:581\u001b[0m, in \u001b[0;36mBaseSpectralCube.sum\u001b[1;34m(self, axis, how, **kwargs)\u001b[0m\n\u001b[0;32m    577\u001b[0m \u001b[39mfrom\u001b[39;00m \u001b[39m.\u001b[39;00m\u001b[39mnp_compat\u001b[39;00m \u001b[39mimport\u001b[39;00m allbadtonan\n\u001b[0;32m    579\u001b[0m projection \u001b[39m=\u001b[39m \u001b[39mself\u001b[39m\u001b[39m.\u001b[39m_naxes_dropped(axis) \u001b[39min\u001b[39;00m (\u001b[39m1\u001b[39m,\u001b[39m2\u001b[39m)\n\u001b[1;32m--> 581\u001b[0m \u001b[39mreturn\u001b[39;00m \u001b[39mself\u001b[39m\u001b[39m.\u001b[39mapply_numpy_function(allbadtonan(np\u001b[39m.\u001b[39mnansum), fill\u001b[39m=\u001b[39mnp\u001b[39m.\u001b[39mnan,\n\u001b[0;32m    582\u001b[0m                                  how\u001b[39m=\u001b[39mhow, axis\u001b[39m=\u001b[39maxis, unit\u001b[39m=\u001b[39m\u001b[39mself\u001b[39m\u001b[39m.\u001b[39munit,\n\u001b[0;32m    583\u001b[0m                                  projection\u001b[39m=\u001b[39mprojection, \u001b[39m*\u001b[39m\u001b[39m*\u001b[39mkwargs)\n",
      "File \u001b[1;32mc:\\Users\\ixaka\\miniconda3\\envs\\x3d\\lib\\site-packages\\spectral_cube\\spectral_cube.py:440\u001b[0m, in \u001b[0;36mBaseSpectralCube.apply_numpy_function\u001b[1;34m(self, function, fill, reduce, how, projection, unit, check_endian, progressbar, includemask, **kwargs)\u001b[0m\n\u001b[0;32m    436\u001b[0m     warnings\u001b[39m.\u001b[39mwarn(\u001b[39m\"\u001b[39m\u001b[39mCannot use how=\u001b[39m\u001b[39m%s\u001b[39;00m\u001b[39m. Using how=cube\u001b[39m\u001b[39m\"\u001b[39m \u001b[39m%\u001b[39m how,\n\u001b[0;32m    437\u001b[0m                   UnsupportedIterationStrategyWarning)\n\u001b[0;32m    439\u001b[0m \u001b[39mif\u001b[39;00m out \u001b[39mis\u001b[39;00m \u001b[39mNone\u001b[39;00m:\n\u001b[1;32m--> 440\u001b[0m     out \u001b[39m=\u001b[39m function(\u001b[39mself\u001b[39m\u001b[39m.\u001b[39m_get_filled_data(fill\u001b[39m=\u001b[39mfill,\n\u001b[0;32m    441\u001b[0m                                          check_endian\u001b[39m=\u001b[39mcheck_endian),\n\u001b[0;32m    442\u001b[0m                    \u001b[39m*\u001b[39m\u001b[39m*\u001b[39mkwargs)\n\u001b[0;32m    444\u001b[0m \u001b[39mif\u001b[39;00m axis \u001b[39mis\u001b[39;00m \u001b[39mNone\u001b[39;00m:\n\u001b[0;32m    445\u001b[0m     \u001b[39m# return is scalar\u001b[39;00m\n\u001b[0;32m    446\u001b[0m     \u001b[39mif\u001b[39;00m unit \u001b[39mis\u001b[39;00m \u001b[39mnot\u001b[39;00m \u001b[39mNone\u001b[39;00m:\n",
      "\u001b[1;31mTypeError\u001b[0m: allbadtonan.<locals>.f() got an unexpected keyword argument 'out'"
     ]
    }
   ],
   "source": [
    "c3.preview2d(HI_cube)"
   ]
  },
  {
   "cell_type": "code",
   "execution_count": 10,
   "id": "788cc0e4",
   "metadata": {
    "collapsed": true
   },
   "outputs": [
    {
     "data": {
      "image/png": "[encoded data removed]",
      "text/plain": [
       "<Figure size 1000x800 with 4 Axes>"
      ]
     },
     "metadata": {},
     "output_type": "display_data"
    }
   ],
   "source": [
    "c3.preview2d(HI_cube.unmasked_data[:].to_value(), vmin1=0.006, vmax1=0.03, vmin2=0.01, vmax2=0.07, norm='asinh')"
   ]
  },
  {
   "cell_type": "code",
   "execution_count": 11,
   "id": "716e3f9b",
   "metadata": {},
   "outputs": [],
   "source": [
    "limx = [0, nx-1]\n",
    "limy = [0, ny-1]\n",
    "limz = [0, nz-1]"
   ]
  },
  {
   "cell_type": "code",
   "execution_count": 5,
   "id": "cc90f836",
   "metadata": {},
   "outputs": [],
   "source": [
    "#HCG31\n",
    "# Limits to crop the cube, no HI there. Subtract 1 to wanted number, e.g. nz-1.\n",
    "limx = [60, nx-61]\n",
    "limy = [100, ny-91]\n",
    "limz = [90, nz-81]"
   ]
  },
  {
   "cell_type": "code",
   "execution_count": null,
   "id": "1e2867ac",
   "metadata": {},
   "outputs": [],
   "source": [
    "#HCG16\n",
    "# Limits to crop the cube, no HI there. Subtract 1 to wanted number, e.g. nz-1.\n",
    "limx = [80, nx-16]\n",
    "limy = [50, ny-11]\n",
    "limz = [0, nz-1]"
   ]
  },
  {
   "cell_type": "code",
   "execution_count": null,
   "id": "14ae7c5f",
   "metadata": {},
   "outputs": [],
   "source": [
    "#HCG91\n",
    "# Limits to crop the cube, no HI there. Subtract 1 to wanted number, e.g. nz-1.\n",
    "limx = [100, nx-101]\n",
    "limy = [100, ny-81]\n",
    "limz = [10, nz-11]"
   ]
  },
  {
   "cell_type": "code",
   "execution_count": 7,
   "id": "122969c2",
   "metadata": {},
   "outputs": [],
   "source": [
    "#borja MRB\n",
    "# Limits to crop the cube, no HI there. Subtract 1 to wanted number, e.g. nz-1.\n",
    "limx = [0, nx-1]\n",
    "limy = [0, ny-1]\n",
    "limz = [3450, nz-111]"
   ]
  },
  {
   "cell_type": "code",
   "execution_count": 8,
   "id": "3943bcdb",
   "metadata": {},
   "outputs": [],
   "source": [
    "ralim = HI_cube.spatial_coordinate_map[1][0,:][limx][::int(np.sign(cubehead[\"CDELT1\"]))]\n",
    "ramean = np.mean(ralim)\n",
    "declim = HI_cube.spatial_coordinate_map[0][:,0][limy][::int(np.sign(cubehead[\"CDELT2\"]))]\n",
    "decmean = np.mean(declim)\n",
    "vlim = HI_cube.spectral_axis[limz][::int(np.sign(dv))]\n",
    "vmean = np.mean(vlim).to('nm').to_value()"
   ]
  },
  {
   "cell_type": "code",
   "execution_count": 9,
   "id": "ebf77bf3",
   "metadata": {},
   "outputs": [],
   "source": [
    "def transpose(array, delta):\n",
    "    dra, ddec, dv = delta\n",
    "    return np.transpose(array, (2,1,0))[::int(np.sign(dra)), ::int(np.sign(ddec)),::int(np.sign(dv))]"
   ]
  },
  {
   "cell_type": "code",
   "execution_count": 10,
   "id": "7bd37a45",
   "metadata": {},
   "outputs": [],
   "source": [
    "# create cropped array and transform units to mJy/beam\n",
    "HI_cube = HI_cube.unmasked_data[limz[0]:limz[1]+1,limy[0]:limy[1]+1,limx[0]:limx[1]+1].to_value() *10**16\n",
    "# Slice the data, transpose to (ra,dec,v) and flip axes if needed (see if step in FITS header is + or -)\n",
    "HI_cube = transpose(HI_cube, (dra,ddec,dv))"
   ]
  },
  {
   "cell_type": "code",
   "execution_count": 11,
   "id": "5ecfb3da",
   "metadata": {},
   "outputs": [
    {
     "name": "stdout",
     "output_type": "stream",
     "text": [
      "(58, 52, 740)\n"
     ]
    }
   ],
   "source": [
    "# Save new dimensions\n",
    "nx_2, ny_2, nz_2 = HI_cube.shape\n",
    "print(HI_cube.shape)"
   ]
  },
  {
   "cell_type": "code",
   "execution_count": 10,
   "id": "9e59a534",
   "metadata": {},
   "outputs": [],
   "source": [
    "c = '0 0 1'\n",
    "# HCG31 all from LVM et al. (2005)\n",
    "gals = {'HCG31a':{'v':4090,'col':c},\n",
    "       'HCG31b':{'v':4122,'col':c},\n",
    "       'HCG31c':{'v':3984,'col':c},\n",
    "        'HCG31g':{'v':4005,'col':c},\n",
    "        'HCG31q':{'v':4090,'col':c}\n",
    "       }"
   ]
  },
  {
   "cell_type": "code",
   "execution_count": null,
   "id": "10dd2771",
   "metadata": {},
   "outputs": [],
   "source": [
    "c = '0 0 1'\n",
    "# HCG16 from Hickson 1992\n",
    "gals = {'HCG16a':{'v':4152,'col':c},\n",
    "       'HCG16b':{'v':3977,'col':c},\n",
    "       'HCG16c':{'v':3851,'col':c},\n",
    "        'HCG16d':{'v':3847,'col':c},\n",
    "        'NGC848':{'v':4001, 'col':c}\n",
    "       }"
   ]
  },
  {
   "cell_type": "code",
   "execution_count": null,
   "id": "3fc18ca5",
   "metadata": {},
   "outputs": [],
   "source": [
    "c = '0 0 1'\n",
    "# HCG91 from Hickson 1992\n",
    "gals = {'HCG91a':{'v':6832,'col':c},\n",
    "       'HCG91b':{'v':7196,'col':c},\n",
    "       'HCG91c':{'v':7319,'col':c},\n",
    "        'HCG91d':{'v':7195,'col':c}\n",
    "       }"
   ]
  },
  {
   "cell_type": "code",
   "execution_count": null,
   "id": "1a2e0bb9",
   "metadata": {},
   "outputs": [],
   "source": [
    "for (k,gal) in enumerate(gals.keys()):\n",
    "\n",
    "    # Go from RA/Dec -> rescaled pixel space !\n",
    "    coords = SkyCoord.from_name(gal)\n",
    "    #coords = SkyCoord(gals[gal]['ra'], gals[gal]['dec'])\n",
    "    #pixcrd = coords.to_pixel(w,1)\n",
    "    \n",
    "    coords.ra.deg = (coords.ra.deg-ramean.to_value())*np.cos(np.radians(declim[0]))*3600\n",
    "    coords.dec.deg = (coords.dec.deg-decmean.to_value())*3600.\n",
    "\n",
    "    gals[gal]['coord'] = np.array([coords.ra.deg, coords.dec.deg, gals[gal]['v']-vmean])"
   ]
  },
  {
   "cell_type": "code",
   "execution_count": 12,
   "id": "fddea91d",
   "metadata": {},
   "outputs": [],
   "source": [
    "coords = np.array([ralim, declim, vlim])"
   ]
  },
  {
   "cell_type": "code",
   "execution_count": 17,
   "id": "1a5c5648",
   "metadata": {},
   "outputs": [],
   "source": [
    "color = c3.create_colormap('CMRmap', isolevels)"
   ]
  },
  {
   "cell_type": "code",
   "execution_count": 24,
   "id": "94f6d26e",
   "metadata": {},
   "outputs": [],
   "source": [
    "meta = {'generator':'create_x3d python module',\n",
    "       'creator':'Name Surname',\n",
    "       'title':cubehead['OBJECT'],\n",
    "        'numberofelements':f'{len(isolevels)} layers',\n",
    "        'description':'HI data cube of %s'%cubehead['OBJECT']\n",
    "       }"
   ]
  },
  {
   "cell_type": "code",
   "execution_count": 19,
   "id": "0fba6a83",
   "metadata": {},
   "outputs": [],
   "source": [
    "x3dname = 'borja_3.x3d'"
   ]
  },
  {
   "cell_type": "code",
   "execution_count": 20,
   "id": "cf2aa79b",
   "metadata": {},
   "outputs": [
    {
     "name": "stdout",
     "output_type": "stream",
     "text": [
      "[[ -6.10790397   0.           6.10790397]\n",
      " [ -5.4672       0.           5.4672    ]\n",
      " [-40.645        0.          40.645     ]]\n"
     ]
    }
   ],
   "source": [
    "file = c3.write_x3d('./cube_x3d/examples/%s'%x3dname, delta_arcsec,\n",
    "                    coords, header=cubehead, units=[\"e16 \"+cubehead[\"BUNIT\"], 'arcsec', 'arcsec', 'angstrom'], meta=None, picking=False)\n",
    "\n",
    "#also need html.func_pick() if picking=True"
   ]
  },
  {
   "cell_type": "code",
   "execution_count": null,
   "id": "baa78dae",
   "metadata": {},
   "outputs": [],
   "source": [
    "survey = ['DSS2 Blue']\n",
    "verts = (coords[0,0], coords[0,1], coords[1,0], coords[1,1])\n",
    "imcol, img_shape, img = c3.get_imcol(position='HCG16', survey=survey, verts=verts,\n",
    "                                     unit='deg', pixels='2500,2500',\n",
    "                         coordinates='J2000',grid=True, gridlabels=True)"
   ]
  },
  {
   "cell_type": "code",
   "execution_count": 21,
   "id": "41363a70",
   "metadata": {},
   "outputs": [],
   "source": [
    "file.make_layers(HI_cube, isolevels, color)\n",
    "file.make_outline()\n",
    "#file.make_galaxies(gals=gals, labels=True)\n",
    "#file.make_image2d(imcol, img_shape)\n",
    "file.make_ticklines()\n",
    "file.make_labels(gals=None, axlab='both') \n",
    "# html.func_scalev(axes) should be same as axlab, not func_axes() though.\n",
    "file.close()"
   ]
  },
  {
   "cell_type": "code",
   "execution_count": 22,
   "id": "be78667c",
   "metadata": {},
   "outputs": [],
   "source": [
    "tabtitle = 'optical'\n",
    "pagetitle = 'optical interactive datacube with X3D'\n",
    "# add in desc for 2d image: <br>\\n\\t Background image: {survey}\n",
    "#desc = f\"Object: {cubehead['OBJECT']}.<t> Telescope: {cubehead['TELESCOP']}. RestFreq = {cubehead['RESTFREQ']/1e6:.4f} MHz.<br>\\n\\t Center: (RA,Dec,V)=({np.round(ramean,5)}, {np.round(decmean,5)}, {np.round(vmean,3)} km/s)\""
   ]
  },
  {
   "cell_type": "code",
   "execution_count": 23,
   "id": "153e26dd",
   "metadata": {},
   "outputs": [],
   "source": [
    "colmaps = ['magma', 'CMRmap', 'inferno', 'plasma', 'viridis', 'Greys',\n",
    "           'Blues', 'OrRd', 'PuRd', 'Reds', 'Spectral', 'Wistia',\n",
    "          'YlGn', 'YlOrRd', 'afmhot', 'autumn', 'cool', 'coolwarm',\n",
    "          'copper', 'cubehelix', 'flag', 'gist_earth', 'gist_heat',\n",
    "          'gist_ncar', 'gist_stern', 'gnuplot', 'gnuplot2', 'hot',\n",
    "          'nipy_spectral', 'prism', 'winter', 'Paired']"
   ]
  },
  {
   "cell_type": "code",
   "execution_count": 24,
   "id": "36d3dc86",
   "metadata": {},
   "outputs": [],
   "source": [
    "html = c3.write_html('./cube_x3d/examples/%s.html'%x3dname.split('.')[0], \n",
    "                    units=[\"e16 \"+cubehead[\"BUNIT\"], 'arcsec', 'arcsec', 'angstrom'],\n",
    "                     tabtitle=tabtitle, pagetitle=pagetitle,\n",
    "                     description=None)"
   ]
  },
  {
   "cell_type": "code",
   "execution_count": 25,
   "id": "1cb18a7d",
   "metadata": {},
   "outputs": [],
   "source": [
    "html.func_layers(len(isolevels))\n",
    "#html.func_galaxies(gals)\n",
    "#html.func_gallab()\n",
    "html.func_grids()\n",
    "html.func_axes('both')\n",
    "#html.func_pick() #for coordinate picking\n",
    "html.start_x3d()\n",
    "html.viewpoints(maxco=(file.diff_coords[0,2], file.diff_coords[1,2]),\n",
    "                vrad=file.diff_coords[2])\n",
    "html.close_x3d(x3dname)\n",
    "html.buttons(isolevels, colormaps=colmaps, hide2d=False, scalev=True, move2d=False)\n",
    "#func_move2dimage, func_colormaps and func_scalev must always go after buttons\n",
    "#html.func_image2d(vmax=file.diff_coords[2,2], scalev=True)\n",
    "html.func_colormaps(isolevels)\n",
    "html.func_scalev(len(isolevels), gals=None, axes='both', coords=file.diff_coords, vmax=None)\n",
    "#html.func_move2dimage(vmax=file.diff_coords[2,2])\n",
    "html.close_html()"
   ]
  }
 ],
 "metadata": {
  "kernelspec": {
   "display_name": "Python 3 (ipykernel)",
   "language": "python",
   "name": "python3"
  },
  "language_info": {
   "codemirror_mode": {
    "name": "ipython",
    "version": 3
   },
   "file_extension": ".py",
   "mimetype": "text/x-python",
   "name": "python",
   "nbconvert_exporter": "python",
   "pygments_lexer": "ipython3",
   "version": "3.10.8"
  }
 },
 "nbformat": 4,
 "nbformat_minor": 5
}
