{
 "cells": [
  {
   "cell_type": "markdown",
   "metadata": {},
   "source": [
    "# **VisL3D** example for many spectral lines\n",
    "\n",
    "This notebook shows different ways to create 3D visualisations with many spectral lines with **VisL3D**.\n",
    "\n",
    "We will use *vis.prep_mult* and *vis.prep_overlay* to obtain the Cube objects and we will also create the Cube object directly."
   ]
  },
  {
   "cell_type": "code",
   "execution_count": 1,
   "metadata": {},
   "outputs": [],
   "source": [
    "from visl3d import visual as vis\n",
    "from visl3d import misc\n",
    "import astropy.units as u\n",
    "from spectral_cube import SpectralCube\n",
    "import numpy as np"
   ]
  },
  {
   "cell_type": "markdown",
   "metadata": {},
   "source": [
    "## Multiple lines from FITS"
   ]
  },
  {
   "cell_type": "markdown",
   "metadata": {},
   "source": [
    "Create a visualisation with multiple lines by giving the spectral (mandatory) and spatial (optional) limits for different subcubes.<br>"
   ]
  },
  {
   "cell_type": "code",
   "execution_count": null,
   "metadata": {},
   "outputs": [
    {
     "name": "stdout",
     "output_type": "stream",
     "text": [
      "Warning: BUNIT or BTYPE not in header\n"
     ]
    }
   ],
   "source": [
    "lines = [r'$[NII]_1$', r'$H\\alpha$', r'$[NII]_2$']\n",
    "l_isolevels = [[20,40,60,80], [20,40,60,80], [20,40,60,80]]\n",
    "spectral_lims = [[1500,1700],[1750,1800],[1850,2100]]\n",
    "spatial_lims = [[[4,53],[5,50]], [[30,56],[3,43]], [[23,44],[2,50]]]\n",
    "\n",
    "cube = vis.prep_mult('NII_Ha_fluxHRR_corr.fits', spectral_lims=spectral_lims, unit='percent', l_isolevels=l_isolevels, lines=lines, spatial_lims=spatial_lims, image2d='DSS2 Blue', im2dcolor='cividis')"
   ]
  },
  {
   "cell_type": "code",
   "execution_count": null,
   "metadata": {},
   "outputs": [],
   "source": [
    "vis.createVis(cube, 'mult_fits', description=misc.cube_info(cube))"
   ]
  },
  {
   "cell_type": "markdown",
   "metadata": {},
   "source": [
    "## Multiple lines from array"
   ]
  },
  {
   "cell_type": "markdown",
   "metadata": {},
   "source": [
    "Create a visualisation with multiple spectral lines by giving the data array and the header instead of the FITS file. It is useful to make transformations to the data before creating the visualisation, e.g., to apply a mask.\n",
    "\n",
    "Note that in this example the lines are not real."
   ]
  },
  {
   "cell_type": "code",
   "execution_count": 8,
   "metadata": {},
   "outputs": [
    {
     "name": "stderr",
     "output_type": "stream",
     "text": [
      "WARNING: UnitsWarning: 'erg/cm2/s/A' contains multiple slashes, which is discouraged by the FITS standard [astropy.units.format.generic]\n"
     ]
    }
   ],
   "source": [
    "file = SpectralCube.read('NII_Ha_fluxHRR_corr.fits')\n",
    "header = file.header\n",
    "data = file.unmasked_data[:].to_value()"
   ]
  },
  {
   "cell_type": "code",
   "execution_count": 9,
   "metadata": {},
   "outputs": [
    {
     "name": "stdout",
     "output_type": "stream",
     "text": [
      "Warning: BUNIT or BTYPE not in header\n"
     ]
    },
    {
     "name": "stderr",
     "output_type": "stream",
     "text": [
      "WARNING: InputWarning: Coordinate string is being interpreted as an ICRS coordinate. [astroquery.utils.commons]\n"
     ]
    }
   ],
   "source": [
    "lines = [r'$[NII]_1$', r'$H\\alpha$', r'$[NII]_2$']\n",
    "l_isolevels = [[20,40,60,80], [20,40,60,80], [20,40,60,80]]\n",
    "\n",
    "cube = vis.prep_mult(data, spectral_lims=[[1500,1700],[1750,1800],[1850,2100]], header=header, unit='percent', l_isolevels=l_isolevels, lines=lines, spatial_lims=[[[4,53],[5,50]], [[30,56],[3,43]], [[23,44],[2,50]]], image2d='DSS2 Blue', im2dcolor='cividis')"
   ]
  },
  {
   "cell_type": "code",
   "execution_count": 10,
   "metadata": {},
   "outputs": [],
   "source": [
    "vis.createVis(cube, 'mult_array', description=misc.cube_info(cube))"
   ]
  },
  {
   "cell_type": "markdown",
   "metadata": {},
   "source": [
    "## Overlay from FITS, given lines"
   ]
  },
  {
   "cell_type": "markdown",
   "metadata": {},
   "source": [
    "Create an overlay of multiple spectral lines from a FITS files by introducing the position of the spectral lines and the witdth to be plotted around the line."
   ]
  },
  {
   "cell_type": "code",
   "execution_count": 11,
   "metadata": {},
   "outputs": [
    {
     "name": "stdout",
     "output_type": "stream",
     "text": [
      "Warning: BUNIT or BTYPE not in header\n"
     ]
    },
    {
     "name": "stderr",
     "output_type": "stream",
     "text": [
      "WARNING: UnitsWarning: 'erg/cm2/s/A' contains multiple slashes, which is discouraged by the FITS standard [astropy.units.format.generic]\n"
     ]
    }
   ],
   "source": [
    "lines = {'NII': (6583.45*u.Angstrom, 80), 'Ha': (6562.05*u.Angstrom, 80)}\n",
    "l_isolevels = [[20,40,60,80], [20,40,60,80]]\n",
    "\n",
    "cube = vis.prep_overlay('NII_Ha_fluxHRR_corr.fits', lines=lines, unit='percent', l_isolevels=l_isolevels, spatial_lims=[[[4,53],[5,50]], [[30,56],[3,43]]], image2d='DSS2 Blue', im2dcolor='cividis')"
   ]
  },
  {
   "cell_type": "code",
   "execution_count": 12,
   "metadata": {},
   "outputs": [],
   "source": [
    "vis.createVis(cube, 'overlay_fits_lines', description=misc.cube_info(cube))"
   ]
  },
  {
   "cell_type": "markdown",
   "metadata": {},
   "source": [
    "## Overlay from FITS, given spectral_lims"
   ]
  },
  {
   "cell_type": "markdown",
   "metadata": {},
   "source": [
    "Create an overlay of multiple spectral lines from a FITS files by introducing the spectral (mandatory) and spatial (optional) limits for different subcubes."
   ]
  },
  {
   "cell_type": "code",
   "execution_count": 13,
   "metadata": {},
   "outputs": [
    {
     "name": "stdout",
     "output_type": "stream",
     "text": [
      "Warning: BUNIT or BTYPE not in header\n"
     ]
    }
   ],
   "source": [
    "speclims = [[1500,1700],[1750,1800],[1850,2100]]\n",
    "l_isolevels = [[20,40,60,80], [20,40,60,80], [20,40,60,80]]\n",
    "\n",
    "cube = vis.prep_overlay('NII_Ha_fluxHRR_corr.fits', spectral_lims=speclims, unit='percent', l_isolevels=l_isolevels, spatial_lims=[[[4,53],[5,50]], [[30,56],[3,43]], [[23,44],[2,50]]], image2d='DSS2 Blue', im2dcolor='cividis')"
   ]
  },
  {
   "cell_type": "code",
   "execution_count": 14,
   "metadata": {},
   "outputs": [],
   "source": [
    "vis.createVis(cube, 'ovelay_fits_spectral', description=misc.cube_info(cube))"
   ]
  },
  {
   "cell_type": "markdown",
   "metadata": {},
   "source": [
    "## Overlay with array"
   ]
  },
  {
   "cell_type": "markdown",
   "metadata": {},
   "source": [
    "Create an overlay of multiple spectral lines from different FITS files by introducing the data as arrays in the Cube object.<br>\n",
    "In this example we will overlay three lines, OIII, NII and $H\\alpha$ available in two different FITS files.\n",
    "\n",
    "First, we read the data from the FITS files (we use Spectral Cube)."
   ]
  },
  {
   "cell_type": "code",
   "execution_count": 2,
   "metadata": {},
   "outputs": [
    {
     "name": "stderr",
     "output_type": "stream",
     "text": [
      "WARNING: UnitsWarning: 'erg/cm2/s/A' contains multiple slashes, which is discouraged by the FITS standard [astropy.units.format.generic]\n",
      "WARNING: UnitsWarning: 'erg/cm2/s/A' contains multiple slashes, which is discouraged by the FITS standard [astropy.units.format.generic]\n"
     ]
    }
   ],
   "source": [
    "cube1 = SpectralCube.read('OIII_fluxMRB_corr.fits')\n",
    "cube2 = SpectralCube.read('NII_Ha_fluxHRR_corr.fits')"
   ]
  },
  {
   "cell_type": "markdown",
   "metadata": {},
   "source": [
    "There are different ways to find the location of the lines and select a subcube.<br>\n",
    "**ViSL3D** includes a function to find nearest pixel to a given line and the values of the spectral axis.<br>\n",
    "We define the lines and use that function to find the slices of those lines."
   ]
  },
  {
   "cell_type": "code",
   "execution_count": 3,
   "metadata": {},
   "outputs": [
    {
     "name": "stdout",
     "output_type": "stream",
     "text": [
      "(np.float64(5006.789999999999), np.int64(3988)) (np.float64(6583.436399999999), np.int64(1985)) (np.float64(6562.008399999999), np.int64(1765))\n"
     ]
    }
   ],
   "source": [
    "line1 = 5006.843 #OIII 1\n",
    "line2 = 6583.45 #NII 2\n",
    "line3 = 6562.05 #Halpha\n",
    "\n",
    "line1 = misc.find_nearest(cube1.spectral_axis, line1)\n",
    "line2 = misc.find_nearest(cube2.spectral_axis, line2)\n",
    "line3 = misc.find_nearest(cube2.spectral_axis, line3)\n",
    "print(line1, line2, line3)"
   ]
  },
  {
   "cell_type": "markdown",
   "metadata": {},
   "source": [
    "Knowing the position of the line, we select 80 at each side of the line to create the subcube.\n",
    "Then, we create a list with the subcubes.\n",
    "\n",
    "\n",
    "Remember that the order of the cubes introduced in **ViSL3D** must be [RA, DAC, Z], that's why we transpose the subcubes."
   ]
  },
  {
   "cell_type": "code",
   "execution_count": 4,
   "metadata": {},
   "outputs": [],
   "source": [
    "hw = 80\n",
    "\n",
    "oiii = cube1.unmasked_data[line1[1]-hw:line1[1]+hw,:,:].to_value().T\n",
    "nii = cube2.unmasked_data[line2[1]-hw:line2[1]+hw,:,:].to_value().T\n",
    "ha = cube2.unmasked_data[line3[1]-hw:line3[1]+hw,:,:].to_value().T\n",
    "\n",
    "l_cubes = [oiii/np.nanmax(oiii)*100, nii/np.nanmax(nii)*100, ha/np.nanmax(ha)*100]"
   ]
  },
  {
   "cell_type": "markdown",
   "metadata": {},
   "source": [
    "The next parameter we need for the Cube object is the coordinates.\n",
    "We use all the field of view."
   ]
  },
  {
   "cell_type": "code",
   "execution_count": 5,
   "metadata": {},
   "outputs": [],
   "source": [
    "spatial = cube1.world_extrema.to_value()"
   ]
  },
  {
   "cell_type": "markdown",
   "metadata": {},
   "source": [
    "The size of our overlay is twice 80 pixels. Therefore we need to calculate the coordinates of those pixels.<br>\n",
    "Only the difference is important, the real values are not since all lines are overlaid."
   ]
  },
  {
   "cell_type": "code",
   "execution_count": 6,
   "metadata": {},
   "outputs": [],
   "source": [
    "spectral = cube1.header['CDELT3'] * hw * 2\n",
    "spectral = np.array([0, spectral])"
   ]
  },
  {
   "cell_type": "markdown",
   "metadata": {},
   "source": [
    "We join the spatial and spectral coordinates"
   ]
  },
  {
   "cell_type": "code",
   "execution_count": 7,
   "metadata": {},
   "outputs": [],
   "source": [
    "coords = np.vstack([spatial, spectral])\n",
    "coords = np.sort(coords)"
   ]
  },
  {
   "cell_type": "code",
   "execution_count": 8,
   "metadata": {},
   "outputs": [
    {
     "data": {
      "text/plain": [
       "array([[ 0.02154709,  0.02494047],\n",
       "       [ 0.42205955,  0.42509689],\n",
       "       [ 0.        , 17.6       ]])"
      ]
     },
     "execution_count": 8,
     "metadata": {},
     "output_type": "execute_result"
    }
   ],
   "source": [
    "coords"
   ]
  },
  {
   "cell_type": "markdown",
   "metadata": {},
   "source": [
    "Now we create the rest of parameters:"
   ]
  },
  {
   "cell_type": "code",
   "execution_count": 21,
   "metadata": {},
   "outputs": [],
   "source": [
    "\n",
    "l_isolevels = [[20,40,60,80], [20,40,60,80], [20,40,60,80]]\n",
    "cmaps = ['Greens', 'Blues', 'Reds']\n",
    "units = ['percent', cube1.header['CUNIT1'], cube1.header['CUNIT2'], cube1.header['CUNIT3']]\n",
    "mags = ['Intensity', cube1.header['CTYPE1'], cube1.header['CTYPE2'], cube1.header['CTYPE3']]\n",
    "delta = [cube1.header['CDELT1'], cube1.header['CDELT2'], cube1.header['CDELT3']]\n",
    "\n",
    "# In this case the cube.lines attribute is only used to display them in the web interface; it is optional\n",
    "lines = {'OIII': (line1*u.Angstrom, hw), 'NII': (line2*u.Angstrom, hw), r'H$\\alpha$': (line3*u.Angstrom, hw)}"
   ]
  },
  {
   "cell_type": "markdown",
   "metadata": {},
   "source": [
    "Finally, we create the cube object and the visualisation"
   ]
  },
  {
   "cell_type": "code",
   "execution_count": 22,
   "metadata": {},
   "outputs": [],
   "source": [
    "cube = vis.Cube(l_cubes, coords, l_isolevels, cmaps, units, mags, delta, lines=lines)\n",
    "\n",
    "vis.createVis(cube, 'overlay_array', description=misc.cube_info(cube))"
   ]
  },
  {
   "cell_type": "code",
   "execution_count": 12,
   "metadata": {},
   "outputs": [],
   "source": []
  }
 ],
 "metadata": {
  "kernelspec": {
   "display_name": "x3d",
   "language": "python",
   "name": "python3"
  },
  "language_info": {
   "codemirror_mode": {
    "name": "ipython",
    "version": 3
   },
   "file_extension": ".py",
   "mimetype": "text/x-python",
   "name": "python",
   "nbconvert_exporter": "python",
   "pygments_lexer": "ipython3",
   "version": "3.10.8"
  }
 },
 "nbformat": 4,
 "nbformat_minor": 2
}
