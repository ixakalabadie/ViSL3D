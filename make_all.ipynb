{
 "cells": [
  {
   "cell_type": "code",
   "execution_count": 1,
   "id": "b30ee833",
   "metadata": {},
   "outputs": [],
   "source": [
    "import cube_x3d as c3\n",
    "import numpy as np"
   ]
  },
  {
   "cell_type": "code",
   "execution_count": 55,
   "id": "c69ef7f4",
   "metadata": {},
   "outputs": [
    {
     "name": "stdout",
     "output_type": "stream",
     "text": [
      "C:\\Users\\ixaka\\Documents\\Visualization\n"
     ]
    }
   ],
   "source": [
    "%cd C:\\\\Users\\\\ixaka\\\\Documents\\\\Visualization"
   ]
  },
  {
   "cell_type": "code",
   "execution_count": 3,
   "id": "047536c8",
   "metadata": {},
   "outputs": [],
   "source": [
    "#HCG31\n",
    "lims = np.array([[60, 500-61],\n",
    "                 [100, 500-91],\n",
    "                 [90, 265-81]])"
   ]
  },
  {
   "cell_type": "code",
   "execution_count": 4,
   "id": "bf98a1cc",
   "metadata": {},
   "outputs": [],
   "source": [
    "isolevels = np.array([1.5, 3.5, 6.5, 11])"
   ]
  },
  {
   "cell_type": "code",
   "execution_count": 5,
   "id": "c9566400",
   "metadata": {},
   "outputs": [],
   "source": [
    "c = '0 0 1'\n",
    "# HCG31 all from LVM et al. (2005)\n",
    "gals = {'HCG31a':{'v':4090,'col':c},\n",
    "       'HCG31b':{'v':4122,'col':c},\n",
    "       'HCG31c':{'v':3984,'col':c},\n",
    "        'HCG31g':{'v':4005,'col':c},\n",
    "        'HCG31q':{'v':4090,'col':c}\n",
    "       }"
   ]
  },
  {
   "cell_type": "code",
   "execution_count": 77,
   "id": "031ddbfe",
   "metadata": {},
   "outputs": [
    {
     "name": "stderr",
     "output_type": "stream",
     "text": [
      "WARNING: StokesWarning: Cube is a Stokes cube, returning spectral cube for I component [spectral_cube.io.core]\n"
     ]
    },
    {
     "name": "stdout",
     "output_type": "stream",
     "text": [
      "[-1.5         1.5        -5.51379627]\n",
      "1534.6097733656006 1024.6133497168648 966.0773573773167 1488.1142089866362\n"
     ]
    }
   ],
   "source": [
    "file = c3.make_all('HCG31.fits', isolevels, gals, image2d=(['DSS2 Blue'], '2500,2500'), lims=lims)"
   ]
  },
  {
   "cell_type": "code",
   "execution_count": 78,
   "id": "f1e4bb50",
   "metadata": {},
   "outputs": [],
   "source": [
    "file.choose_buttons(picking=False)"
   ]
  },
  {
   "cell_type": "code",
   "execution_count": 79,
   "id": "f540b3c0",
   "metadata": {},
   "outputs": [],
   "source": [
    "file.make('cube_x3d/examples/HCG31_v2')"
   ]
  }
 ],
 "metadata": {
  "kernelspec": {
   "display_name": "Python 3 (ipykernel)",
   "language": "python",
   "name": "python3"
  },
  "language_info": {
   "codemirror_mode": {
    "name": "ipython",
    "version": 3
   },
   "file_extension": ".py",
   "mimetype": "text/x-python",
   "name": "python",
   "nbconvert_exporter": "python",
   "pygments_lexer": "ipython3",
   "version": "3.10.8"
  }
 },
 "nbformat": 4,
 "nbformat_minor": 5
}
