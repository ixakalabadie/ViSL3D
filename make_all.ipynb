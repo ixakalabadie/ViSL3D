{
 "cells": [
  {
   "cell_type": "code",
   "execution_count": 1,
   "id": "b30ee833",
   "metadata": {},
   "outputs": [],
   "source": [
    "import cube_x3d as c3\n",
    "import numpy as np"
   ]
  },
  {
   "cell_type": "code",
   "execution_count": 2,
   "id": "c69ef7f4",
   "metadata": {},
   "outputs": [
    {
     "name": "stdout",
     "output_type": "stream",
     "text": [
      "C:\\Users\\ixaka\\Documents\\Visualization\n"
     ]
    }
   ],
   "source": [
    "%cd C:\\\\Users\\\\ixaka\\\\Documents\\\\Visualization"
   ]
  },
  {
   "cell_type": "code",
   "execution_count": 3,
   "id": "047536c8",
   "metadata": {},
   "outputs": [],
   "source": [
    "#HCG31\n",
    "name = \"HCG31\"\n",
    "lims = np.array([[60, 500-61],\n",
    "                 [100, 500-91],\n",
    "                 [90, 265-81]])\n",
    "c = '0 0 1'\n",
    "# HCG31 all from LVM et al. (2005)\n",
    "gals = {'HCG31a':{'v':4090,'col':c},\n",
    "       'HCG31b':{'v':4122,'col':c},\n",
    "       'HCG31c':{'v':3984,'col':c},\n",
    "        'HCG31g':{'v':4005,'col':c},\n",
    "        'HCG31q':{'v':4090,'col':c}\n",
    "       }\n",
    "isolevels = [1.5, 3.5, 6.5, 11]"
   ]
  },
  {
   "cell_type": "code",
   "execution_count": 27,
   "id": "4896c48c",
   "metadata": {},
   "outputs": [],
   "source": [
    "#HCG16\n",
    "# Limits to crop the cube, no HI there. Subtract 1 to wanted number, e.g. nz-1.\n",
    "name = \"HCG16\"\n",
    "lims = np.array([[80, 315-16],\n",
    "                [50, 280-11],\n",
    "                [0, 133-1]])\n",
    "c = '0 0 1'\n",
    "# HCG16 from Hickson 1992\n",
    "gals = {'HCG16a':{'v':4152,'col':c},\n",
    "       'HCG16b':{'v':3977,'col':c},\n",
    "       'HCG16c':{'v':3851,'col':c},\n",
    "        'HCG16d':{'v':3847,'col':c},\n",
    "        'NGC848':{'v':4001, 'col':c}\n",
    "       }\n",
    "isolevels = [1.5, 4.5, 8.5, 13]"
   ]
  },
  {
   "cell_type": "code",
   "execution_count": 23,
   "id": "40d3f7d6",
   "metadata": {},
   "outputs": [],
   "source": [
    "#HCG91\n",
    "# Limits to crop the cube, no HI there. Subtract 1 to wanted number, e.g. nz-1.\n",
    "name = \"HCG91\"\n",
    "lims = np.array([[100, 256-101],\n",
    "                 [100, 256-81],\n",
    "                 [10, 58-11]])\n",
    "c = '0 0 1'\n",
    "# HCG91 from Hickson 1992\n",
    "gals = {'HCG91a':{'v':6832,'col':c},\n",
    "       'HCG91b':{'v':7196,'col':c},\n",
    "       'HCG91c':{'v':7319,'col':c},\n",
    "        'HCG91d':{'v':7195,'col':c}\n",
    "       }\n",
    "isolevels = [1.5, 2.5, 3.5, 6]"
   ]
  },
  {
   "cell_type": "code",
   "execution_count": 4,
   "id": "031ddbfe",
   "metadata": {},
   "outputs": [
    {
     "name": "stderr",
     "output_type": "stream",
     "text": [
      "WARNING: StokesWarning: Cube is a Stokes cube, returning spectral cube for I component [spectral_cube.io.core]\n"
     ]
    },
    {
     "name": "stdout",
     "output_type": "stream",
     "text": [
      "Cube deltas = [-1.5         1.5        -5.51379627] in arcsec,arcsec and km/s\n",
      "Data in mJy / beam\n",
      "Automatic isolevels = [1.876082992553711, 3.752165985107422, 6.253609975179036, 12.507219950358072]\n",
      "Downloading image...\n",
      "Done.\n"
     ]
    }
   ],
   "source": [
    "file = c3.make_all(name+'.fits', isolevels=None, gals=gals, image2d=(['DSS2 Blue'], '3000,3000'), lims=lims)"
   ]
  },
  {
   "cell_type": "code",
   "execution_count": 5,
   "id": "f1e4bb50",
   "metadata": {},
   "outputs": [],
   "source": [
    "file.choose_buttons(galaxies=True, gallab=True, picking=True)"
   ]
  },
  {
   "cell_type": "code",
   "execution_count": 6,
   "id": "f540b3c0",
   "metadata": {},
   "outputs": [],
   "source": [
    "file.make('cube_x3d/examples/'+name+'_picking',)"
   ]
  },
  {
   "cell_type": "code",
   "execution_count": null,
   "id": "c15c50e7",
   "metadata": {},
   "outputs": [],
   "source": []
  },
  {
   "cell_type": "code",
   "execution_count": null,
   "id": "674c9afe",
   "metadata": {},
   "outputs": [],
   "source": []
  },
  {
   "cell_type": "code",
   "execution_count": null,
   "id": "675b2fbb",
   "metadata": {},
   "outputs": [],
   "source": []
  }
 ],
 "metadata": {
  "kernelspec": {
   "display_name": "Python 3 (ipykernel)",
   "language": "python",
   "name": "python3"
  },
  "language_info": {
   "codemirror_mode": {
    "name": "ipython",
    "version": 3
   },
   "file_extension": ".py",
   "mimetype": "text/x-python",
   "name": "python",
   "nbconvert_exporter": "python",
   "pygments_lexer": "ipython3",
   "version": "3.10.8"
  }
 },
 "nbformat": 4,
 "nbformat_minor": 5
}
