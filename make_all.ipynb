{
 "cells": [
  {
   "cell_type": "code",
   "execution_count": 2,
   "id": "b30ee833",
   "metadata": {},
   "outputs": [],
   "source": [
    "import cube_x3d as c3\n",
    "import numpy as np"
   ]
  },
  {
   "cell_type": "code",
   "execution_count": 3,
   "id": "c69ef7f4",
   "metadata": {},
   "outputs": [
    {
     "name": "stdout",
     "output_type": "stream",
     "text": [
      "C:\\Users\\ixaka\\Documents\\Visualization\n"
     ]
    }
   ],
   "source": [
    "%cd C:\\\\Users\\\\ixaka\\\\Documents\\\\Visualization"
   ]
  },
  {
   "cell_type": "code",
   "execution_count": 3,
   "id": "047536c8",
   "metadata": {},
   "outputs": [],
   "source": [
    "#HCG31\n",
    "lims = np.array([[60, 500-61],\n",
    "                 [100, 500-91],\n",
    "                 [90, 265-81]])"
   ]
  },
  {
   "cell_type": "code",
   "execution_count": 9,
   "id": "bf98a1cc",
   "metadata": {},
   "outputs": [],
   "source": [
    "isolevels = np.array([1.5, 3.5, 6.5, 11])"
   ]
  },
  {
   "cell_type": "code",
   "execution_count": null,
   "id": "c9566400",
   "metadata": {},
   "outputs": [],
   "source": [
    "c = '0 0 1'\n",
    "# HCG31 all from LVM et al. (2005)\n",
    "gals = {'HCG31a':{'v':4090,'col':c},\n",
    "       'HCG31b':{'v':4122,'col':c},\n",
    "       'HCG31c':{'v':3984,'col':c},\n",
    "        'HCG31g':{'v':4005,'col':c},\n",
    "        'HCG31q':{'v':4090,'col':c}\n",
    "       }"
   ]
  },
  {
   "cell_type": "code",
   "execution_count": 3,
   "id": "f72dde91",
   "metadata": {},
   "outputs": [],
   "source": [
    "gals = ['HCG31a', 'HCG31b', 'HCG31c', 'HCG31g', 'HCG31q']"
   ]
  },
  {
   "cell_type": "code",
   "execution_count": 4,
   "id": "b74ca794",
   "metadata": {},
   "outputs": [],
   "source": [
    "#(['DSS2 Blue'], '2500,2500')\n",
    "un = np.array([-1,'arcsec', 'arcsec', 'angstrom'])"
   ]
  },
  {
   "cell_type": "code",
   "execution_count": 5,
   "id": "031ddbfe",
   "metadata": {},
   "outputs": [
    {
     "name": "stderr",
     "output_type": "stream",
     "text": [
      "WARNING: UnitsWarning: 'erg/cm2/s/A' contains multiple slashes, which is discouraged by the FITS standard [astropy.units.format.generic]\n"
     ]
    },
    {
     "name": "stdout",
     "output_type": "stream",
     "text": [
      "[[2.15470951e-02 2.49404672e-02]\n",
      " [4.22059556e-01 4.25096889e-01]\n",
      " [6.39009740e+03 6.80882000e+03]]\n",
      "Automatic isolevels = [0.4984706732395674, 0.9969413464791348, 1.661568910798558, 3.323137821597116]\n"
     ]
    }
   ],
   "source": [
    "file = c3.main('HCG31.fits', isolevels=None, units=un,\n",
    "                gals=None, image2d=None, lims=None)"
   ]
  },
  {
   "cell_type": "code",
   "execution_count": 6,
   "id": "f1e4bb50",
   "metadata": {},
   "outputs": [],
   "source": [
    "file.choose_buttons(picking=False, galaxies=False, gallab=False, image2d=False, move2d=False)"
   ]
  },
  {
   "cell_type": "code",
   "execution_count": 7,
   "id": "f540b3c0",
   "metadata": {},
   "outputs": [
    {
     "name": "stdout",
     "output_type": "stream",
     "text": [
      "[[  -6.10790397    0.            6.10790397]\n",
      " [  -5.4672        0.            5.4672    ]\n",
      " [-209.3613        0.          209.3613    ]]\n"
     ]
    }
   ],
   "source": [
    "file.make('cube_x3d/examples/HCG31_te')"
   ]
  }
 ],
 "metadata": {
  "kernelspec": {
   "display_name": "Python 3 (ipykernel)",
   "language": "python",
   "name": "python3"
  },
  "language_info": {
   "codemirror_mode": {
    "name": "ipython",
    "version": 3
   },
   "file_extension": ".py",
   "mimetype": "text/x-python",
   "name": "python",
   "nbconvert_exporter": "python",
   "pygments_lexer": "ipython3",
   "version": "3.10.8"
  }
 },
 "nbformat": 4,
 "nbformat_minor": 5
}
