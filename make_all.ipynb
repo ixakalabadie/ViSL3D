{
 "cells": [
  {
   "cell_type": "code",
   "execution_count": 1,
   "id": "b30ee833",
   "metadata": {},
   "outputs": [],
   "source": [
    "import cube_x3d as c3\n",
    "import numpy as np"
   ]
  },
  {
   "cell_type": "code",
   "execution_count": 55,
   "id": "c69ef7f4",
   "metadata": {},
   "outputs": [
    {
     "name": "stdout",
     "output_type": "stream",
     "text": [
      "C:\\Users\\ixaka\\Documents\\Visualization\n"
     ]
    }
   ],
   "source": [
    "%cd C:\\\\Users\\\\ixaka\\\\Documents\\\\Visualization"
   ]
  },
  {
   "cell_type": "code",
   "execution_count": 2,
   "id": "3bed2bec",
   "metadata": {},
   "outputs": [
    {
     "name": "stdout",
     "output_type": "stream",
     "text": [
      "/home/ixakalabadie/Visualization\n"
     ]
    }
   ],
   "source": [
    "%cd .."
   ]
  },
  {
   "cell_type": "code",
   "execution_count": 3,
   "id": "047536c8",
   "metadata": {},
   "outputs": [],
   "source": [
    "#HCG31\n",
    "lims = np.array([[60, 500-61],\n",
    "                 [100, 500-91],\n",
    "                 [90, 265-81]])"
   ]
  },
  {
   "cell_type": "code",
   "execution_count": 4,
   "id": "bf98a1cc",
   "metadata": {},
   "outputs": [],
   "source": [
    "isolevels = np.array([1.5, 3.5, 6.5, 11])"
   ]
  },
  {
   "cell_type": "code",
   "execution_count": 5,
   "id": "c9566400",
   "metadata": {},
   "outputs": [],
   "source": [
    "c = '0 0 1'\n",
    "# HCG31 all from LVM et al. (2005)\n",
    "gals = {'HCG31a':{'v':4090,'col':c},\n",
    "       'HCG31b':{'v':4122,'col':c},\n",
    "       'HCG31c':{'v':3984,'col':c},\n",
    "        'HCG31g':{'v':4005,'col':c},\n",
    "        'HCG31q':{'v':4090,'col':c}\n",
    "       }"
   ]
  },
  {
   "cell_type": "code",
   "execution_count": null,
   "id": "ebb8c661",
   "metadata": {},
   "outputs": [],
   "source": [
    "result_table = Simbad.query_object(crit)\n",
    "for gal in result_table:\n",
    "    galcoords = SkyCoord(ra=gal['RA'], dec=result_table[2]['DEC'], unit=\"hour,degree\")\n",
    "    galra = (galcoords.ra-ramean)*np.cos(declim[0].to('rad'))\n",
    "    galdec = (galcoords.dec-decmean)\n",
    "    gals[gal['MAIN_ID']]['coord']= np.array([galra.to('arcsec').to_value(), galdec.to('arcsec').to_value(), 0])"
   ]
  },
  {
   "cell_type": "code",
   "execution_count": 4,
   "id": "031ddbfe",
   "metadata": {},
   "outputs": [
    {
     "name": "stderr",
     "output_type": "stream",
     "text": [
      "WARNING: StokesWarning: Cube is a Stokes cube, returning spectral cube for I component [spectral_cube.io.core]\n"
     ]
    },
    {
     "name": "stdout",
     "output_type": "stream",
     "text": [
      "ra < 75.3247713293368 & ra > 75.48314654748982 & dec < -4.319159630701214 & dec > -4.1904096047214585 & maintype = G\n"
     ]
    },
    {
     "name": "stderr",
     "output_type": "stream",
     "text": [
      "/home/ixakalabadie/miniconda3/envs/x3d/lib/python3.11/site-packages/astroquery/simbad/core.py:135: UserWarning: Warning: The script line number 3 raised an error (recorded in the `errors` attribute of the result table): 'ra <  75.3247713293368 & ra  > 75.48314654748982 & dec <  -4.319159630701214 & dec  > -4.1904096047214585 & maintype = G': No known catalog could be found\n",
      "  warnings.warn(\"Warning: The script line number %i raised \"\n"
     ]
    },
    {
     "ename": "TypeError",
     "evalue": "'NoneType' object is not iterable",
     "output_type": "error",
     "traceback": [
      "\u001b[0;31m---------------------------------------------------------------------------\u001b[0m",
      "\u001b[0;31mTypeError\u001b[0m                                 Traceback (most recent call last)",
      "Cell \u001b[0;32mIn[4], line 1\u001b[0m\n\u001b[0;32m----> 1\u001b[0m file \u001b[38;5;241m=\u001b[39m \u001b[43mc3\u001b[49m\u001b[38;5;241;43m.\u001b[39;49m\u001b[43mmake_all\u001b[49m\u001b[43m(\u001b[49m\u001b[38;5;124;43m'\u001b[39;49m\u001b[38;5;124;43mHCG31.fits\u001b[39;49m\u001b[38;5;124;43m'\u001b[39;49m\u001b[43m,\u001b[49m\u001b[43m \u001b[49m\u001b[43misolevels\u001b[49m\u001b[38;5;241;43m=\u001b[39;49m\u001b[38;5;28;43;01mNone\u001b[39;49;00m\u001b[43m,\u001b[49m\u001b[43m \u001b[49m\u001b[43mgals\u001b[49m\u001b[38;5;241;43m=\u001b[39;49m\u001b[38;5;124;43m'\u001b[39;49m\u001b[38;5;124;43mquery\u001b[39;49m\u001b[38;5;124;43m'\u001b[39;49m\u001b[43m,\u001b[49m\u001b[43m \u001b[49m\u001b[43mimage2d\u001b[49m\u001b[38;5;241;43m=\u001b[39;49m\u001b[43m(\u001b[49m\u001b[43m[\u001b[49m\u001b[38;5;124;43m'\u001b[39;49m\u001b[38;5;124;43mDSS2 Blue\u001b[39;49m\u001b[38;5;124;43m'\u001b[39;49m\u001b[43m]\u001b[49m\u001b[43m,\u001b[49m\u001b[43m \u001b[49m\u001b[38;5;124;43m'\u001b[39;49m\u001b[38;5;124;43m2500,2500\u001b[39;49m\u001b[38;5;124;43m'\u001b[39;49m\u001b[43m)\u001b[49m\u001b[43m,\u001b[49m\u001b[43m \u001b[49m\u001b[43mlims\u001b[49m\u001b[38;5;241;43m=\u001b[39;49m\u001b[43mlims\u001b[49m\u001b[43m)\u001b[49m\n",
      "File \u001b[0;32m~/Visualization/cube_x3d/cube_x3d.py:988\u001b[0m, in \u001b[0;36mmake_all.__init__\u001b[0;34m(self, fits, isolevels, gals, image2d, lims, unit)\u001b[0m\n\u001b[1;32m    986\u001b[0m \u001b[38;5;28mprint\u001b[39m(crit)\n\u001b[1;32m    987\u001b[0m result_table \u001b[38;5;241m=\u001b[39m Simbad\u001b[38;5;241m.\u001b[39mquery_object(crit)\n\u001b[0;32m--> 988\u001b[0m \u001b[38;5;28;01mfor\u001b[39;00m gal \u001b[38;5;129;01min\u001b[39;00m result_table:\n\u001b[1;32m    989\u001b[0m     galcoords \u001b[38;5;241m=\u001b[39m SkyCoord(ra\u001b[38;5;241m=\u001b[39mgal[\u001b[38;5;124m'\u001b[39m\u001b[38;5;124mRA\u001b[39m\u001b[38;5;124m'\u001b[39m], dec\u001b[38;5;241m=\u001b[39mresult_table[\u001b[38;5;241m2\u001b[39m][\u001b[38;5;124m'\u001b[39m\u001b[38;5;124mDEC\u001b[39m\u001b[38;5;124m'\u001b[39m], unit\u001b[38;5;241m=\u001b[39m\u001b[38;5;124m\"\u001b[39m\u001b[38;5;124mhour,degree\u001b[39m\u001b[38;5;124m\"\u001b[39m)\n\u001b[1;32m    990\u001b[0m     galra \u001b[38;5;241m=\u001b[39m (galcoords\u001b[38;5;241m.\u001b[39mra\u001b[38;5;241m-\u001b[39mramean)\u001b[38;5;241m*\u001b[39mnp\u001b[38;5;241m.\u001b[39mcos(declim[\u001b[38;5;241m0\u001b[39m]\u001b[38;5;241m.\u001b[39mto(\u001b[38;5;124m'\u001b[39m\u001b[38;5;124mrad\u001b[39m\u001b[38;5;124m'\u001b[39m))\n",
      "\u001b[0;31mTypeError\u001b[0m: 'NoneType' object is not iterable"
     ]
    }
   ],
   "source": [
    "file = c3.make_all('HCG31.fits', isolevels=None, gals='query', image2d=(['DSS2 Blue'], '2500,2500'), lims=lims)"
   ]
  },
  {
   "cell_type": "code",
   "execution_count": 78,
   "id": "f1e4bb50",
   "metadata": {},
   "outputs": [],
   "source": [
    "file.choose_buttons(picking=False)"
   ]
  },
  {
   "cell_type": "code",
   "execution_count": 79,
   "id": "f540b3c0",
   "metadata": {},
   "outputs": [],
   "source": [
    "file.make('cube_x3d/examples/HCG31_v2')"
   ]
  }
 ],
 "metadata": {
  "kernelspec": {
   "display_name": "Python 3 (ipykernel)",
   "language": "python",
   "name": "python3"
  },
  "language_info": {
   "codemirror_mode": {
    "name": "ipython",
    "version": 3
   },
   "file_extension": ".py",
   "mimetype": "text/x-python",
   "name": "python",
   "nbconvert_exporter": "python",
   "pygments_lexer": "ipython3",
   "version": "3.11.0"
  }
 },
 "nbformat": 4,
 "nbformat_minor": 5
}
