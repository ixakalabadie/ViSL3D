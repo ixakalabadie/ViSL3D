{
 "cells": [
  {
   "cell_type": "code",
   "execution_count": null,
   "id": "b30ee833",
   "metadata": {},
   "outputs": [],
   "source": [
    "import cube_x3d as c3\n",
    "import numpy as np"
   ]
  },
  {
   "cell_type": "code",
   "execution_count": null,
   "id": "c69ef7f4",
   "metadata": {},
   "outputs": [],
   "source": [
    "%cd C:\\\\Users\\\\ixaka\\\\Documents\\\\Visualization"
   ]
  },
  {
   "cell_type": "code",
   "execution_count": null,
   "id": "047536c8",
   "metadata": {},
   "outputs": [],
   "source": [
    "#HCG31\n",
    "lims = np.array([[60, 500-61],\n",
    "                 [100, 500-91],\n",
    "                 [90, 265-81]])"
   ]
  },
  {
   "cell_type": "code",
   "execution_count": null,
   "id": "bf98a1cc",
   "metadata": {},
   "outputs": [],
   "source": [
    "isolevels = np.array([1.5, 3.5, 6.5, 11])"
   ]
  },
  {
   "cell_type": "code",
   "execution_count": null,
   "id": "c9566400",
   "metadata": {},
   "outputs": [],
   "source": [
    "c = '0 0 1'\n",
    "# HCG31 all from LVM et al. (2005)\n",
    "gals = {'HCG31a':{'v':4090,'col':c},\n",
    "       'HCG31b':{'v':4122,'col':c},\n",
    "       'HCG31c':{'v':3984,'col':c},\n",
    "        'HCG31g':{'v':4005,'col':c},\n",
    "        'HCG31q':{'v':4090,'col':c}\n",
    "       }"
   ]
  },
  {
   "cell_type": "code",
   "execution_count": null,
   "id": "031ddbfe",
   "metadata": {},
   "outputs": [],
   "source": [
    "file = c3.make_all('HCG31.fits', isolevels=None, gals='query', image2d=(['DSS2 Blue'], '2500,2500'), lims=lims)"
   ]
  },
  {
   "cell_type": "code",
   "execution_count": null,
   "id": "f1e4bb50",
   "metadata": {},
   "outputs": [],
   "source": [
    "file.choose_buttons(picking=False)"
   ]
  },
  {
   "cell_type": "code",
   "execution_count": null,
   "id": "f540b3c0",
   "metadata": {},
   "outputs": [],
   "source": [
    "file.make('cube_x3d/examples/HCG31_test')"
   ]
  }
 ],
 "metadata": {
  "kernelspec": {
   "display_name": "Python 3 (ipykernel)",
   "language": "python",
   "name": "python3"
  },
  "language_info": {
   "codemirror_mode": {
    "name": "ipython",
    "version": 3
   },
   "file_extension": ".py",
   "mimetype": "text/x-python",
   "name": "python",
   "nbconvert_exporter": "python",
   "pygments_lexer": "ipython3",
   "version": "3.11.0"
  }
 },
 "nbformat": 4,
 "nbformat_minor": 5
}
