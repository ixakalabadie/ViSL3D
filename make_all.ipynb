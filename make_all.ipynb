{
 "cells": [
  {
   "cell_type": "code",
   "execution_count": 1,
   "id": "b30ee833",
   "metadata": {},
   "outputs": [],
   "source": [
    "import cube_x3d as c3\n",
    "import numpy as np"
   ]
  },
  {
   "cell_type": "code",
   "execution_count": 46,
   "id": "7d85e623",
   "metadata": {},
   "outputs": [
    {
     "data": {
      "text/plain": [
       "<module 'cube_x3d' from 'c:\\\\Users\\\\ixaka\\\\Documents\\\\Visualization\\\\cube_x3d\\\\cube_x3d.py'>"
      ]
     },
     "execution_count": 46,
     "metadata": {},
     "output_type": "execute_result"
    }
   ],
   "source": [
    "import importlib\n",
    "importlib.reload(c3)"
   ]
  },
  {
   "cell_type": "code",
   "execution_count": 2,
   "id": "c69ef7f4",
   "metadata": {},
   "outputs": [
    {
     "name": "stdout",
     "output_type": "stream",
     "text": [
      "C:\\Users\\ixaka\\Documents\\Visualization\n"
     ]
    }
   ],
   "source": [
    "%cd C:\\\\Users\\\\ixaka\\\\Documents\\\\Visualization"
   ]
  },
  {
   "cell_type": "code",
   "execution_count": 3,
   "id": "047536c8",
   "metadata": {},
   "outputs": [],
   "source": [
    "#HCG31\n",
    "lims = np.array([[60, 500-61],\n",
    "                 [100, 500-91],\n",
    "                 [90, 265-81]])"
   ]
  },
  {
   "cell_type": "code",
   "execution_count": 4,
   "id": "bf98a1cc",
   "metadata": {},
   "outputs": [],
   "source": [
    "isolevels = np.array([1.5, 3.5, 6.5, 11])"
   ]
  },
  {
   "cell_type": "code",
   "execution_count": null,
   "id": "c9566400",
   "metadata": {},
   "outputs": [],
   "source": [
    "c = '0 0 1'\n",
    "# HCG31 all from LVM et al. (2005)\n",
    "gals = {'HCG31a':{'v':4090,'col':c},\n",
    "       'HCG31b':{'v':4122,'col':c},\n",
    "       'HCG31c':{'v':3984,'col':c},\n",
    "        'HCG31g':{'v':4005,'col':c},\n",
    "        'HCG31q':{'v':4090,'col':c}\n",
    "       }"
   ]
  },
  {
   "cell_type": "code",
   "execution_count": 5,
   "id": "f72dde91",
   "metadata": {},
   "outputs": [],
   "source": [
    "gals = ['HCG31a', 'HCG31b', 'HCG31c', 'HCG31g', 'HCG31q']"
   ]
  },
  {
   "cell_type": "code",
   "execution_count": 6,
   "id": "b74ca794",
   "metadata": {},
   "outputs": [],
   "source": [
    "#(['DSS2 Blue'], '2500,2500')\n",
    "un = np.array([-1,'arcsec', 'arcsec', 'km/s']) #units that we want to have"
   ]
  },
  {
   "cell_type": "code",
   "execution_count": 47,
   "id": "031ddbfe",
   "metadata": {},
   "outputs": [
    {
     "name": "stderr",
     "output_type": "stream",
     "text": [
      "WARNING: StokesWarning: Cube is a Stokes cube, returning spectral cube for I component [spectral_cube.io.core]\n"
     ]
    },
    {
     "name": "stdout",
     "output_type": "stream",
     "text": [
      "[[ 7.52996987e+01  7.55082192e+01]\n",
      " [-4.36082634e+00 -4.15290956e+00]\n",
      " [ 3.25498130e+06  4.71062352e+06]]\n",
      "Automatic isolevels = [0.18760830163955688, 0.37521660327911377, 0.6253610054651896, 1.2507220109303792]\n"
     ]
    }
   ],
   "source": [
    "file = c3.main('HCG31.fits', isolevels=None, units=un,\n",
    "                gals=None, image2d=None, lims=None)"
   ]
  },
  {
   "cell_type": "code",
   "execution_count": 48,
   "id": "f1e4bb50",
   "metadata": {},
   "outputs": [],
   "source": [
    "file.choose_buttons(picking=False, galaxies=False, gallab=False, image2d=False, move2d=False)"
   ]
  },
  {
   "cell_type": "code",
   "execution_count": 49,
   "id": "f540b3c0",
   "metadata": {},
   "outputs": [
    {
     "name": "stdout",
     "output_type": "stream",
     "text": [
      "[[-374.25020656    0.          374.25020656]\n",
      " [-374.25020192    0.          374.25020192]\n",
      " [-727.82110786    0.          727.82110786]]\n"
     ]
    },
    {
     "ename": "IndexError",
     "evalue": "invalid index to scalar variable.",
     "output_type": "error",
     "traceback": [
      "\u001b[1;31m---------------------------------------------------------------------------\u001b[0m",
      "\u001b[1;31mIndexError\u001b[0m                                Traceback (most recent call last)",
      "Cell \u001b[1;32mIn[49], line 1\u001b[0m\n\u001b[1;32m----> 1\u001b[0m file\u001b[39m.\u001b[39;49mmake(\u001b[39m'\u001b[39;49m\u001b[39mcube_x3d/examples/HCG31_te\u001b[39;49m\u001b[39m'\u001b[39;49m)\n",
      "File \u001b[1;32mc:\\Users\\ixaka\\Documents\\Visualization\\cube_x3d\\cube_x3d.py:299\u001b[0m, in \u001b[0;36mmain.make\u001b[1;34m(self, path, meta, tabtitle, pagetitle, desc)\u001b[0m\n\u001b[0;32m    297\u001b[0m html\u001b[39m.\u001b[39mclose_x3d(path\u001b[39m.\u001b[39msplit(\u001b[39m'\u001b[39m\u001b[39m/\u001b[39m\u001b[39m'\u001b[39m)[\u001b[39m-\u001b[39m\u001b[39m1\u001b[39m]\u001b[39m+\u001b[39m\u001b[39m'\u001b[39m\u001b[39m.x3d\u001b[39m\u001b[39m'\u001b[39m)\n\u001b[0;32m    298\u001b[0m \u001b[39mif\u001b[39;00m \u001b[39mself\u001b[39m\u001b[39m.\u001b[39mlayers \u001b[39mor\u001b[39;00m \u001b[39mself\u001b[39m\u001b[39m.\u001b[39mgalaxies \u001b[39mor\u001b[39;00m \u001b[39mself\u001b[39m\u001b[39m.\u001b[39mgallab \u001b[39mor\u001b[39;00m \u001b[39mself\u001b[39m\u001b[39m.\u001b[39mgrids \u001b[39mor\u001b[39;00m \u001b[39mself\u001b[39m\u001b[39m.\u001b[39maxes \u001b[39mis\u001b[39;00m \u001b[39mnot\u001b[39;00m \u001b[39mNone\u001b[39;00m \u001b[39mor\u001b[39;00m \u001b[39mself\u001b[39m\u001b[39m.\u001b[39mpicking \u001b[39mor\u001b[39;00m \u001b[39mself\u001b[39m\u001b[39m.\u001b[39mviewpoints \u001b[39mor\u001b[39;00m \u001b[39mself\u001b[39m\u001b[39m.\u001b[39mimage2d \u001b[39mor\u001b[39;00m \u001b[39mself\u001b[39m\u001b[39m.\u001b[39mcmaps \u001b[39mis\u001b[39;00m \u001b[39mnot\u001b[39;00m \u001b[39mNone\u001b[39;00m \u001b[39mor\u001b[39;00m \u001b[39mself\u001b[39m\u001b[39m.\u001b[39mimage2d \u001b[39mor\u001b[39;00m \u001b[39mself\u001b[39m\u001b[39m.\u001b[39mscalev:\n\u001b[1;32m--> 299\u001b[0m     html\u001b[39m.\u001b[39;49mbuttons(\u001b[39mself\u001b[39;49m\u001b[39m.\u001b[39;49misolevels, \u001b[39mself\u001b[39;49m\u001b[39m.\u001b[39;49mcolor, colormaps\u001b[39m=\u001b[39;49m\u001b[39mself\u001b[39;49m\u001b[39m.\u001b[39;49mcmaps, hide2d\u001b[39m=\u001b[39;49m\u001b[39mself\u001b[39;49m\u001b[39m.\u001b[39;49mimage2d, scalev\u001b[39m=\u001b[39;49m\u001b[39mself\u001b[39;49m\u001b[39m.\u001b[39;49mscalev, move2d\u001b[39m=\u001b[39;49m\u001b[39mself\u001b[39;49m\u001b[39m.\u001b[39;49mmove2d)\n\u001b[0;32m    300\u001b[0m \u001b[39m#func_move2dimage, func_colormaps, func_picking and func_scalev must always go after buttons\u001b[39;00m\n\u001b[0;32m    301\u001b[0m \u001b[39mif\u001b[39;00m \u001b[39mself\u001b[39m\u001b[39m.\u001b[39mimage2d:\n",
      "File \u001b[1;32mc:\\Users\\ixaka\\Documents\\Visualization\\cube_x3d\\cube_x3d.py:1089\u001b[0m, in \u001b[0;36mwrite_html.buttons\u001b[1;34m(self, l_isolevels, l_colors, colormaps, hide2d, scalev, move2d, lineLabs, centRot)\u001b[0m\n\u001b[0;32m   1087\u001b[0m c \u001b[39m=\u001b[39m \u001b[39m'\u001b[39m\u001b[39mrgb(\u001b[39m\u001b[39m'\u001b[39m\u001b[39m+\u001b[39m\u001b[39mstr\u001b[39m(ca\u001b[39m.\u001b[39mastype(\u001b[39mint\u001b[39m))[\u001b[39m1\u001b[39m:\u001b[39m-\u001b[39m\u001b[39m1\u001b[39m]\u001b[39m+\u001b[39m\u001b[39m'\u001b[39m\u001b[39m)\u001b[39m\u001b[39m'\u001b[39m\n\u001b[0;32m   1088\u001b[0m \u001b[39mif\u001b[39;00m (ca[\u001b[39m0\u001b[39m]\u001b[39m*\u001b[39m\u001b[39m0.299\u001b[39m \u001b[39m+\u001b[39m ca[\u001b[39m1\u001b[39m]\u001b[39m*\u001b[39m\u001b[39m0.587\u001b[39m \u001b[39m+\u001b[39m ca[\u001b[39m2\u001b[39m]\u001b[39m*\u001b[39m\u001b[39m0.114\u001b[39m) \u001b[39m>\u001b[39m \u001b[39m130\u001b[39m:\n\u001b[1;32m-> 1089\u001b[0m     \u001b[39mself\u001b[39m\u001b[39m.\u001b[39mfile_html\u001b[39m.\u001b[39mwrite(tabs(\u001b[39m3\u001b[39m)\u001b[39m+\u001b[39m\u001b[39m'\u001b[39m\u001b[39m<button id=\u001b[39m\u001b[39m\"\u001b[39m\u001b[39m%s\u001b[39;00m\u001b[39mbut\u001b[39m\u001b[39m%s\u001b[39;00m\u001b[39m\"\u001b[39m\u001b[39m onclick=\u001b[39m\u001b[39m\"\u001b[39m\u001b[39msetHI\u001b[39m\u001b[39m%s\u001b[39;00m\u001b[39mlayer\u001b[39m\u001b[39m%s\u001b[39;00m\u001b[39m();\u001b[39m\u001b[39m\"\u001b[39m\u001b[39m style=\u001b[39m\u001b[39m\"\u001b[39m\u001b[39mfont-size:20px ; border:5px dashed black ; background:\u001b[39m\u001b[39m%s\u001b[39;00m\u001b[39m ; color:black\u001b[39m\u001b[39m\"\u001b[39m\u001b[39m><b>\u001b[39m\u001b[39m%s\u001b[39;00m\u001b[39m</b></button>\u001b[39m\u001b[39m\\n\u001b[39;00m\u001b[39m'\u001b[39m\u001b[39m%\u001b[39m(nc,i,nc,i,c,np\u001b[39m.\u001b[39mround(l_isolevels[nc][i],\u001b[39m1\u001b[39m)))\n\u001b[0;32m   1090\u001b[0m \u001b[39melse\u001b[39;00m:\n\u001b[0;32m   1091\u001b[0m     \u001b[39mself\u001b[39m\u001b[39m.\u001b[39mfile_html\u001b[39m.\u001b[39mwrite(tabs(\u001b[39m3\u001b[39m)\u001b[39m+\u001b[39m\u001b[39m'\u001b[39m\u001b[39m<button id=\u001b[39m\u001b[39m\"\u001b[39m\u001b[39m%s\u001b[39;00m\u001b[39mbut\u001b[39m\u001b[39m%s\u001b[39;00m\u001b[39m\"\u001b[39m\u001b[39m onclick=\u001b[39m\u001b[39m\"\u001b[39m\u001b[39msetHI\u001b[39m\u001b[39m%s\u001b[39;00m\u001b[39mlayer\u001b[39m\u001b[39m%s\u001b[39;00m\u001b[39m();\u001b[39m\u001b[39m\"\u001b[39m\u001b[39m style=\u001b[39m\u001b[39m\"\u001b[39m\u001b[39mfont-size:20px ; border:5px dashed black ; background:\u001b[39m\u001b[39m%s\u001b[39;00m\u001b[39m ; color:white\u001b[39m\u001b[39m\"\u001b[39m\u001b[39m><b>\u001b[39m\u001b[39m%s\u001b[39;00m\u001b[39m</b></button>\u001b[39m\u001b[39m\\n\u001b[39;00m\u001b[39m'\u001b[39m\u001b[39m%\u001b[39m(nc,i,nc,i,c,np\u001b[39m.\u001b[39mround(l_isolevels[nc][i],\u001b[39m1\u001b[39m)))\n",
      "\u001b[1;31mIndexError\u001b[0m: invalid index to scalar variable."
     ]
    }
   ],
   "source": [
    "file.make('cube_x3d/examples/HCG31_te')"
   ]
  },
  {
   "cell_type": "code",
   "execution_count": null,
   "id": "ecd8f993",
   "metadata": {},
   "outputs": [],
   "source": []
  }
 ],
 "metadata": {
  "kernelspec": {
   "display_name": "Python 3 (ipykernel)",
   "language": "python",
   "name": "python3"
  },
  "language_info": {
   "codemirror_mode": {
    "name": "ipython",
    "version": 3
   },
   "file_extension": ".py",
   "mimetype": "text/x-python",
   "name": "python",
   "nbconvert_exporter": "python",
   "pygments_lexer": "ipython3",
   "version": "3.10.8"
  }
 },
 "nbformat": 4,
 "nbformat_minor": 5
}
