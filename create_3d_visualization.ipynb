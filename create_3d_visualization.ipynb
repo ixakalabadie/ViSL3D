{
 "cells": [
  {
   "cell_type": "code",
   "execution_count": 51,
   "id": "a663f696",
   "metadata": {},
   "outputs": [],
   "source": [
    "from spectral_cube import SpectralCube #To read FITS\n",
    "import numpy as np\n",
    "import astropy.units as u\n",
    "from astropy.coordinates import SkyCoord, Angle\n",
    "from skimage import measure\n",
    "from astropy import wcs\n",
    "import cube_x3d as c3\n",
    "import matplotlib.pyplot as plt\n",
    "from matplotlib import cm\n",
    "from astroquery.skyview import SkyView"
   ]
  },
  {
   "cell_type": "code",
   "execution_count": null,
   "id": "ade3539b",
   "metadata": {},
   "outputs": [],
   "source": [
    "import importlib\n",
    "importlib.reload(c3)"
   ]
  },
  {
   "cell_type": "code",
   "execution_count": 34,
   "id": "4977833d",
   "metadata": {},
   "outputs": [
    {
     "name": "stdout",
     "output_type": "stream",
     "text": [
      "C:\\Users\\ixaka\\Documents\\Visualization\n"
     ]
    }
   ],
   "source": [
    "%cd C:\\Users\\ixaka\\Documents\\Visualization"
   ]
  },
  {
   "cell_type": "code",
   "execution_count": 52,
   "id": "41fd7d93",
   "metadata": {},
   "outputs": [
    {
     "name": "stdout",
     "output_type": "stream",
     "text": [
      "(265, 500, 500)\n"
     ]
    },
    {
     "name": "stderr",
     "output_type": "stream",
     "text": [
      "WARNING: StokesWarning: Cube is a Stokes cube, returning spectral cube for I component [spectral_cube.io.core]\n"
     ]
    }
   ],
   "source": [
    "# Read the fits file and save header\n",
    "HI_cube = SpectralCube.read(\"HCG31.fits\")\n",
    "cubehead = HI_cube.header\n",
    "cubew = wcs.WCS(cubehead)\n",
    "nz, ny, nx = HI_cube.shape\n",
    "print(HI_cube.shape)\n",
    "dra, ddec, dv = cubehead['CDELT1'], cubehead['CDELT2'], cubehead['CDELT3']\n",
    "delta_arcsec = (np.abs(dra)*3600, np.abs(ddec)*3600, np.abs(dv)/1000)"
   ]
  },
  {
   "cell_type": "code",
   "execution_count": 10,
   "id": "147566db",
   "metadata": {},
   "outputs": [
    {
     "data": {
      "text/plain": [
       "SIMPLE  =                    T / Fits standard                                  \n",
       "BITPIX  =                  -64 / Bits per pixel                                 \n",
       "NAXIS   =                    3                                                  \n",
       "NAXIS1  =                   58                                                  \n",
       "NAXIS2  =                   52                                                  \n",
       "NAXIS3  =                 4300                                                  \n",
       "EXTEND  =                    T / File may contain extensions                    \n",
       "ORIGIN  = 'NOAO-IRAF FITS Image Kernel July 2003' / FITS file originator        \n",
       "DATE    = '2023-02-07T12:50:13' / Date FITS file was generated                  \n",
       "IRAF-TLM= '2023-02-07T12:50:10' / Time of last modification                     \n",
       "OBJECT  = 'A58_1.1 '           / Name of the object observed                    \n",
       "COMMENT   FITS (Flexible Image Transport System) format is defined in 'Astronomy\n",
       "COMMENT   and Astrophysics', volume 376, page 359; bibcode: 2001A&A...376..359H \n",
       "INSTRUME= 'MEGARA  '           / Instrument name                                \n",
       "BUNIT   = 'A-1 cm-2 erg s-1'                                                    \n",
       "DETECTOR= 'CCD2231-84-0-E74'   / Detector Model                                 \n",
       "EXPTIME =                 300. / [s] Exposure time                              \n",
       "DARKTIME=              300.854 / [s] Exposure time                              \n",
       "READMODE= 'NORMAL  '           / Read Mode                                      \n",
       "RSPEED  = 'SLOW    '           / Readout Speed                                  \n",
       "GAIN1   =                 1.73 / [e- / ADU] Gain Top Channel                    \n",
       "GAIN2   =                  1.6 / Gain Bottom Channel                            \n",
       "RDNOISE1=                  3.4 / RON Top Channel (e-)                           \n",
       "RDNOISE2=                  3.4 / RON Bottom Channel (e-)                        \n",
       "NUM_INDX=                   1. / Image index in sequence                        \n",
       "NUM_IMAG=                   3. / Number of images in sequence                   \n",
       "IPA     =              196.146 / Instrument position (degrees)                  \n",
       "AIRMASS =             1.615924 / AIRMASS                                        \n",
       "AIRMASS1=      1.6159235095264 / AIRMASS at begining of observation             \n",
       "AIRMASS2=      1.6159235095264 / AIRMASS at end of observation                  \n",
       "RA      = '19:18:20.395'       / Telescope right ascension (HH:MM:SS)  (h:m:s)  \n",
       "DEC     = '01:46:59.603'       / Telescope declination (DD:PP:SS) (d:m:s)       \n",
       "RADEG   =     289.584978201653 / Telescope right ascension in decimal degrees. (\n",
       "DECDEG  =     1.78322294592642 / Telescope declination in degrees (degrees)     \n",
       "AZIMUTH =     114.004480735858 / Tel. azimuth at start time (deg)               \n",
       "ELEVAT  =     38.1661238893369 / Elevation at start of observation (deg)        \n",
       "ROTANG  =     70.0810583333333 / Rotator FCCS_F position angle (deg)            \n",
       "ASGRA   = '19:18:29.364'       / ASG right ascension (h:m:s)                    \n",
       "ASGDEC  = '01:43:55.176'       / ASG declination (d:m:s)                        \n",
       "M2UX    =     1.52171003818512 / GTC secondary mirror UX position               \n",
       "M2UY    =     2.29286003112793 / GTC secondary mirror UY position               \n",
       "M2UZ    =       -1.80976998806 / GTC secondary mirror UZ position               \n",
       "M2RX    = 0.000588472001254559 / GTC secondary mirror RX position               \n",
       "M2RY    = -0.000396568997530267 / GTC secondary mirror RY position              \n",
       "IDTELFOC=                   0. / Ins dem telescope focus                        \n",
       "DEWPOINT=              -2.0416 / Ambient dew point (Celsius)                    \n",
       "HUMIDITY=                17.76 / Ambient humidity (%)                           \n",
       "PRESSURE=             781.4316 / Ambient atmospheric pressure (hPascal)         \n",
       "TAMBIENT=              14.4427 / Ambient temperature (Celsius)                  \n",
       "WINDDIRE=                 316. / Wind direction (from) from N to E (deg)        \n",
       "WINDSPEE=    0.955011111111187 / Wind speed (m/s)                               \n",
       "LST     = '16:13:14.170'       / Local sidereal time (h:m:s)                    \n",
       "CAT-RA  = '0       '           / Catalog object RA                              \n",
       "CAT-DEC = '0       '           / Catalog object DEC                             \n",
       "SETPNT  =                 149. / Setpoint                                       \n",
       "CCDTEMP0=     149.005996704102 / CCD Temperature (K)                            \n",
       "CCDTEMP1=      242.82600402832 / CCD Temperature (K)                            \n",
       "CCDTEMP2=     242.291000366211 / CCD Temperature (K)                            \n",
       "CCDTEMP3=     82.5198974609375 / CCD Temperature (K)                            \n",
       "SENTEMP0=     293.878618295567 / Optical bench temperatures (K)                 \n",
       "SENTEMP1=               423.15 / Optical bench temperatures (K)                 \n",
       "SENTEMP2=     285.718093385214 / Optical bench temperatures (K)                 \n",
       "SENTEMP3=     287.356912336919 / Optical bench temperatures (K)                 \n",
       "SENTEMP4=     286.539028763256 / Optical bench temperatures (K)                 \n",
       "SENTEMP5=      289.61829938201 / Optical bench temperatures (K)                 \n",
       "SENTEMP6=     288.226676585031 / Optical bench temperatures (K)                 \n",
       "INDTEMP0=               15.197 / Naysmith A structure temperature (C)           \n",
       "INSMODE = 'LCB     '           / Slit position                                  \n",
       "VPHWHPOS= 'VPH3    '           / VPH platform                                   \n",
       "VPH     = 'HR-R    '           / VPH name                                       \n",
       "FOCUS   =                 3433 / Focus position (um)                            \n",
       "SLITN   =                78135 / Slit position                                  \n",
       "OSFILTER= ' RED    '           / Shutter mode                                   \n",
       "SPOS    =                 1488 / Position of CLOSE                              \n",
       "COVER   = 'STOPPED '           / Cover position                                 \n",
       "LAMPI1S =                    0 / Incandescent Lamp1 status                      \n",
       "LAMPI1I =                   0. / Incandescent Lamp1 intensity (%)               \n",
       "LAMPI2S =                    0 / Incandescent Lamp2 status                      \n",
       "LAMPI2I =                   0. / Incandescent Lamp2 intensity (%)               \n",
       "LAMPS1S =                    0 / Th-Ar Lamp1 status                             \n",
       "LAMPS2S =                    0 / Th-Ar Lamp2 Status                             \n",
       "LAMPS3S =                    0 / Th-Ne Lamp3 status                             \n",
       "LAMPS4S =                    0 / Th-Ar Lamp4 Status                             \n",
       "LAMPS5S =                    0 / Th-Ar Lamp5 Status                             \n",
       "LAMPS6S =                    0 / Th-Ar Lamp6 Status                             \n",
       "LAMPMIR = 'PARK    '           / ICM mirror                                     \n",
       "OBSTYPE = 'OBJECT  '           / Observation Type                               \n",
       "PI      = 'bmontoro'           / Principal Investigator                         \n",
       "OBSERVER= 'SA      '           / Observer Name (SA = support astronomer)        \n",
       "GTCPRGID= 'GTC29-22A'          / Program Identifier                             \n",
       "GTCOBID = '0001    '           / Observation Block ID                           \n",
       "TELESCOP= 'GTC     '           / Telescope id.                                  \n",
       "OBSMODE = 'MegaraLcbImage'     / Observation Mode                               \n",
       "OBSERVAT= 'ORM     '           / Name of observatory (IRAF style)               \n",
       "LATITUDE= '+28:45:43.2'        / Telescope latitude (degrees), +28:45:43.2      \n",
       "LONGITUD= '+17:52:39.5'        / Telescope longitude (degrees), +17:52:39.5     \n",
       "HEIGHT  =                 2348 / Telescope height above sea level (m)           \n",
       "INSCONF = 'ca3558e3-e50d-4bbc-86bd-da50a0998a48' / UUID of instrument config    \n",
       "BLCKUUID= '1ebf235a-4faf-427b-888b-3ba6b6444ef6' / UUID of current block        \n",
       "UUID    = '4390f262-01f0-11ed-8f9b-68fef706e71e' / UUID of image                \n",
       "SPECLAMP= 'NONE    '           / Spectral Lamps Summary                         \n",
       "NUM-OVPE= '2e02e135-2325-47c9-9975-466b445b0b8b'                                \n",
       "NUM-TRIM= '2e02e135-2325-47c9-9975-466b445b0b8b'                                \n",
       "NUM-NCOM=                    3                                                  \n",
       "NUM-BPM = '20f77fc2-5a71-11e7-9d4f-f48c50066814'                                \n",
       "NUM-BS  = '9e149418-0129-11ed-8b11-68fef706e71e'                                \n",
       "NUM-GAIN= '2e02e135-2325-47c9-9975-466b445b0b8b'                                \n",
       "NUMXVER = '0.23.2  '           / Numina package version                         \n",
       "NUMRNAM = 'LCBImageRecipe'     / Numina recipe name                             \n",
       "NUMRVER =                    1 / Numina recipe version                          \n",
       "NUM-APE = '69c2c24c-012a-11ed-a42b-68fef706e71e'                                \n",
       "WCSNAMEB= 'Barycentric correction'                                              \n",
       "CTYPE1B = 'AWAV    '                                                            \n",
       "CRPIX1B =                  1.0                                                  \n",
       "CRVAL1B =    6390.215743023327                                                  \n",
       "CDELT1B =  0.09740328847738218                                                  \n",
       "CUNIT1B = 'Angstrom'                                                            \n",
       "CRPIX2B =                  0.0                                                  \n",
       "CRVAL2B =                  0.0                                                  \n",
       "CDELT2B =                  1.0                                                  \n",
       "CTYPE2B = ''                                                                    \n",
       "VELOSYSB=    10121.77328008028                                                  \n",
       "SPECSYSB= 'BARYCENT'                                                            \n",
       "SSYSOBSB= 'TOPOCENT'                                                            \n",
       "NUM-WAV = 'uuid:48762464-01c8-11ed-b558-68fef706e71e'                           \n",
       "NUM-FIBF= '73a6b31a-01cd-11ed-9dbb-68fef706e71e'                                \n",
       "HISTORY Overscan correction with 2e02e135-2325-47c9-9975-466b445b0b8b           \n",
       "HISTORY Overscan correction time 2022-07-12T14:34:45.116092                     \n",
       "HISTORY Median of col overscan1 is 2080.0                                       \n",
       "HISTORY Overscan1 correction is spline3                                         \n",
       "HISTORY Median of col overscan2 is 2053.0                                       \n",
       "HISTORY Overscan2 correction is spline3                                         \n",
       "HISTORY overscan1 deg 3                                                         \n",
       "HISTORY overscan1 knots [0.0, 0.0, 0.0, 0.0, 1200.0, 2055.0, 2055.0, 2055.0, 205\n",
       "HISTORY 5.0]                                                                    \n",
       "HISTORY overscan1 coeffs [2076.80743327902, 2080.034088854824, 2079.578142815357\n",
       "HISTORY , 2081.8212497841546, 2081.38397018423, 0.0, 0.0, 0.0, 0.0]             \n",
       "HISTORY overscan2 deg 3                                                         \n",
       "HISTORY overscan2 knots [2156.0, 2156.0, 2156.0, 2156.0, 3100.0, 4211.0, 4211.0,\n",
       "HISTORY  4211.0, 4211.0]                                                        \n",
       "HISTORY overscan2 coeffs [2053.3983227278677, 2053.7454232770733, 2052.645112981\n",
       "HISTORY 4654, 2053.804601521034, 2052.2925586623433, 0.0, 0.0, 0.0, 0.0]        \n",
       "HISTORY Trimming correction with 2e02e135-2325-47c9-9975-466b445b0b8b           \n",
       "HISTORY Trimming correction time 2022-07-12T14:34:45.150397                     \n",
       "HISTORY Combined 3 images using 'median'                                        \n",
       "HISTORY Combination time 2022-07-12T14:34:47.480881                             \n",
       "HISTORY Image uuid:30b474fc-ed1e-4154-bf50-bfb4f3b925b3                         \n",
       "HISTORY Image uuid:afc9b1fa-6bbc-4af9-b56e-0df589646bfd                         \n",
       "HISTORY Image uuid:1a88ec69-1aa5-47e6-bbd6-bda5b8fbb763                         \n",
       "HISTORY BPM correction with 20f77fc2-5a71-11e7-9d4f-f48c50066814                \n",
       "HISTORY BPM correction time 2022-07-12T14:34:50.434257                          \n",
       "HISTORY Bias correction with 9e149418-0129-11ed-8b11-68fef706e71e               \n",
       "HISTORY Bias image mean is 0.18778993595543161                                  \n",
       "HISTORY Bias correction time 2022-07-12T14:34:50.459188                         \n",
       "HISTORY Gain correction with 2e02e135-2325-47c9-9975-466b445b0b8b               \n",
       "HISTORY Gain correction time 2022-07-12T14:34:50.469734                         \n",
       "HISTORY Gain1 correction value 1.73                                             \n",
       "HISTORY Gain2 correction value 1.6                                              \n",
       "HISTORY Aperture extraction method advanced                                     \n",
       "HISTORY Aperture extraction with 69c2c24c-012a-11ed-a42b-68fef706e71e           \n",
       "HISTORY Aperture extraction offsets are [1.22]                                  \n",
       "HISTORY Aperture extraction time 2022-07-12T14:38:13.305267                     \n",
       "HISTORY Wavelength calibration with uuid:48762464-01c8-11ed-b558-68fef706e71e   \n",
       "HISTORY Aperture extraction offsets are [0.0]                                   \n",
       "HISTORY Wavelength calibration time 2022-07-12T14:38:15.570424                  \n",
       "HISTORY Resample span=2                                                         \n",
       "HISTORY Fiber flat correction 4390f262-01f0-11ed-8f9b-68fef706e71e              \n",
       "HISTORY Fiber flat correction time 2022-07-12T14:38:17.065940                   \n",
       "EX-FLAG =                    0                                                  \n",
       "CA-FLAG =                    0                                                  \n",
       "WCSAXES =                    3 / Number of coordinate axes                      \n",
       "CRPIX1  =                  0.0 / Pixel coordinate of reference point            \n",
       "CRPIX2  =                  0.0 / Pixel coordinate of reference point            \n",
       "CRPIX3  =                  0.0 / Pixel coordinate of reference point            \n",
       "CDELT1  = -5.9531227756441E-05 / [deg] Coordinate increment at reference point  \n",
       "CDELT2  =  5.9555555555555E-05 / [deg] Coordinate increment at reference point  \n",
       "CDELT3  =  0.09739999999999999 / [m] Coordinate increment at reference point    \n",
       "CUNIT1  = 'deg'                / Units of coordinate increment and value        \n",
       "CUNIT2  = 'deg'                / Units of coordinate increment and value        \n",
       "CUNIT3  = 'Angstrom'           / Units of coordinate increment and value        \n",
       "CTYPE1  = 'RA---SIN'           / Right ascension, orthographic/synthesis project\n",
       "CTYPE2  = 'DEC--SIN'           / Declination, orthographic/synthesis projection \n",
       "CTYPE3  = 'WAVE'               / Vacuum wavelength (linear)                     \n",
       "CRVAL1  =                0.025 / [deg] Coordinate value at reference point      \n",
       "CRVAL2  =                0.422 / [deg] Coordinate value at reference point      \n",
       "CRVAL3  =    6389.999999999999 / [m] Coordinate value at reference point        \n",
       "LONPOLE =                180.0 / [deg] Native longitude of celestial pole       \n",
       "LATPOLE =                0.422 / [deg] Native latitude of celestial pole        \n",
       "TIMESYS = 'TAI'                / Time scale                                     \n",
       "MJDREF  =                  0.0 / [d] MJD of fiducial time                       \n",
       "DATE-OBS= '2022-06-21T23:24:53.29' / ISO-8601 time of observation               \n",
       "MJD-OBS =      59751.975610053 / [d] MJD of observation                         \n",
       "OBSGEO-X=         5327285.0921 / [m] observatory X-coordinate                   \n",
       "OBSGEO-Y=        -1718777.1125 / [m] observatory Y-coordinate                   \n",
       "OBSGEO-Z=         3051786.7327 / [m] observatory Z-coordinate                   \n",
       "RADESYS = 'ICRS'               / Equatorial coordinate system                   "
      ]
     },
     "execution_count": 10,
     "metadata": {},
     "output_type": "execute_result"
    }
   ],
   "source": [
    "cubehead"
   ]
  },
  {
   "cell_type": "code",
   "execution_count": 5,
   "id": "0449361e",
   "metadata": {},
   "outputs": [
    {
     "data": {
      "image/png": "[encoded data removed]",
      "text/plain": [
       "<Figure size 640x480 with 1 Axes>"
      ]
     },
     "metadata": {},
     "output_type": "display_data"
    }
   ],
   "source": [
    "plt.hist(HI_cube.unmasked_data[:20].to_value().flatten(), bins=200, density=True);"
   ]
  },
  {
   "cell_type": "code",
   "execution_count": 5,
   "id": "5999d49e",
   "metadata": {},
   "outputs": [],
   "source": [
    "# calculate rms of data. choose an area with no emission\n",
    "from scipy.stats import norm\n",
    "_, rms = norm.fit(HI_cube.unmasked_data[:20].to_value().flatten()*1000)\n"
   ]
  },
  {
   "cell_type": "code",
   "execution_count": 8,
   "id": "514eeea0",
   "metadata": {},
   "outputs": [
    {
     "data": {
      "image/png": "[encoded data removed]",
      "text/plain": [
       "<Figure size 640x480 with 1 Axes>"
      ]
     },
     "metadata": {},
     "output_type": "display_data"
    }
   ],
   "source": [
    "plt.hist(HI_cube.unmasked_data[:].to_value().flatten()*1000/rms, bins=100, density=True)\n",
    "plt.yscale('log')"
   ]
  },
  {
   "cell_type": "code",
   "execution_count": 53,
   "id": "157dadf2",
   "metadata": {},
   "outputs": [],
   "source": [
    "#define isoleves in mJy/beam\n",
    "#isolevels = np.array([1.5, 2.5, 3.5, 6]) #hcg91\n",
    "#isolevels = np.array([1.5, 4.5, 8.5, 13]) #hcg16\n",
    "isolevels = np.array([1.5, 3.5, 6.5, 11]) #hcg31"
   ]
  },
  {
   "cell_type": "code",
   "execution_count": null,
   "id": "788cc0e4",
   "metadata": {
    "collapsed": true
   },
   "outputs": [],
   "source": [
    "c3.preview2d(HI_cube.unmasked_data[:].to_value(), vmin1=0.006, vmax1=0.03, vmin2=0.01, vmax2=0.07, norm='asinh')"
   ]
  },
  {
   "cell_type": "code",
   "execution_count": null,
   "id": "716e3f9b",
   "metadata": {},
   "outputs": [],
   "source": [
    "limx = [0, nx-1]\n",
    "limy = [0, ny-1]\n",
    "limz = [0, nz-1]"
   ]
  },
  {
   "cell_type": "code",
   "execution_count": 54,
   "id": "cc90f836",
   "metadata": {},
   "outputs": [],
   "source": [
    "#HCG31\n",
    "# Limits to crop the cube, no HI there. Subtract 1 to wanted number, e.g. nz-1.\n",
    "limx = [60, nx-61]\n",
    "limy = [100, ny-91]\n",
    "limz = [90, nz-81]"
   ]
  },
  {
   "cell_type": "code",
   "execution_count": null,
   "id": "1e2867ac",
   "metadata": {},
   "outputs": [],
   "source": [
    "#HCG16\n",
    "# Limits to crop the cube, no HI there. Subtract 1 to wanted number, e.g. nz-1.\n",
    "limx = [80, nx-16]\n",
    "limy = [50, ny-11]\n",
    "limz = [0, nz-1]"
   ]
  },
  {
   "cell_type": "code",
   "execution_count": null,
   "id": "14ae7c5f",
   "metadata": {},
   "outputs": [],
   "source": [
    "#HCG91\n",
    "# Limits to crop the cube, no HI there. Subtract 1 to wanted number, e.g. nz-1.\n",
    "limx = [100, nx-101]\n",
    "limy = [100, ny-81]\n",
    "limz = [10, nz-11]"
   ]
  },
  {
   "cell_type": "code",
   "execution_count": 55,
   "id": "3943bcdb",
   "metadata": {},
   "outputs": [],
   "source": [
    "ralim = HI_cube.spatial_coordinate_map[1][0,:][limx][::int(np.sign(cubehead[\"CDELT1\"]))]\n",
    "ramean = np.mean(ralim)\n",
    "declim = HI_cube.spatial_coordinate_map[0][:,0][limy][::int(np.sign(cubehead[\"CDELT2\"]))]\n",
    "decmean = np.mean(declim)\n",
    "vlim = HI_cube.spectral_axis[limz][::int(np.sign(dv))]\n",
    "vmean = np.mean(vlim).to('km/s').to_value()"
   ]
  },
  {
   "cell_type": "code",
   "execution_count": 56,
   "id": "ebf77bf3",
   "metadata": {},
   "outputs": [],
   "source": [
    "def transpose(array, delta):\n",
    "    dra, ddec, dv = delta\n",
    "    return np.transpose(array, (2,1,0))[::int(np.sign(dra)), ::int(np.sign(ddec)),::int(np.sign(dv))]"
   ]
  },
  {
   "cell_type": "code",
   "execution_count": 57,
   "id": "7bd37a45",
   "metadata": {},
   "outputs": [],
   "source": [
    "# create cropped array and transform units to mJy/beam\n",
    "HI_cube = HI_cube.unmasked_data[limz[0]:limz[1]+1,limy[0]:limy[1]+1,limx[0]:limx[1]+1].to(u.mJy/u.beam).to_value()\n",
    "# Slice the data, transpose to (ra,dec,v) and flip axes if needed (see if step in FITS header is + or -)\n",
    "HI_cube = transpose(HI_cube, (dra,ddec,dv))"
   ]
  },
  {
   "cell_type": "code",
   "execution_count": 58,
   "id": "5ecfb3da",
   "metadata": {},
   "outputs": [
    {
     "name": "stdout",
     "output_type": "stream",
     "text": [
      "(380, 310, 95)\n"
     ]
    }
   ],
   "source": [
    "# Save new dimensions\n",
    "nx_2, ny_2, nz_2 = HI_cube.shape\n",
    "print(HI_cube.shape)"
   ]
  },
  {
   "cell_type": "code",
   "execution_count": null,
   "id": "9e59a534",
   "metadata": {},
   "outputs": [],
   "source": [
    "c = '0 0 1'\n",
    "# HCG31 all from LVM et al. (2005)\n",
    "gals = {'HCG31a':{'v':4090,'col':c},\n",
    "       'HCG31b':{'v':4122,'col':c},\n",
    "       'HCG31c':{'v':3984,'col':c},\n",
    "        'HCG31g':{'v':4005,'col':c},\n",
    "        'HCG31q':{'v':4090,'col':c}\n",
    "       }"
   ]
  },
  {
   "cell_type": "code",
   "execution_count": null,
   "id": "10dd2771",
   "metadata": {},
   "outputs": [],
   "source": [
    "c = '0 0 1'\n",
    "# HCG16 from Hickson 1992\n",
    "gals = {'HCG16a':{'v':4152,'col':c},\n",
    "       'HCG16b':{'v':3977,'col':c},\n",
    "       'HCG16c':{'v':3851,'col':c},\n",
    "        'HCG16d':{'v':3847,'col':c},\n",
    "        'NGC848':{'v':4001, 'col':c}\n",
    "       }"
   ]
  },
  {
   "cell_type": "code",
   "execution_count": null,
   "id": "3fc18ca5",
   "metadata": {},
   "outputs": [],
   "source": [
    "c = '0 0 1'\n",
    "# HCG91 from Hickson 1992\n",
    "gals = {'HCG91a':{'v':6832,'col':c},\n",
    "       'HCG91b':{'v':7196,'col':c},\n",
    "       'HCG91c':{'v':7319,'col':c},\n",
    "        'HCG91d':{'v':7195,'col':c}\n",
    "       }"
   ]
  },
  {
   "cell_type": "code",
   "execution_count": null,
   "id": "1a2e0bb9",
   "metadata": {},
   "outputs": [],
   "source": [
    "for (k,gal) in enumerate(gals.keys()):\n",
    "\n",
    "    # Go from RA/Dec -> rescaled pixel space !\n",
    "    coords = SkyCoord.from_name(gal)\n",
    "    #coords = SkyCoord(gals[gal]['ra'], gals[gal]['dec'])\n",
    "    #pixcrd = coords.to_pixel(w,1)\n",
    "    \n",
    "    coords.ra.deg = (coords.ra.deg-ramean.to_value())*np.cos(np.radians(declim[0]))*3600\n",
    "    coords.dec.deg = (coords.dec.deg-decmean.to_value())*3600.\n",
    "\n",
    "    gals[gal]['coord'] = np.array([coords.ra.deg, coords.dec.deg, gals[gal]['v']-vmean])"
   ]
  },
  {
   "cell_type": "code",
   "execution_count": 59,
   "id": "fddea91d",
   "metadata": {},
   "outputs": [
    {
     "data": {
      "text/plain": [
       "array([[ 7.53247713e+01,  7.54831465e+01],\n",
       "       [-4.31915963e+00, -4.19040960e+00],\n",
       "       [ 3.69608501e+06,  4.21438186e+06]])"
      ]
     },
     "execution_count": 59,
     "metadata": {},
     "output_type": "execute_result"
    }
   ],
   "source": [
    "coords = np.array([ralim, declim, vlim])\n",
    "coords"
   ]
  },
  {
   "cell_type": "code",
   "execution_count": 60,
   "id": "1a5c5648",
   "metadata": {},
   "outputs": [],
   "source": [
    "color = c3.create_colormap('CMRmap', isolevels)"
   ]
  },
  {
   "cell_type": "code",
   "execution_count": 61,
   "id": "94f6d26e",
   "metadata": {},
   "outputs": [],
   "source": [
    "meta = {'generator':'create_x3d python module',\n",
    "       'creator':'Name Surname',\n",
    "       'title':cubehead['OBJECT'],\n",
    "        'numberofelements':f'{len(isolevels)} layers', \n",
    "        'description':'HI data cube of %s'%cubehead['OBJECT']\n",
    "       } #{len(gals)} galaxies',"
   ]
  },
  {
   "cell_type": "code",
   "execution_count": 62,
   "id": "0fba6a83",
   "metadata": {},
   "outputs": [],
   "source": [
    "x3dname = 'HCG31_test.x3d'"
   ]
  },
  {
   "cell_type": "code",
   "execution_count": 63,
   "id": "4d0f735d",
   "metadata": {},
   "outputs": [
    {
     "data": {
      "text/plain": [
       "18.76083"
      ]
     },
     "execution_count": 63,
     "metadata": {},
     "output_type": "execute_result"
    }
   ],
   "source": [
    "np.max(HI_cube)"
   ]
  },
  {
   "cell_type": "code",
   "execution_count": 64,
   "id": "cf2aa79b",
   "metadata": {},
   "outputs": [
    {
     "name": "stdout",
     "output_type": "stream",
     "text": [
      "[[-284.26577998    0.          284.26577998]\n",
      " [-231.75004676    0.          231.75004676]\n",
      " [-259.14842477    0.          259.14842477]]\n"
     ]
    }
   ],
   "source": [
    "file = c3.write_x3d('./cube_x3d/examples/%s'%x3dname, delta_arcsec, header=cubehead,\n",
    "                    coords=coords, units=['mJy/beam', 'arcsec', 'arcsec',\n",
    "                             'km/s'], meta=meta, picking=False)\n",
    "\n",
    "#also need html.func_pick() if picking=True"
   ]
  },
  {
   "cell_type": "code",
   "execution_count": null,
   "id": "baa78dae",
   "metadata": {},
   "outputs": [],
   "source": [
    "survey = ['DSS2 Blue']\n",
    "verts = (coords[0,0], coords[0,1], coords[1,0], coords[1,1])\n",
    "imcol, img_shape, img = c3.get_imcol(position='HCG16', survey=survey, verts=verts,\n",
    "                                     unit='deg', pixels='2500,2500',\n",
    "                         coordinates='J2000',grid=True, gridlabels=True)"
   ]
  },
  {
   "cell_type": "code",
   "execution_count": 65,
   "id": "41363a70",
   "metadata": {},
   "outputs": [],
   "source": [
    "file.make_layers([HI_cube], [isolevels], [color])\n",
    "file.make_outline()\n",
    "#file.make_galaxies(gals=gals, labels=True)\n",
    "file.make_image2d(imcol=None, img_shape=None)\n",
    "file.make_ticklines()\n",
    "#file.make_animation()\n",
    "file.make_labels(gals=None, axlab='both') #gals=gals\n",
    "# html.func_scalev(axes) should be same as axlab, not func_axes() though.\n",
    "file.close()"
   ]
  },
  {
   "cell_type": "code",
   "execution_count": 66,
   "id": "be78667c",
   "metadata": {},
   "outputs": [],
   "source": [
    "tabtitle = 'HCG31'\n",
    "pagetitle = 'HCG31 interactive HI datacube with X3D'\n",
    "# add in desc for 2d image: <br>\\n\\t Background image: {survey}\n",
    "desc = f\"Object: {cubehead['OBJECT']}.<t> Telescope: {cubehead['TELESCOP']}. RestFreq = {cubehead['RESTFREQ']/1e6:.4f} MHz.<br>\\n\\t Center: (RA,Dec,V)=({np.round(ramean,5)}, {np.round(decmean,5)}, {np.round(vmean,3)} km/s)\""
   ]
  },
  {
   "cell_type": "code",
   "execution_count": 67,
   "id": "153e26dd",
   "metadata": {},
   "outputs": [],
   "source": [
    "colmaps = ['magma', 'CMRmap', 'inferno', 'plasma', 'viridis', 'Greys',\n",
    "           'Blues', 'OrRd', 'PuRd', 'Reds', 'Spectral', 'Wistia',\n",
    "          'YlGn', 'YlOrRd', 'afmhot', 'autumn', 'cool', 'coolwarm',\n",
    "          'copper', 'cubehelix', 'flag', 'gist_earth', 'gist_heat',\n",
    "          'gist_ncar', 'gist_stern', 'gnuplot', 'gnuplot2', 'hot',\n",
    "          'nipy_spectral', 'prism', 'winter', 'Paired']"
   ]
  },
  {
   "cell_type": "code",
   "execution_count": 68,
   "id": "36d3dc86",
   "metadata": {},
   "outputs": [],
   "source": [
    "html = c3.write_html('./cube_x3d/examples/%s.html'%x3dname.split('.')[0], units=['mJy/beam', cubehead['CUNIT1'], cubehead['CUNIT2'], cubehead['CUNIT3']],\n",
    "                     l_isolevels=[isolevels], tabtitle=tabtitle, pagetitle=pagetitle,\n",
    "                     description=desc)"
   ]
  },
  {
   "cell_type": "code",
   "execution_count": 69,
   "id": "1cb18a7d",
   "metadata": {},
   "outputs": [],
   "source": [
    "html.func_layers([isolevels])\n",
    "#html.func_galaxies(gals)\n",
    "#html.func_gallab()\n",
    "html.func_grids()\n",
    "html.func_axes('both')\n",
    "#html.func_pick() #for coordinate picking\n",
    "#html.func_animation()\n",
    "html.start_x3d()\n",
    "html.viewpoints(file.diff_coords[:,2])\n",
    "html.close_x3d(x3dname)\n",
    "html.buttons([isolevels], [color], colormaps=colmaps, hide2d=True, scalev=True, move2d=True)\n",
    "#func_move2dimage, func_colormaps and func_scalev must always go after buttons\n",
    "html.func_image2d()\n",
    "html.func_colormaps([isolevels])\n",
    "html.func_scalev(gals=None, axes='both', coords=file.diff_coords, move2d=True)\n",
    "html.func_move2dimage(file.diff_coords[2,2], file.real_coords[2,2])\n",
    "html.close_html()"
   ]
  },
  {
   "cell_type": "code",
   "execution_count": null,
   "id": "d503b2e1",
   "metadata": {},
   "outputs": [],
   "source": []
  },
  {
   "cell_type": "code",
   "execution_count": null,
   "id": "f7daa882",
   "metadata": {},
   "outputs": [],
   "source": []
  }
 ],
 "metadata": {
  "kernelspec": {
   "display_name": "Python 3 (ipykernel)",
   "language": "python",
   "name": "python3"
  },
  "language_info": {
   "codemirror_mode": {
    "name": "ipython",
    "version": 3
   },
   "file_extension": ".py",
   "mimetype": "text/x-python",
   "name": "python",
   "nbconvert_exporter": "python",
   "pygments_lexer": "ipython3",
   "version": "3.10.8"
  }
 },
 "nbformat": 4,
 "nbformat_minor": 5
}
