{
 "cells": [
  {
   "cell_type": "code",
   "execution_count": 1,
   "id": "a663f696",
   "metadata": {},
   "outputs": [],
   "source": [
    "from spectral_cube import SpectralCube #To read FITS\n",
    "import numpy as np\n",
    "import astropy.units as u\n",
    "from astropy.coordinates import SkyCoord, Angle\n",
    "from skimage import measure\n",
    "from astropy import wcs\n",
    "import cube_x3d as c3\n",
    "import matplotlib.pyplot as plt\n",
    "from matplotlib import cm\n",
    "from astroquery.skyview import SkyView"
   ]
  },
  {
   "cell_type": "code",
   "execution_count": null,
   "id": "ade3539b",
   "metadata": {},
   "outputs": [],
   "source": [
    "import importlib\n",
    "importlib.reload(c3)"
   ]
  },
  {
   "cell_type": "code",
   "execution_count": 2,
   "id": "4977833d",
   "metadata": {},
   "outputs": [
    {
     "name": "stdout",
     "output_type": "stream",
     "text": [
      "C:\\Users\\ixaka\\Documents\\Visualization\n"
     ]
    }
   ],
   "source": [
    "%cd C:\\Users\\ixaka\\Documents\\Visualization"
   ]
  },
  {
   "cell_type": "code",
   "execution_count": 3,
   "id": "41fd7d93",
   "metadata": {},
   "outputs": [
    {
     "name": "stdout",
     "output_type": "stream",
     "text": [
      "(265, 500, 500)\n"
     ]
    },
    {
     "name": "stderr",
     "output_type": "stream",
     "text": [
      "WARNING: StokesWarning: Cube is a Stokes cube, returning spectral cube for I component [spectral_cube.io.core]\n"
     ]
    }
   ],
   "source": [
    "# Read the fits file and save header\n",
    "HI_cube = SpectralCube.read('HCG31.fits')\n",
    "cubehead = HI_cube.header\n",
    "cubew = wcs.WCS(cubehead)\n",
    "nz, ny, nx = HI_cube.shape\n",
    "print(HI_cube.shape)\n",
    "dra, ddec, dv = cubehead['CDELT1'], cubehead['CDELT2'], cubehead['CDELT3']\n",
    "delta_arcsec = (np.abs(dra)*3600, np.abs(ddec)*3600, np.abs(dv)/1000)"
   ]
  },
  {
   "cell_type": "code",
   "execution_count": 9,
   "id": "4d66d51b",
   "metadata": {},
   "outputs": [
    {
     "data": {
      "text/plain": [
       "(array([5.03145411e-05, 1.67715137e-05, 6.70860547e-05, 1.67715137e-05,\n",
       "        3.35430274e-05, 1.34170768e-04, 1.34172109e-04, 1.17400596e-04,\n",
       "        3.01887246e-04, 2.85115733e-04, 2.68344219e-04, 4.69602383e-04,\n",
       "        4.02516328e-04, 7.88261143e-04, 8.05032657e-04, 5.36688438e-04,\n",
       "        1.03982345e-03, 1.22432050e-03, 1.57653017e-03, 1.84485728e-03,\n",
       "        1.89518105e-03, 2.06289618e-03, 2.41509797e-03, 2.81761430e-03,\n",
       "        2.93501489e-03, 3.57231456e-03, 4.36059356e-03, 4.12579237e-03,\n",
       "        5.13208319e-03, 6.99372121e-03, 7.41297200e-03, 8.16772716e-03,\n",
       "        9.64362037e-03, 1.18239171e-02, 1.30985522e-02, 1.49434187e-02,\n",
       "        1.82976300e-02, 2.03941606e-02, 2.55262438e-02, 2.61971044e-02,\n",
       "        2.96688077e-02, 3.38112026e-02, 3.72327604e-02, 4.27841314e-02,\n",
       "        4.63900069e-02, 5.56311109e-02, 5.97401317e-02, 6.79746052e-02,\n",
       "        7.74173072e-02, 8.47632302e-02, 9.60001443e-02, 1.04486530e-01,\n",
       "        1.21978609e-01, 1.32847160e-01, 1.44134389e-01, 1.57803172e-01,\n",
       "        1.77627101e-01, 1.98188977e-01, 2.07378730e-01, 2.29316907e-01,\n",
       "        2.47765572e-01, 2.69518225e-01, 2.95278532e-01, 3.15824374e-01,\n",
       "        3.40411413e-01, 3.73735477e-01, 3.98809824e-01, 4.34432519e-01,\n",
       "        4.68745865e-01, 4.98482930e-01, 5.32376828e-01, 5.67833139e-01,\n",
       "        6.08520831e-01, 6.45416548e-01, 6.80822827e-01, 7.16562922e-01,\n",
       "        7.58774926e-01, 8.07682556e-01, 8.39078830e-01, 8.86439369e-01,\n",
       "        9.19632410e-01, 9.64511775e-01, 1.00410927e+00, 1.03961582e+00,\n",
       "        1.07706526e+00, 1.11748456e+00, 1.15748457e+00, 1.19456783e+00,\n",
       "        1.24159361e+00, 1.26052862e+00, 1.30202129e+00, 1.33742759e+00,\n",
       "        1.36171104e+00, 1.39634504e+00, 1.42185361e+00, 1.45110400e+00,\n",
       "        1.47404650e+00, 1.48541850e+00, 1.50301133e+00, 1.50918324e+00,\n",
       "        1.51535516e+00, 1.52072215e+00, 1.52365705e+00, 1.51562350e+00,\n",
       "        1.51745183e+00, 1.50834467e+00, 1.49757737e+00, 1.48610520e+00,\n",
       "        1.46618158e+00, 1.44862182e+00, 1.41927080e+00, 1.39733456e+00,\n",
       "        1.37370351e+00, 1.34599615e+00, 1.30800872e+00, 1.28244896e+00,\n",
       "        1.25546520e+00, 1.21501079e+00, 1.16823510e+00, 1.12971239e+00,\n",
       "        1.09653697e+00, 1.05145519e+00, 9.97970903e-01, 9.60972990e-01,\n",
       "        9.17552742e-01, 8.83338854e-01, 8.46120751e-01, 7.95825096e-01,\n",
       "        7.54583944e-01, 7.13676438e-01, 6.72051325e-01, 6.35655552e-01,\n",
       "        5.99699015e-01, 5.61124533e-01, 5.31773055e-01, 4.93199903e-01,\n",
       "        4.61753315e-01, 4.24284693e-01, 3.90239580e-01, 3.63421930e-01,\n",
       "        3.40226076e-01, 3.11480552e-01, 2.82180718e-01, 2.57525949e-01,\n",
       "        2.37031803e-01, 2.22155470e-01, 2.01945796e-01, 1.81500414e-01,\n",
       "        1.67010733e-01, 1.51161653e-01, 1.35564145e-01, 1.24662661e-01,\n",
       "        1.10305694e-01, 9.82810702e-02, 8.81510759e-02, 7.90441440e-02,\n",
       "        7.05242150e-02, 6.39833247e-02, 5.81968616e-02, 5.20923215e-02,\n",
       "        4.69937813e-02, 4.12243806e-02, 3.58574963e-02, 3.03059738e-02,\n",
       "        2.65493062e-02, 2.39329500e-02, 2.13836799e-02, 1.73249736e-02,\n",
       "        1.67715137e-02, 1.41215439e-02, 1.35513831e-02, 1.09182554e-02,\n",
       "        9.77779248e-03, 8.65410106e-03, 7.32911485e-03, 6.47380428e-03,\n",
       "        5.01468259e-03, 4.64570929e-03, 3.90776269e-03, 3.11950155e-03,\n",
       "        2.88468594e-03, 1.91195256e-03, 2.31446889e-03, 1.49266472e-03,\n",
       "        1.50943623e-03, 1.29140655e-03, 1.29140010e-03, 9.89519307e-04,\n",
       "        1.05660536e-03, 7.88261143e-04, 4.69602383e-04, 7.54718116e-04,\n",
       "        4.69602383e-04, 2.85115733e-04, 2.01256152e-04, 1.84486651e-04,\n",
       "        1.17400596e-04, 1.00629082e-04, 6.70860547e-05, 3.35430274e-05]),\n",
       " array([-1.22071588, -1.2087909 , -1.19686592, -1.18494093, -1.17301595,\n",
       "        -1.16109097, -1.14916587, -1.13724089, -1.1253159 , -1.11339092,\n",
       "        -1.10146594, -1.08954096, -1.07761598, -1.06569099, -1.05376601,\n",
       "        -1.04184103, -1.02991605, -1.01799095, -1.00606596, -0.99414104,\n",
       "        -0.982216  , -0.97029102, -0.95836604, -0.94644105, -0.93451607,\n",
       "        -0.92259109, -0.91066605, -0.89874107, -0.88681608, -0.8748911 ,\n",
       "        -0.86296612, -0.85104108, -0.8391161 , -0.82719111, -0.81526613,\n",
       "        -0.80334115, -0.79141617, -0.77949113, -0.76756614, -0.75564116,\n",
       "        -0.74371618, -0.7317912 , -0.71986616, -0.70794117, -0.69601619,\n",
       "        -0.68409121, -0.67216623, -0.66024125, -0.6483162 , -0.63639122,\n",
       "        -0.62446624, -0.61254126, -0.60061628, -0.58869123, -0.57676625,\n",
       "        -0.56484127, -0.55291629, -0.54099131, -0.52906632, -0.51714128,\n",
       "        -0.5052163 , -0.49329132, -0.48136634, -0.46944132, -0.45751634,\n",
       "        -0.44559136, -0.43366635, -0.42174137, -0.40981638, -0.39789137,\n",
       "        -0.38596639, -0.37404138, -0.3621164 , -0.35019141, -0.3382664 ,\n",
       "        -0.32634142, -0.31441644, -0.30249143, -0.29056644, -0.27864146,\n",
       "        -0.26671645, -0.25479147, -0.24286647, -0.23094147, -0.21901649,\n",
       "        -0.2070915 , -0.1951665 , -0.1832415 , -0.17131652, -0.15939152,\n",
       "        -0.14746653, -0.13554153, -0.12361655, -0.11169155, -0.09976656,\n",
       "        -0.08784156, -0.07591657, -0.06399158, -0.05206659, -0.04014159,\n",
       "        -0.0282166 , -0.01629161, -0.00436661,  0.00755838,  0.01948337,\n",
       "         0.03140836,  0.04333336,  0.05525835,  0.06718335,  0.07910834,\n",
       "         0.09103332,  0.10295832,  0.11488331,  0.1268083 ,  0.1387333 ,\n",
       "         0.15065829,  0.16258329,  0.17450827,  0.18643327,  0.19835827,\n",
       "         0.21028325,  0.22220825,  0.23413324,  0.24605824,  0.25798324,\n",
       "         0.26990822,  0.2818332 ,  0.29375821,  0.3056832 ,  0.31760818,\n",
       "         0.32953319,  0.34145817,  0.35338318,  0.36530817,  0.37723315,\n",
       "         0.38915816,  0.40108314,  0.41300812,  0.42493314,  0.43685812,\n",
       "         0.4487831 ,  0.46070811,  0.47263309,  0.48455808,  0.49648309,\n",
       "         0.50840807,  0.52033305,  0.53225803,  0.54418308,  0.55610806,\n",
       "         0.56803304,  0.57995802,  0.591883  ,  0.60380805,  0.61573303,\n",
       "         0.62765801,  0.63958299,  0.65150797,  0.66343296,  0.675358  ,\n",
       "         0.68728298,  0.69920796,  0.71113294,  0.72305793,  0.73498297,\n",
       "         0.74690795,  0.75883293,  0.77075791,  0.7826829 ,  0.79460788,\n",
       "         0.80653292,  0.8184579 ,  0.83038288,  0.84230787,  0.85423285,\n",
       "         0.86615789,  0.87808287,  0.89000785,  0.90193284,  0.91385782,\n",
       "         0.9257828 ,  0.93770784,  0.94963282,  0.96155781,  0.97348279,\n",
       "         0.98540777,  0.99733275,  1.00925779,  1.02118278,  1.03310776,\n",
       "         1.04503274,  1.05695772,  1.0688827 ,  1.08080769,  1.09273267,\n",
       "         1.10465777,  1.11658275,  1.12850773,  1.14043272,  1.1523577 ,\n",
       "         1.16428268]),\n",
       " <BarContainer object of 200 artists>)"
      ]
     },
     "execution_count": 9,
     "metadata": {},
     "output_type": "execute_result"
    },
    {
     "data": {
      "image/png": "[encoded data removed]",
      "text/plain": [
       "<Figure size 640x480 with 1 Axes>"
      ]
     },
     "metadata": {},
     "output_type": "display_data"
    }
   ],
   "source": [
    "plt.hist(HI_cube.unmasked_data[:20].to_value().flatten()*1000, bins=200, density=True)"
   ]
  },
  {
   "cell_type": "code",
   "execution_count": 5,
   "id": "5999d49e",
   "metadata": {},
   "outputs": [],
   "source": [
    "# calculate rms of data. choose an area with no emission\n",
    "from scipy.stats import norm\n",
    "_, rms = norm.fit(HI_cube.unmasked_data[:20].to_value().flatten()*1000)\n"
   ]
  },
  {
   "cell_type": "code",
   "execution_count": 8,
   "id": "514eeea0",
   "metadata": {},
   "outputs": [
    {
     "data": {
      "image/png": "[encoded data removed]",
      "text/plain": [
       "<Figure size 640x480 with 1 Axes>"
      ]
     },
     "metadata": {},
     "output_type": "display_data"
    }
   ],
   "source": [
    "plt.hist(HI_cube.unmasked_data[:].to_value().flatten()*1000/rms, bins=100, density=True)\n",
    "plt.yscale('log')"
   ]
  },
  {
   "cell_type": "code",
   "execution_count": null,
   "id": "157dadf2",
   "metadata": {},
   "outputs": [],
   "source": [
    "#define isoleves in mJy/beam\n",
    "#isolevels = np.array([1.5, 2.5, 3.5, 6]) #hcg91\n",
    "#isolevels = np.array([1.5, 4.5, 8.5, 13]) #hcg16\n",
    "isolevels = np.array([1.5, 3.5, 6.5, 11]) #hcg31"
   ]
  },
  {
   "cell_type": "code",
   "execution_count": null,
   "id": "788cc0e4",
   "metadata": {
    "collapsed": true
   },
   "outputs": [],
   "source": [
    "c3.preview2d(HI_cube.unmasked_data[:].to_value(), vmin1=0.006, vmax1=0.03, vmin2=0.01, vmax2=0.07, norm='asinh')"
   ]
  },
  {
   "cell_type": "code",
   "execution_count": null,
   "id": "716e3f9b",
   "metadata": {},
   "outputs": [],
   "source": [
    "limx = [0, nx-1]\n",
    "limy = [0, ny-1]\n",
    "limz = [0, nz-1]"
   ]
  },
  {
   "cell_type": "code",
   "execution_count": null,
   "id": "cc90f836",
   "metadata": {},
   "outputs": [],
   "source": [
    "#HCG31\n",
    "# Limits to crop the cube, no HI there. Subtract 1 to wanted number, e.g. nz-1.\n",
    "limx = [60, nx-61]\n",
    "limy = [100, ny-91]\n",
    "limz = [90, nz-81]"
   ]
  },
  {
   "cell_type": "code",
   "execution_count": null,
   "id": "1e2867ac",
   "metadata": {},
   "outputs": [],
   "source": [
    "#HCG16\n",
    "# Limits to crop the cube, no HI there. Subtract 1 to wanted number, e.g. nz-1.\n",
    "limx = [80, nx-16]\n",
    "limy = [50, ny-11]\n",
    "limz = [0, nz-1]"
   ]
  },
  {
   "cell_type": "code",
   "execution_count": null,
   "id": "14ae7c5f",
   "metadata": {},
   "outputs": [],
   "source": [
    "#HCG91\n",
    "# Limits to crop the cube, no HI there. Subtract 1 to wanted number, e.g. nz-1.\n",
    "limx = [100, nx-101]\n",
    "limy = [100, ny-81]\n",
    "limz = [10, nz-11]"
   ]
  },
  {
   "cell_type": "code",
   "execution_count": null,
   "id": "3943bcdb",
   "metadata": {},
   "outputs": [],
   "source": [
    "ralim = HI_cube.spatial_coordinate_map[1][0,:][limx][::int(np.sign(cubehead[\"CDELT1\"]))]\n",
    "ramean = np.mean(ralim)\n",
    "declim = HI_cube.spatial_coordinate_map[0][:,0][limy][::int(np.sign(cubehead[\"CDELT2\"]))]\n",
    "decmean = np.mean(declim)\n",
    "vlim = HI_cube.spectral_axis[limz][::int(np.sign(dv))]\n",
    "vmean = np.mean(vlim).to('km/s').to_value()"
   ]
  },
  {
   "cell_type": "code",
   "execution_count": null,
   "id": "ebf77bf3",
   "metadata": {},
   "outputs": [],
   "source": [
    "def transpose(array, delta):\n",
    "    dra, ddec, dv = delta\n",
    "    return np.transpose(array, (2,1,0))[::int(np.sign(dra)), ::int(np.sign(ddec)),::int(np.sign(dv))]"
   ]
  },
  {
   "cell_type": "code",
   "execution_count": null,
   "id": "7bd37a45",
   "metadata": {},
   "outputs": [],
   "source": [
    "# create cropped array and transform units to mJy/beam\n",
    "HI_cube = HI_cube.unmasked_data[limz[0]:limz[1]+1,limy[0]:limy[1]+1,limx[0]:limx[1]+1].to(u.mJy/u.beam).to_value()\n",
    "# Slice the data, transpose to (ra,dec,v) and flip axes if needed (see if step in FITS header is + or -)\n",
    "HI_cube = transpose(HI_cube, (dra,ddec,dv))"
   ]
  },
  {
   "cell_type": "code",
   "execution_count": null,
   "id": "5ecfb3da",
   "metadata": {},
   "outputs": [],
   "source": [
    "# Save new dimensions\n",
    "nx_2, ny_2, nz_2 = HI_cube.shape\n",
    "print(HI_cube.shape)"
   ]
  },
  {
   "cell_type": "code",
   "execution_count": null,
   "id": "9e59a534",
   "metadata": {},
   "outputs": [],
   "source": [
    "c = '0 0 1'\n",
    "# HCG31 all from LVM et al. (2005)\n",
    "gals = {'HCG31a':{'v':4090,'col':c},\n",
    "       'HCG31b':{'v':4122,'col':c},\n",
    "       'HCG31c':{'v':3984,'col':c},\n",
    "        'HCG31g':{'v':4005,'col':c},\n",
    "        'HCG31q':{'v':4090,'col':c}\n",
    "       }"
   ]
  },
  {
   "cell_type": "code",
   "execution_count": null,
   "id": "10dd2771",
   "metadata": {},
   "outputs": [],
   "source": [
    "c = '0 0 1'\n",
    "# HCG16 from Hickson 1992\n",
    "gals = {'HCG16a':{'v':4152,'col':c},\n",
    "       'HCG16b':{'v':3977,'col':c},\n",
    "       'HCG16c':{'v':3851,'col':c},\n",
    "        'HCG16d':{'v':3847,'col':c},\n",
    "        'NGC848':{'v':4001, 'col':c}\n",
    "       }"
   ]
  },
  {
   "cell_type": "code",
   "execution_count": null,
   "id": "3fc18ca5",
   "metadata": {},
   "outputs": [],
   "source": [
    "c = '0 0 1'\n",
    "# HCG91 from Hickson 1992\n",
    "gals = {'HCG91a':{'v':6832,'col':c},\n",
    "       'HCG91b':{'v':7196,'col':c},\n",
    "       'HCG91c':{'v':7319,'col':c},\n",
    "        'HCG91d':{'v':7195,'col':c}\n",
    "       }"
   ]
  },
  {
   "cell_type": "code",
   "execution_count": null,
   "id": "1a2e0bb9",
   "metadata": {},
   "outputs": [],
   "source": [
    "for (k,gal) in enumerate(gals.keys()):\n",
    "\n",
    "    # Go from RA/Dec -> rescaled pixel space !\n",
    "    coords = SkyCoord.from_name(gal)\n",
    "    #coords = SkyCoord(gals[gal]['ra'], gals[gal]['dec'])\n",
    "    #pixcrd = coords.to_pixel(w,1)\n",
    "    \n",
    "    coords.ra.deg = (coords.ra.deg-ramean.to_value())*np.cos(np.radians(declim[0]))*3600\n",
    "    coords.dec.deg = (coords.dec.deg-decmean.to_value())*3600.\n",
    "\n",
    "    gals[gal]['coord'] = np.array([coords.ra.deg, coords.dec.deg, gals[gal]['v']-vmean])"
   ]
  },
  {
   "cell_type": "code",
   "execution_count": null,
   "id": "fddea91d",
   "metadata": {},
   "outputs": [],
   "source": [
    "coords = np.array([ralim, declim, vlim])"
   ]
  },
  {
   "cell_type": "code",
   "execution_count": null,
   "id": "1a5c5648",
   "metadata": {},
   "outputs": [],
   "source": [
    "color = c3.create_colormap('CMRmap', isolevels)"
   ]
  },
  {
   "cell_type": "code",
   "execution_count": null,
   "id": "94f6d26e",
   "metadata": {},
   "outputs": [],
   "source": [
    "meta = {'generator':'create_x3d python module',\n",
    "       'creator':'Name Surname',\n",
    "       'title':cubehead['OBJECT'],\n",
    "        'numberofelements':f'{len(isolevels)} layers, {len(gals)} galaxies',\n",
    "        'description':'HI data cube of %s'%cubehead['OBJECT']\n",
    "       }"
   ]
  },
  {
   "cell_type": "code",
   "execution_count": null,
   "id": "0fba6a83",
   "metadata": {},
   "outputs": [],
   "source": [
    "x3dname = 'HCG31_test.x3d'"
   ]
  },
  {
   "cell_type": "code",
   "execution_count": null,
   "id": "cf2aa79b",
   "metadata": {},
   "outputs": [],
   "source": [
    "file = c3.write_x3d('./cube_x3d/examples/%s'%x3dname, delta_arcsec,\n",
    "                    coords, [cubehead['CUNIT1'], cubehead['CUNIT2'],\n",
    "                             cubehead['CUNIT3']], meta, picking=True)\n",
    "\n",
    "#also need html.func_pick() if picking=True"
   ]
  },
  {
   "cell_type": "code",
   "execution_count": null,
   "id": "baa78dae",
   "metadata": {},
   "outputs": [],
   "source": [
    "survey = ['DSS2 Blue']\n",
    "verts = (coords[0,0], coords[0,1], coords[1,0], coords[1,1])\n",
    "imcol, img_shape, img = c3.get_imcol(position='HCG16', survey=survey, verts=verts,\n",
    "                                     unit='deg', pixels='2500,2500',\n",
    "                         coordinates='J2000',grid=True, gridlabels=True)"
   ]
  },
  {
   "cell_type": "code",
   "execution_count": null,
   "id": "41363a70",
   "metadata": {},
   "outputs": [],
   "source": [
    "file.make_layers(HI_cube, isolevels, color)\n",
    "file.make_outline()\n",
    "file.make_galaxies(gals=gals, labels=True)\n",
    "file.make_image2d(imcol, img_shape)\n",
    "file.make_ticklines()\n",
    "file.make_labels(gals=gals, axlab='both') \n",
    "# html.func_scalev(axes) should be same as axlab, not func_axes() though.\n",
    "file.close()"
   ]
  },
  {
   "cell_type": "code",
   "execution_count": null,
   "id": "be78667c",
   "metadata": {},
   "outputs": [],
   "source": [
    "tabtitle = 'HCG31'\n",
    "pagetitle = 'HCG31 interactive HI datacube with X3D'\n",
    "# add in desc for 2d image: <br>\\n\\t Background image: {survey}\n",
    "desc = f\"Object: {cubehead['OBJECT']}.<t> Telescope: {cubehead['TELESCOP']}. RestFreq = {cubehead['RESTFREQ']/1e6:.4f} MHz.<br>\\n\\t Center: (RA,Dec,V)=({np.round(ramean,5)}, {np.round(decmean,5)}, {np.round(vmean,3)} km/s)\""
   ]
  },
  {
   "cell_type": "code",
   "execution_count": null,
   "id": "153e26dd",
   "metadata": {},
   "outputs": [],
   "source": [
    "colmaps = ['magma', 'CMRmap', 'inferno', 'plasma', 'viridis', 'Greys',\n",
    "           'Blues', 'OrRd', 'PuRd', 'Reds', 'Spectral', 'Wistia',\n",
    "          'YlGn', 'YlOrRd', 'afmhot', 'autumn', 'cool', 'coolwarm',\n",
    "          'copper', 'cubehelix', 'flag', 'gist_earth', 'gist_heat',\n",
    "          'gist_ncar', 'gist_stern', 'gnuplot', 'gnuplot2', 'hot',\n",
    "          'nipy_spectral', 'prism', 'winter', 'Paired']"
   ]
  },
  {
   "cell_type": "code",
   "execution_count": null,
   "id": "36d3dc86",
   "metadata": {},
   "outputs": [],
   "source": [
    "html = c3.write_html('./cube_x3d/examples/%s.html'%x3dname.split('.')[0],\n",
    "                     tabtitle=tabtitle, pagetitle=pagetitle,\n",
    "                     description=desc)"
   ]
  },
  {
   "cell_type": "code",
   "execution_count": null,
   "id": "1cb18a7d",
   "metadata": {},
   "outputs": [],
   "source": [
    "html.func_layers(len(isolevels))\n",
    "html.func_galaxies(gals)\n",
    "html.func_gallab()\n",
    "html.func_grids()\n",
    "html.func_axes('both')\n",
    "html.func_pick() #for coordinate picking\n",
    "html.start_x3d()\n",
    "html.viewpoints(maxco=(file.diff_coords[0,2], file.diff_coords[1,2]),\n",
    "                vrad=file.diff_coords[2])\n",
    "html.close_x3d(x3dname)\n",
    "html.buttons(isolevels, colormaps=colmaps, hide2d=True, scalev=True, move2d=True)\n",
    "#func_move2dimage, func_colormaps and func_scalev must always go after buttons\n",
    "html.func_image2d(vmax=file.diff_coords[2,2], scalev=True)\n",
    "html.func_colormaps(isolevels)\n",
    "html.func_scalev(len(isolevels), gals, axes='both', coords=file.diff_coords, vmax=file.diff_coords[2,2])\n",
    "html.func_move2dimage(vmax=file.diff_coords[2,2])\n",
    "html.close_html()"
   ]
  },
  {
   "cell_type": "code",
   "execution_count": null,
   "id": "d503b2e1",
   "metadata": {},
   "outputs": [],
   "source": []
  },
  {
   "cell_type": "code",
   "execution_count": null,
   "id": "f7daa882",
   "metadata": {},
   "outputs": [],
   "source": []
  }
 ],
 "metadata": {
  "kernelspec": {
   "display_name": "Python 3 (ipykernel)",
   "language": "python",
   "name": "python3"
  },
  "language_info": {
   "codemirror_mode": {
    "name": "ipython",
    "version": 3
   },
   "file_extension": ".py",
   "mimetype": "text/x-python",
   "name": "python",
   "nbconvert_exporter": "python",
   "pygments_lexer": "ipython3",
   "version": "3.10.8"
  }
 },
 "nbformat": 4,
 "nbformat_minor": 5
}
