{
 "cells": [
  {
   "cell_type": "code",
   "execution_count": 89,
   "id": "a663f696",
   "metadata": {},
   "outputs": [],
   "source": [
    "from spectral_cube import SpectralCube #To read FITS\n",
    "import numpy as np\n",
    "import astropy.units as u\n",
    "from astropy.coordinates import SkyCoord, Angle\n",
    "from skimage import measure\n",
    "from astropy import wcs\n",
    "import cube_x3d as c3\n",
    "import matplotlib.pyplot as plt\n",
    "from matplotlib import cm\n",
    "from astroquery.skyview import SkyView"
   ]
  },
  {
   "cell_type": "code",
   "execution_count": 90,
   "id": "ade3539b",
   "metadata": {},
   "outputs": [
    {
     "data": {
      "text/plain": [
       "<module 'cube_x3d' from 'c:\\\\Users\\\\ixaka\\\\Documents\\\\Visualization\\\\cube_x3d\\\\cube_x3d.py'>"
      ]
     },
     "execution_count": 90,
     "metadata": {},
     "output_type": "execute_result"
    }
   ],
   "source": [
    "import importlib\n",
    "importlib.reload(c3)"
   ]
  },
  {
   "cell_type": "code",
   "execution_count": 91,
   "id": "4977833d",
   "metadata": {},
   "outputs": [
    {
     "name": "stdout",
     "output_type": "stream",
     "text": [
      "C:\\Users\\ixaka\\Documents\\Visualization\n"
     ]
    }
   ],
   "source": [
    "%cd C:\\Users\\ixaka\\Documents\\Visualization"
   ]
  },
  {
   "cell_type": "code",
   "execution_count": 92,
   "id": "6909a3e4",
   "metadata": {},
   "outputs": [],
   "source": [
    "def find_nearest(array, value):\n",
    "    array = np.asarray(array)\n",
    "    idx = (np.abs(array - value)).argmin()\n",
    "    return array[idx],idx"
   ]
  },
  {
   "cell_type": "code",
   "execution_count": 93,
   "id": "41fd7d93",
   "metadata": {},
   "outputs": [
    {
     "name": "stdout",
     "output_type": "stream",
     "text": [
      "(4300, 52, 58)\n"
     ]
    },
    {
     "name": "stderr",
     "output_type": "stream",
     "text": [
      "WARNING: UnitsWarning: 'erg/cm2/s/A' contains multiple slashes, which is discouraged by the FITS standard [astropy.units.format.generic]\n"
     ]
    }
   ],
   "source": [
    "# Read the fits file and save header\n",
    "cube = SpectralCube.read('C:\\\\Users\\\\ixaka\\\\Documents\\\\Optical-Montoro\\\\flux_MRB_final_rss_corr.fits')\n",
    "cubehead = cube.header\n",
    "cubew = wcs.WCS(cubehead)\n",
    "nz, ny, nx = cube.shape\n",
    "print(cube.shape)\n",
    "dra, ddec, dv = cubehead['CDELT1'], cubehead['CDELT2'], cubehead['CDELT3']\n",
    "delta_arcsec = (np.abs(dra)*3600, np.abs(ddec)*3600, np.abs(dv))"
   ]
  },
  {
   "cell_type": "code",
   "execution_count": 179,
   "id": "f1d2859c",
   "metadata": {},
   "outputs": [
    {
     "data": {
      "text/plain": [
       "SIMPLE  =                    T / Fits standard                                  \n",
       "BITPIX  =                  -64 / Bits per pixel                                 \n",
       "NAXIS   =                    3                                                  \n",
       "NAXIS1  =                   58                                                  \n",
       "NAXIS2  =                   52                                                  \n",
       "NAXIS3  =                 4300                                                  \n",
       "EXTEND  =                    T / File may contain extensions                    \n",
       "ORIGIN  = 'NOAO-IRAF FITS Image Kernel July 2003' / FITS file originator        \n",
       "DATE    = '2023-02-07T12:51:23' / Date FITS file was generated                  \n",
       "IRAF-TLM= '2023-02-07T12:51:20' / Time of last modification                     \n",
       "OBJECT  = 'A58_1.1 '           / Name of the object observed                    \n",
       "COMMENT   FITS (Flexible Image Transport System) format is defined in 'Astronomy\n",
       "COMMENT   and Astrophysics', volume 376, page 359; bibcode: 2001A&A...376..359H \n",
       "INSTRUME= 'MEGARA  '           / Instrument name                                \n",
       "BUNIT   = 'A-1 cm-2 erg s-1'                                                    \n",
       "DETECTOR= 'CCD2231-84-0-E74'   / Detector Model                                 \n",
       "EXPTIME =                 600. / [s] Exposure time                              \n",
       "DARKTIME=              600.852 / [s] Exposure time                              \n",
       "READMODE= 'NORMAL  '           / Read Mode                                      \n",
       "RSPEED  = 'SLOW    '           / Readout Speed                                  \n",
       "GAIN1   =                 1.73 / [e- / ADU] Gain Top Channel                    \n",
       "GAIN2   =                  1.6 / Gain Bottom Channel                            \n",
       "RDNOISE1=                  3.4 / RON Top Channel (e-)                           \n",
       "RDNOISE2=                  3.4 / RON Bottom Channel (e-)                        \n",
       "NUM_INDX=                   1. / Image index in sequence                        \n",
       "NUM_IMAG=                   3. / Number of images in sequence                   \n",
       "IPA     =              196.146 / Instrument position (degrees)                  \n",
       "AIRMASS =             1.490964 / AIRMASS                                        \n",
       "AIRMASS1=     1.49096427521298 / AIRMASS at begining of observation             \n",
       "AIRMASS2=     1.49096427521298 / AIRMASS at end of observation                  \n",
       "RA      = '19:18:20.395'       / Telescope right ascension (HH:MM:SS)  (h:m:s)  \n",
       "DEC     = '01:46:59.603'       / Telescope declination (DD:PP:SS) (d:m:s)       \n",
       "RADEG   =     289.584978201661 / Telescope right ascension in decimal degrees. (\n",
       "DECDEG  =     1.78322294592686 / Telescope declination in degrees (degrees)     \n",
       "AZIMUTH =     117.860754587914 / Tel. azimuth at start time (deg)               \n",
       "ELEVAT  =     42.0635376996423 / Elevation at start of observation (deg)        \n",
       "ROTANG  =     67.7489944444444 / Rotator FCCS_F position angle (deg)            \n",
       "ASGRA   = '19:18:29.380'       / ASG right ascension (h:m:s)                    \n",
       "ASGDEC  = '01:43:55.466'       / ASG declination (d:m:s)                        \n",
       "M2UX    =     1.57050001621246 / GTC secondary mirror UX position               \n",
       "M2UY    =     2.31684994697571 / GTC secondary mirror UY position               \n",
       "M2UZ    =     -1.7681599855423 / GTC secondary mirror UZ position               \n",
       "M2RX    = 0.000594786019064486 / GTC secondary mirror RX position               \n",
       "M2RY    = -0.000409152999054641 / GTC secondary mirror RY position              \n",
       "IDTELFOC=                   0. / Ins dem telescope focus                        \n",
       "DEWPOINT=              -2.8601 / Ambient dew point (Celsius)                    \n",
       "HUMIDITY=                16.11 / Ambient humidity (%)                           \n",
       "PRESSURE=             781.3206 / Ambient atmospheric pressure (hPascal)         \n",
       "TAMBIENT=              14.0656 / Ambient temperature (Celsius)                  \n",
       "WINDDIRE=                 353. / Wind direction (from) from N to E (deg)        \n",
       "WINDSPEE=    0.609000000000076 / Wind speed (m/s)                               \n",
       "LST     = '16:32:48.376'       / Local sidereal time (h:m:s)                    \n",
       "CAT-RA  = '0       '           / Catalog object RA                              \n",
       "CAT-DEC = '0       '           / Catalog object DEC                             \n",
       "SETPNT  =                 149. / Setpoint                                       \n",
       "CCDTEMP0=     148.998992919922 / CCD Temperature (K)                            \n",
       "CCDTEMP1=      242.77799987793 / CCD Temperature (K)                            \n",
       "CCDTEMP2=     242.255004882812 / CCD Temperature (K)                            \n",
       "CCDTEMP3=     82.5514984130859 / CCD Temperature (K)                            \n",
       "SENTEMP0=     293.698561837186 / Optical bench temperatures (K)                 \n",
       "SENTEMP1=               423.15 / Optical bench temperatures (K)                 \n",
       "SENTEMP2=     285.687575341421 / Optical bench temperatures (K)                 \n",
       "SENTEMP3=     287.256202792401 / Optical bench temperatures (K)                 \n",
       "SENTEMP4=     286.407801174945 / Optical bench temperatures (K)                 \n",
       "SENTEMP5=     290.777985046159 / Optical bench temperatures (K)                 \n",
       "SENTEMP6=      288.27855725948 / Optical bench temperatures (K)                 \n",
       "INDTEMP0=     14.9776666666667 / Naysmith A structure temperature (C)           \n",
       "INSMODE = 'LCB     '           / Slit position                                  \n",
       "VPHWHPOS= 'VPH7    '           / VPH platform                                   \n",
       "VPH     = 'MR-B    '           / VPH name                                       \n",
       "FOCUS   =                 1783 / Focus position (um)                            \n",
       "SLITN   =                78135 / Slit position                                  \n",
       "OSFILTER= 'BLUE    '           / Shutter mode                                   \n",
       "SPOS    =                 1658 / Position of CLOSE                              \n",
       "COVER   = 'STOPPED '           / Cover position                                 \n",
       "LAMPI1S =                    0 / Incandescent Lamp1 status                      \n",
       "LAMPI1I =                   0. / Incandescent Lamp1 intensity (%)               \n",
       "LAMPI2S =                    0 / Incandescent Lamp2 status                      \n",
       "LAMPI2I =                   0. / Incandescent Lamp2 intensity (%)               \n",
       "LAMPS1S =                    0 / Th-Ar Lamp1 status                             \n",
       "LAMPS2S =                    0 / Th-Ar Lamp2 Status                             \n",
       "LAMPS3S =                    0 / Th-Ne Lamp3 status                             \n",
       "LAMPS4S =                    0 / Th-Ar Lamp4 Status                             \n",
       "LAMPS5S =                    0 / Th-Ar Lamp5 Status                             \n",
       "LAMPS6S =                    0 / Th-Ar Lamp6 Status                             \n",
       "LAMPMIR = 'PARK    '           / ICM mirror                                     \n",
       "OBSTYPE = 'OBJECT  '           / Observation Type                               \n",
       "PI      = 'bmontoro'           / Principal Investigator                         \n",
       "OBSERVER= 'SA      '           / Observer Name (SA = support astronomer)        \n",
       "GTCPRGID= 'GTC29-22A'          / Program Identifier                             \n",
       "GTCOBID = '0001    '           / Observation Block ID                           \n",
       "TELESCOP= 'GTC     '           / Telescope id.                                  \n",
       "OBSMODE = 'MegaraLcbImage'     / Observation Mode                               \n",
       "OBSERVAT= 'ORM     '           / Name of observatory (IRAF style)               \n",
       "LATITUDE= '+28:45:43.2'        / Telescope latitude (degrees), +28:45:43.2      \n",
       "LONGITUD= '+17:52:39.5'        / Telescope longitude (degrees), +17:52:39.5     \n",
       "HEIGHT  =                 2348 / Telescope height above sea level (m)           \n",
       "INSCONF = 'ca3558e3-e50d-4bbc-86bd-da50a0998a48' / UUID of instrument config    \n",
       "BLCKUUID= 'd74dcd18-b3d9-4bae-a72c-89821e22abca' / UUID of current block        \n",
       "UUID    = '2621297c-01d2-11ed-ab40-68fef706e71e' / UUID of image                \n",
       "SPECLAMP= 'NONE    '           / Spectral Lamps Summary                         \n",
       "NUM-OVPE= '2e02e135-2325-47c9-9975-466b445b0b8b'                                \n",
       "NUM-TRIM= '2e02e135-2325-47c9-9975-466b445b0b8b'                                \n",
       "NUM-NCOM=                    3                                                  \n",
       "NUM-BPM = '20f77fc2-5a71-11e7-9d4f-f48c50066814'                                \n",
       "NUM-BS  = '9e149418-0129-11ed-8b11-68fef706e71e'                                \n",
       "NUM-GAIN= '2e02e135-2325-47c9-9975-466b445b0b8b'                                \n",
       "NUMXVER = '0.23.2  '           / Numina package version                         \n",
       "NUMRNAM = 'LCBImageRecipe'     / Numina recipe name                             \n",
       "NUMRVER =                    1 / Numina recipe version                          \n",
       "NUM-APE = '04346832-012e-11ed-ad55-68fef706e71e'                                \n",
       "WCSNAMEB= 'Barycentric correction'                                              \n",
       "CTYPE1B = 'AWAV    '                                                            \n",
       "CRPIX1B =                  1.0                                                  \n",
       "CRVAL1B =    4568.153758361425                                                  \n",
       "CDELT1B =   0.1100037025875124                                                  \n",
       "CUNIT1B = 'Angstrom'                                                            \n",
       "CRPIX2B =                  0.0                                                  \n",
       "CRVAL2B =                  0.0                                                  \n",
       "CDELT2B =                  1.0                                                  \n",
       "CTYPE2B = ''                                                                    \n",
       "VELOSYSB=    10090.98010286421                                                  \n",
       "SPECSYSB= 'BARYCENT'                                                            \n",
       "SSYSOBSB= 'TOPOCENT'                                                            \n",
       "NUM-WAV = 'uuid:d584f41c-01c7-11ed-86c3-68fef706e71e'                           \n",
       "NUM-FIBF= '4e52bd48-01cd-11ed-96be-68fef706e71e'                                \n",
       "HISTORY Overscan correction with 2e02e135-2325-47c9-9975-466b445b0b8b           \n",
       "HISTORY Overscan correction time 2022-07-12T11:02:32.618604                     \n",
       "HISTORY Median of col overscan1 is 2081.0                                       \n",
       "HISTORY Overscan1 correction is spline3                                         \n",
       "HISTORY Median of col overscan2 is 2053.0                                       \n",
       "HISTORY Overscan2 correction is spline3                                         \n",
       "HISTORY overscan1 deg 3                                                         \n",
       "HISTORY overscan1 knots [0.0, 0.0, 0.0, 0.0, 1200.0, 2055.0, 2055.0, 2055.0, 205\n",
       "HISTORY 5.0]                                                                    \n",
       "HISTORY overscan1 coeffs [2077.916752885231, 2081.198894843927, 2080.51900463291\n",
       "HISTORY 9, 2082.379800827345, 2082.179899313642, 0.0, 0.0, 0.0, 0.0]            \n",
       "HISTORY overscan2 deg 3                                                         \n",
       "HISTORY overscan2 knots [2156.0, 2156.0, 2156.0, 2156.0, 3100.0, 4211.0, 4211.0,\n",
       "HISTORY  4211.0, 4211.0]                                                        \n",
       "HISTORY overscan2 coeffs [2053.3896751740367, 2053.6626447570866, 2052.984564662\n",
       "HISTORY 817, 2053.727400918066, 2052.344881552797, 0.0, 0.0, 0.0, 0.0]          \n",
       "HISTORY Trimming correction with 2e02e135-2325-47c9-9975-466b445b0b8b           \n",
       "HISTORY Trimming correction time 2022-07-12T11:02:32.653922                     \n",
       "HISTORY Combined 3 images using 'median'                                        \n",
       "HISTORY Combination time 2022-07-12T11:02:34.811851                             \n",
       "HISTORY Image uuid:946c4b6b-2385-47df-bbb9-20cf58dc4da5                         \n",
       "HISTORY Image uuid:51227f54-0e7f-4bce-ba56-884d1f5df790                         \n",
       "HISTORY Image uuid:699c2afd-be18-4ab7-9dae-5da4ab6d3373                         \n",
       "HISTORY BPM correction with 20f77fc2-5a71-11e7-9d4f-f48c50066814                \n",
       "HISTORY BPM correction time 2022-07-12T11:02:37.684930                          \n",
       "HISTORY Bias correction with 9e149418-0129-11ed-8b11-68fef706e71e               \n",
       "HISTORY Bias image mean is 0.18778993595543161                                  \n",
       "HISTORY Bias correction time 2022-07-12T11:02:37.710008                         \n",
       "HISTORY Gain correction with 2e02e135-2325-47c9-9975-466b445b0b8b               \n",
       "HISTORY Gain correction time 2022-07-12T11:02:37.720663                         \n",
       "HISTORY Gain1 correction value 1.73                                             \n",
       "HISTORY Gain2 correction value 1.6                                              \n",
       "HISTORY Aperture extraction method simple                                       \n",
       "HISTORY Aperture extraction with 04346832-012e-11ed-ad55-68fef706e71e           \n",
       "HISTORY Aperture extraction offsets are [-0.1]                                  \n",
       "HISTORY Aperture extraction time 2022-07-12T11:02:39.058509                     \n",
       "HISTORY Wavelength calibration with uuid:d584f41c-01c7-11ed-86c3-68fef706e71e   \n",
       "HISTORY Aperture extraction offsets are [0.0]                                   \n",
       "HISTORY Wavelength calibration time 2022-07-12T11:02:41.282018                  \n",
       "HISTORY Resample span=2                                                         \n",
       "HISTORY Fiber flat correction 2621297c-01d2-11ed-ab40-68fef706e71e              \n",
       "HISTORY Fiber flat correction time 2022-07-12T11:02:42.634972                   \n",
       "EX-FLAG =                    0                                                  \n",
       "CA-FLAG =                    0                                                  \n",
       "WCSAXES =                    3 / Number of coordinate axes                      \n",
       "CRPIX1  =                  0.0 / Pixel coordinate of reference point            \n",
       "CRPIX2  =                  0.0 / Pixel coordinate of reference point            \n",
       "CRPIX3  =                  0.0 / Pixel coordinate of reference point            \n",
       "CDELT1  = -5.9531227756441E-05 / [deg] Coordinate increment at reference point  \n",
       "CDELT2  =  5.9555555555555E-05 / [deg] Coordinate increment at reference point  \n",
       "CDELT3  =                 0.11 / [m] Coordinate increment at reference point    \n",
       "CUNIT1  = 'deg'                / Units of coordinate increment and value        \n",
       "CUNIT2  = 'deg'                / Units of coordinate increment and value        \n",
       "CUNIT3  = 'Angstrom'           / Units of coordinate increment and value        \n",
       "CTYPE1  = 'RA---SIN'           / Right ascension, orthographic/synthesis project\n",
       "CTYPE2  = 'DEC--SIN'           / Declination, orthographic/synthesis projection \n",
       "CTYPE3  = 'WAVE'               / Vacuum wavelength (linear)                     \n",
       "CRVAL1  =                0.025 / [deg] Coordinate value at reference point      \n",
       "CRVAL2  =                0.422 / [deg] Coordinate value at reference point      \n",
       "CRVAL3  =    4567.999999999999 / [m] Coordinate value at reference point        \n",
       "LONPOLE =                180.0 / [deg] Native longitude of celestial pole       \n",
       "LATPOLE =                0.422 / [deg] Native latitude of celestial pole        \n",
       "TIMESYS = 'TAI'                / Time scale                                     \n",
       "MJDREF  =                  0.0 / [d] MJD of fiducial time                       \n",
       "DATE-OBS= '2022-06-21T23:44:23.86' / ISO-8601 time of observation               \n",
       "MJD-OBS =      59751.989163294 / [d] MJD of observation                         \n",
       "OBSGEO-X=         5327285.0921 / [m] observatory X-coordinate                   \n",
       "OBSGEO-Y=        -1718777.1125 / [m] observatory Y-coordinate                   \n",
       "OBSGEO-Z=         3051786.7327 / [m] observatory Z-coordinate                   \n",
       "RADESYS = 'ICRS'               / Equatorial coordinate system                   "
      ]
     },
     "execution_count": 179,
     "metadata": {},
     "output_type": "execute_result"
    }
   ],
   "source": [
    "cubehead"
   ]
  },
  {
   "cell_type": "code",
   "execution_count": 5,
   "id": "767cd28d",
   "metadata": {},
   "outputs": [],
   "source": [
    "mask = SpectralCube.read('C:\\\\Users\\\\ixaka\\\\Documents\\\\Optical-Montoro\\\\flux_MRB_final_rss_subCube-mask.fits')"
   ]
  },
  {
   "cell_type": "code",
   "execution_count": null,
   "id": "19db610b",
   "metadata": {},
   "outputs": [],
   "source": [
    "#because the mask is for the full cube and we upload only the subcube, we need to cut the mask\n",
    "minl = np.where(mask.spectral_axis == cube.spectral_axis[0])[0][0]\n",
    "maxl = np.where(mask.spectral_axis == cube.spectral_axis[-1])[0][0]\n",
    "print(mask.spectral_axis[[minl,maxl+1]])\n",
    "print(cube.spectral_axis[[0,-1]])\n",
    "mask = mask.unmasked_data[minl:maxl+1]"
   ]
  },
  {
   "cell_type": "code",
   "execution_count": 94,
   "id": "5d4cacb2",
   "metadata": {},
   "outputs": [],
   "source": [
    "#half width of wanted wavelength axis\n",
    "hw = 120"
   ]
  },
  {
   "cell_type": "code",
   "execution_count": 95,
   "id": "122969c2",
   "metadata": {},
   "outputs": [],
   "source": [
    "#borja MRB\n",
    "# Limits to crop the cube, no HI there. Subtract 1 to wanted number, e.g. nz-1.\n",
    "limx = [0, nx-1]\n",
    "limy = [0, ny-1]\n",
    "#limz = [3450, 4100-1]\n",
    "limz = [0,hw*2-1]"
   ]
  },
  {
   "cell_type": "code",
   "execution_count": 96,
   "id": "39cd2801",
   "metadata": {},
   "outputs": [],
   "source": [
    "# The CRVAL1/2 values in the cubes of borja are wrong, must calculate axis using 'RADEG', 'DECDEG' \n",
    "ralim = [cubehead['RADEG']+dra, cubehead['RADEG']+(1+nx)*dra][::int(np.sign(cubehead[\"CDELT1\"]))]\n",
    "ramean = np.mean(ralim)\n",
    "declim = [cubehead['DECDEG']+ddec, cubehead['DECDEG']+(1+ny)*ddec][::int(np.sign(cubehead[\"CDELT2\"]))]\n",
    "decmean = np.mean(declim)\n",
    "vlim = cube.spectral_axis[limz][::int(np.sign(dv))]\n",
    "vmean = np.mean(vlim).to('angstrom').to_value()"
   ]
  },
  {
   "cell_type": "code",
   "execution_count": 97,
   "id": "4bd8cab8",
   "metadata": {},
   "outputs": [
    {
     "name": "stdout",
     "output_type": "stream",
     "text": [
      "[289.5838209575624, 289.58727376877226] -- 289.58554736316734\n",
      "[1.7815651055555557, 1.7846619944444446] -- 1.7831135500000002\n",
      "[4568.11 4594.4 ] Angstrom\n"
     ]
    }
   ],
   "source": [
    "print(ralim,'--',ramean)\n",
    "print(declim,'--',decmean)\n",
    "print(vlim)"
   ]
  },
  {
   "cell_type": "code",
   "execution_count": 9,
   "id": "3943bcdb",
   "metadata": {},
   "outputs": [],
   "source": [
    "ralim = cube.spatial_coordinate_map[1][0,:][limx][::int(np.sign(cubehead[\"CDELT1\"]))]\n",
    "ramean = np.mean(ralim)\n",
    "declim = cube.spatial_coordinate_map[0][:,0][limy][::int(np.sign(cubehead[\"CDELT2\"]))]\n",
    "decmean = np.mean(declim)\n",
    "vlim = cube.spectral_axis[limz][::int(np.sign(dv))]\n",
    "vmean = np.mean(vlim).to('angstrom').to_value()"
   ]
  },
  {
   "cell_type": "code",
   "execution_count": 10,
   "id": "779e4b4a",
   "metadata": {},
   "outputs": [
    {
     "name": "stdout",
     "output_type": "stream",
     "text": [
      "[0.0215471  0.02494047] deg -- 0.023243781131681573 deg\n",
      "[0.42205956 0.42509689] deg -- 0.4235782222227533 deg\n",
      "[4568.11 4594.4 ] Angstrom\n"
     ]
    }
   ],
   "source": [
    "print(ralim,'--',ramean)\n",
    "print(declim,'--',decmean)\n",
    "print(vlim)"
   ]
  },
  {
   "cell_type": "code",
   "execution_count": 98,
   "id": "70b0c441",
   "metadata": {},
   "outputs": [],
   "source": [
    "line1 = 4958.991 #OIII 1\n",
    "line1 = find_nearest(cube.spectral_axis, line1)"
   ]
  },
  {
   "cell_type": "code",
   "execution_count": null,
   "id": "92c58ece",
   "metadata": {},
   "outputs": [],
   "source": [
    "# with mask\n",
    "cube = cube.unmasked_data[:] * mask.unmasked_data[:]/np.max(mask.unmasked_data[:])"
   ]
  },
  {
   "attachments": {},
   "cell_type": "markdown",
   "id": "2bf071dc",
   "metadata": {},
   "source": [
    "4363 linea para MRUB"
   ]
  },
  {
   "cell_type": "code",
   "execution_count": 99,
   "id": "3cc1a000",
   "metadata": {},
   "outputs": [],
   "source": [
    "# without mask\n",
    "cube = cube.unmasked_data[:]"
   ]
  },
  {
   "cell_type": "code",
   "execution_count": 100,
   "id": "7bd37a45",
   "metadata": {},
   "outputs": [],
   "source": [
    "# create cropped array and transform units to mJy/beam\n",
    "HI_cube = cube[:,limy[0]:limy[1]+1,limx[0]:limx[1]+1].to_value() *10**16 #*10**17 for HRR and *10**16 for MRB\n",
    "# Slice the data, transpose to (ra,dec,v) and flip axes if needed (see if step in FITS header is + or -)\n",
    "HI_cube = c3.transpose(HI_cube, (dra,ddec,dv))"
   ]
  },
  {
   "cell_type": "code",
   "execution_count": 101,
   "id": "dd79ffb2",
   "metadata": {},
   "outputs": [],
   "source": [
    "#MRB\n",
    "cube1 = HI_cube[:,:,line1[1]-hw:line1[1]+hw]"
   ]
  },
  {
   "cell_type": "code",
   "execution_count": 102,
   "id": "cf147fec",
   "metadata": {},
   "outputs": [
    {
     "name": "stdout",
     "output_type": "stream",
     "text": [
      "(4300, 52, 58)\n"
     ]
    },
    {
     "name": "stderr",
     "output_type": "stream",
     "text": [
      "WARNING: UnitsWarning: 'erg/cm2/s/A' contains multiple slashes, which is discouraged by the FITS standard [astropy.units.format.generic]\n"
     ]
    }
   ],
   "source": [
    "# Read the fits file and save header\n",
    "cube = SpectralCube.read('C:\\\\Users\\\\ixaka\\\\Documents\\\\Optical-Montoro\\\\flux_HRR_final_rss_corr.fits')\n",
    "cubehead = cube.header\n",
    "cubew = wcs.WCS(cubehead)\n",
    "nz, ny, nx = cube.shape\n",
    "print(cube.shape)\n",
    "dra, ddec, dv = cubehead['CDELT1'], cubehead['CDELT2'], cubehead['CDELT3']\n",
    "delta_arcsec = (np.abs(dra)*3600, np.abs(ddec)*3600, np.abs(dv))"
   ]
  },
  {
   "cell_type": "code",
   "execution_count": 181,
   "id": "4f5ade4c",
   "metadata": {},
   "outputs": [
    {
     "data": {
      "text/plain": [
       "SIMPLE  =                    T / Fits standard                                  \n",
       "BITPIX  =                  -64 / Bits per pixel                                 \n",
       "NAXIS   =                    3                                                  \n",
       "NAXIS1  =                   58                                                  \n",
       "NAXIS2  =                   52                                                  \n",
       "NAXIS3  =                 4300                                                  \n",
       "EXTEND  =                    T / File may contain extensions                    \n",
       "ORIGIN  = 'NOAO-IRAF FITS Image Kernel July 2003' / FITS file originator        \n",
       "DATE    = '2023-02-07T12:50:13' / Date FITS file was generated                  \n",
       "IRAF-TLM= '2023-02-07T12:50:10' / Time of last modification                     \n",
       "OBJECT  = 'A58_1.1 '           / Name of the object observed                    \n",
       "COMMENT   FITS (Flexible Image Transport System) format is defined in 'Astronomy\n",
       "COMMENT   and Astrophysics', volume 376, page 359; bibcode: 2001A&A...376..359H \n",
       "INSTRUME= 'MEGARA  '           / Instrument name                                \n",
       "BUNIT   = 'A-1 cm-2 erg s-1'                                                    \n",
       "DETECTOR= 'CCD2231-84-0-E74'   / Detector Model                                 \n",
       "EXPTIME =                 300. / [s] Exposure time                              \n",
       "DARKTIME=              300.854 / [s] Exposure time                              \n",
       "READMODE= 'NORMAL  '           / Read Mode                                      \n",
       "RSPEED  = 'SLOW    '           / Readout Speed                                  \n",
       "GAIN1   =                 1.73 / [e- / ADU] Gain Top Channel                    \n",
       "GAIN2   =                  1.6 / Gain Bottom Channel                            \n",
       "RDNOISE1=                  3.4 / RON Top Channel (e-)                           \n",
       "RDNOISE2=                  3.4 / RON Bottom Channel (e-)                        \n",
       "NUM_INDX=                   1. / Image index in sequence                        \n",
       "NUM_IMAG=                   3. / Number of images in sequence                   \n",
       "IPA     =              196.146 / Instrument position (degrees)                  \n",
       "AIRMASS =             1.615924 / AIRMASS                                        \n",
       "AIRMASS1=      1.6159235095264 / AIRMASS at begining of observation             \n",
       "AIRMASS2=      1.6159235095264 / AIRMASS at end of observation                  \n",
       "RA      = '19:18:20.395'       / Telescope right ascension (HH:MM:SS)  (h:m:s)  \n",
       "DEC     = '01:46:59.603'       / Telescope declination (DD:PP:SS) (d:m:s)       \n",
       "RADEG   =     289.584978201653 / Telescope right ascension in decimal degrees. (\n",
       "DECDEG  =     1.78322294592642 / Telescope declination in degrees (degrees)     \n",
       "AZIMUTH =     114.004480735858 / Tel. azimuth at start time (deg)               \n",
       "ELEVAT  =     38.1661238893369 / Elevation at start of observation (deg)        \n",
       "ROTANG  =     70.0810583333333 / Rotator FCCS_F position angle (deg)            \n",
       "ASGRA   = '19:18:29.364'       / ASG right ascension (h:m:s)                    \n",
       "ASGDEC  = '01:43:55.176'       / ASG declination (d:m:s)                        \n",
       "M2UX    =     1.52171003818512 / GTC secondary mirror UX position               \n",
       "M2UY    =     2.29286003112793 / GTC secondary mirror UY position               \n",
       "M2UZ    =       -1.80976998806 / GTC secondary mirror UZ position               \n",
       "M2RX    = 0.000588472001254559 / GTC secondary mirror RX position               \n",
       "M2RY    = -0.000396568997530267 / GTC secondary mirror RY position              \n",
       "IDTELFOC=                   0. / Ins dem telescope focus                        \n",
       "DEWPOINT=              -2.0416 / Ambient dew point (Celsius)                    \n",
       "HUMIDITY=                17.76 / Ambient humidity (%)                           \n",
       "PRESSURE=             781.4316 / Ambient atmospheric pressure (hPascal)         \n",
       "TAMBIENT=              14.4427 / Ambient temperature (Celsius)                  \n",
       "WINDDIRE=                 316. / Wind direction (from) from N to E (deg)        \n",
       "WINDSPEE=    0.955011111111187 / Wind speed (m/s)                               \n",
       "LST     = '16:13:14.170'       / Local sidereal time (h:m:s)                    \n",
       "CAT-RA  = '0       '           / Catalog object RA                              \n",
       "CAT-DEC = '0       '           / Catalog object DEC                             \n",
       "SETPNT  =                 149. / Setpoint                                       \n",
       "CCDTEMP0=     149.005996704102 / CCD Temperature (K)                            \n",
       "CCDTEMP1=      242.82600402832 / CCD Temperature (K)                            \n",
       "CCDTEMP2=     242.291000366211 / CCD Temperature (K)                            \n",
       "CCDTEMP3=     82.5198974609375 / CCD Temperature (K)                            \n",
       "SENTEMP0=     293.878618295567 / Optical bench temperatures (K)                 \n",
       "SENTEMP1=               423.15 / Optical bench temperatures (K)                 \n",
       "SENTEMP2=     285.718093385214 / Optical bench temperatures (K)                 \n",
       "SENTEMP3=     287.356912336919 / Optical bench temperatures (K)                 \n",
       "SENTEMP4=     286.539028763256 / Optical bench temperatures (K)                 \n",
       "SENTEMP5=      289.61829938201 / Optical bench temperatures (K)                 \n",
       "SENTEMP6=     288.226676585031 / Optical bench temperatures (K)                 \n",
       "INDTEMP0=               15.197 / Naysmith A structure temperature (C)           \n",
       "INSMODE = 'LCB     '           / Slit position                                  \n",
       "VPHWHPOS= 'VPH3    '           / VPH platform                                   \n",
       "VPH     = 'HR-R    '           / VPH name                                       \n",
       "FOCUS   =                 3433 / Focus position (um)                            \n",
       "SLITN   =                78135 / Slit position                                  \n",
       "OSFILTER= ' RED    '           / Shutter mode                                   \n",
       "SPOS    =                 1488 / Position of CLOSE                              \n",
       "COVER   = 'STOPPED '           / Cover position                                 \n",
       "LAMPI1S =                    0 / Incandescent Lamp1 status                      \n",
       "LAMPI1I =                   0. / Incandescent Lamp1 intensity (%)               \n",
       "LAMPI2S =                    0 / Incandescent Lamp2 status                      \n",
       "LAMPI2I =                   0. / Incandescent Lamp2 intensity (%)               \n",
       "LAMPS1S =                    0 / Th-Ar Lamp1 status                             \n",
       "LAMPS2S =                    0 / Th-Ar Lamp2 Status                             \n",
       "LAMPS3S =                    0 / Th-Ne Lamp3 status                             \n",
       "LAMPS4S =                    0 / Th-Ar Lamp4 Status                             \n",
       "LAMPS5S =                    0 / Th-Ar Lamp5 Status                             \n",
       "LAMPS6S =                    0 / Th-Ar Lamp6 Status                             \n",
       "LAMPMIR = 'PARK    '           / ICM mirror                                     \n",
       "OBSTYPE = 'OBJECT  '           / Observation Type                               \n",
       "PI      = 'bmontoro'           / Principal Investigator                         \n",
       "OBSERVER= 'SA      '           / Observer Name (SA = support astronomer)        \n",
       "GTCPRGID= 'GTC29-22A'          / Program Identifier                             \n",
       "GTCOBID = '0001    '           / Observation Block ID                           \n",
       "TELESCOP= 'GTC     '           / Telescope id.                                  \n",
       "OBSMODE = 'MegaraLcbImage'     / Observation Mode                               \n",
       "OBSERVAT= 'ORM     '           / Name of observatory (IRAF style)               \n",
       "LATITUDE= '+28:45:43.2'        / Telescope latitude (degrees), +28:45:43.2      \n",
       "LONGITUD= '+17:52:39.5'        / Telescope longitude (degrees), +17:52:39.5     \n",
       "HEIGHT  =                 2348 / Telescope height above sea level (m)           \n",
       "INSCONF = 'ca3558e3-e50d-4bbc-86bd-da50a0998a48' / UUID of instrument config    \n",
       "BLCKUUID= '1ebf235a-4faf-427b-888b-3ba6b6444ef6' / UUID of current block        \n",
       "UUID    = '4390f262-01f0-11ed-8f9b-68fef706e71e' / UUID of image                \n",
       "SPECLAMP= 'NONE    '           / Spectral Lamps Summary                         \n",
       "NUM-OVPE= '2e02e135-2325-47c9-9975-466b445b0b8b'                                \n",
       "NUM-TRIM= '2e02e135-2325-47c9-9975-466b445b0b8b'                                \n",
       "NUM-NCOM=                    3                                                  \n",
       "NUM-BPM = '20f77fc2-5a71-11e7-9d4f-f48c50066814'                                \n",
       "NUM-BS  = '9e149418-0129-11ed-8b11-68fef706e71e'                                \n",
       "NUM-GAIN= '2e02e135-2325-47c9-9975-466b445b0b8b'                                \n",
       "NUMXVER = '0.23.2  '           / Numina package version                         \n",
       "NUMRNAM = 'LCBImageRecipe'     / Numina recipe name                             \n",
       "NUMRVER =                    1 / Numina recipe version                          \n",
       "NUM-APE = '69c2c24c-012a-11ed-a42b-68fef706e71e'                                \n",
       "WCSNAMEB= 'Barycentric correction'                                              \n",
       "CTYPE1B = 'AWAV    '                                                            \n",
       "CRPIX1B =                  1.0                                                  \n",
       "CRVAL1B =    6390.215743023327                                                  \n",
       "CDELT1B =  0.09740328847738218                                                  \n",
       "CUNIT1B = 'Angstrom'                                                            \n",
       "CRPIX2B =                  0.0                                                  \n",
       "CRVAL2B =                  0.0                                                  \n",
       "CDELT2B =                  1.0                                                  \n",
       "CTYPE2B = ''                                                                    \n",
       "VELOSYSB=    10121.77328008028                                                  \n",
       "SPECSYSB= 'BARYCENT'                                                            \n",
       "SSYSOBSB= 'TOPOCENT'                                                            \n",
       "NUM-WAV = 'uuid:48762464-01c8-11ed-b558-68fef706e71e'                           \n",
       "NUM-FIBF= '73a6b31a-01cd-11ed-9dbb-68fef706e71e'                                \n",
       "HISTORY Overscan correction with 2e02e135-2325-47c9-9975-466b445b0b8b           \n",
       "HISTORY Overscan correction time 2022-07-12T14:34:45.116092                     \n",
       "HISTORY Median of col overscan1 is 2080.0                                       \n",
       "HISTORY Overscan1 correction is spline3                                         \n",
       "HISTORY Median of col overscan2 is 2053.0                                       \n",
       "HISTORY Overscan2 correction is spline3                                         \n",
       "HISTORY overscan1 deg 3                                                         \n",
       "HISTORY overscan1 knots [0.0, 0.0, 0.0, 0.0, 1200.0, 2055.0, 2055.0, 2055.0, 205\n",
       "HISTORY 5.0]                                                                    \n",
       "HISTORY overscan1 coeffs [2076.80743327902, 2080.034088854824, 2079.578142815357\n",
       "HISTORY , 2081.8212497841546, 2081.38397018423, 0.0, 0.0, 0.0, 0.0]             \n",
       "HISTORY overscan2 deg 3                                                         \n",
       "HISTORY overscan2 knots [2156.0, 2156.0, 2156.0, 2156.0, 3100.0, 4211.0, 4211.0,\n",
       "HISTORY  4211.0, 4211.0]                                                        \n",
       "HISTORY overscan2 coeffs [2053.3983227278677, 2053.7454232770733, 2052.645112981\n",
       "HISTORY 4654, 2053.804601521034, 2052.2925586623433, 0.0, 0.0, 0.0, 0.0]        \n",
       "HISTORY Trimming correction with 2e02e135-2325-47c9-9975-466b445b0b8b           \n",
       "HISTORY Trimming correction time 2022-07-12T14:34:45.150397                     \n",
       "HISTORY Combined 3 images using 'median'                                        \n",
       "HISTORY Combination time 2022-07-12T14:34:47.480881                             \n",
       "HISTORY Image uuid:30b474fc-ed1e-4154-bf50-bfb4f3b925b3                         \n",
       "HISTORY Image uuid:afc9b1fa-6bbc-4af9-b56e-0df589646bfd                         \n",
       "HISTORY Image uuid:1a88ec69-1aa5-47e6-bbd6-bda5b8fbb763                         \n",
       "HISTORY BPM correction with 20f77fc2-5a71-11e7-9d4f-f48c50066814                \n",
       "HISTORY BPM correction time 2022-07-12T14:34:50.434257                          \n",
       "HISTORY Bias correction with 9e149418-0129-11ed-8b11-68fef706e71e               \n",
       "HISTORY Bias image mean is 0.18778993595543161                                  \n",
       "HISTORY Bias correction time 2022-07-12T14:34:50.459188                         \n",
       "HISTORY Gain correction with 2e02e135-2325-47c9-9975-466b445b0b8b               \n",
       "HISTORY Gain correction time 2022-07-12T14:34:50.469734                         \n",
       "HISTORY Gain1 correction value 1.73                                             \n",
       "HISTORY Gain2 correction value 1.6                                              \n",
       "HISTORY Aperture extraction method advanced                                     \n",
       "HISTORY Aperture extraction with 69c2c24c-012a-11ed-a42b-68fef706e71e           \n",
       "HISTORY Aperture extraction offsets are [1.22]                                  \n",
       "HISTORY Aperture extraction time 2022-07-12T14:38:13.305267                     \n",
       "HISTORY Wavelength calibration with uuid:48762464-01c8-11ed-b558-68fef706e71e   \n",
       "HISTORY Aperture extraction offsets are [0.0]                                   \n",
       "HISTORY Wavelength calibration time 2022-07-12T14:38:15.570424                  \n",
       "HISTORY Resample span=2                                                         \n",
       "HISTORY Fiber flat correction 4390f262-01f0-11ed-8f9b-68fef706e71e              \n",
       "HISTORY Fiber flat correction time 2022-07-12T14:38:17.065940                   \n",
       "EX-FLAG =                    0                                                  \n",
       "CA-FLAG =                    0                                                  \n",
       "WCSAXES =                    3 / Number of coordinate axes                      \n",
       "CRPIX1  =                  0.0 / Pixel coordinate of reference point            \n",
       "CRPIX2  =                  0.0 / Pixel coordinate of reference point            \n",
       "CRPIX3  =                  0.0 / Pixel coordinate of reference point            \n",
       "CDELT1  = -5.9531227756441E-05 / [deg] Coordinate increment at reference point  \n",
       "CDELT2  =  5.9555555555555E-05 / [deg] Coordinate increment at reference point  \n",
       "CDELT3  =  0.09739999999999999 / [m] Coordinate increment at reference point    \n",
       "CUNIT1  = 'deg'                / Units of coordinate increment and value        \n",
       "CUNIT2  = 'deg'                / Units of coordinate increment and value        \n",
       "CUNIT3  = 'Angstrom'           / Units of coordinate increment and value        \n",
       "CTYPE1  = 'RA---SIN'           / Right ascension, orthographic/synthesis project\n",
       "CTYPE2  = 'DEC--SIN'           / Declination, orthographic/synthesis projection \n",
       "CTYPE3  = 'WAVE'               / Vacuum wavelength (linear)                     \n",
       "CRVAL1  =                0.025 / [deg] Coordinate value at reference point      \n",
       "CRVAL2  =                0.422 / [deg] Coordinate value at reference point      \n",
       "CRVAL3  =    6389.999999999999 / [m] Coordinate value at reference point        \n",
       "LONPOLE =                180.0 / [deg] Native longitude of celestial pole       \n",
       "LATPOLE =                0.422 / [deg] Native latitude of celestial pole        \n",
       "TIMESYS = 'TAI'                / Time scale                                     \n",
       "MJDREF  =                  0.0 / [d] MJD of fiducial time                       \n",
       "DATE-OBS= '2022-06-21T23:24:53.29' / ISO-8601 time of observation               \n",
       "MJD-OBS =      59751.975610053 / [d] MJD of observation                         \n",
       "OBSGEO-X=         5327285.0921 / [m] observatory X-coordinate                   \n",
       "OBSGEO-Y=        -1718777.1125 / [m] observatory Y-coordinate                   \n",
       "OBSGEO-Z=         3051786.7327 / [m] observatory Z-coordinate                   \n",
       "RADESYS = 'ICRS'               / Equatorial coordinate system                   "
      ]
     },
     "execution_count": 181,
     "metadata": {},
     "output_type": "execute_result"
    }
   ],
   "source": [
    "cubehead"
   ]
  },
  {
   "cell_type": "code",
   "execution_count": 15,
   "id": "989b8db1",
   "metadata": {},
   "outputs": [],
   "source": [
    "mask = SpectralCube.read('C:\\\\Users\\\\ixaka\\\\Documents\\\\Optical-Montoro\\\\flux_HRR_final_rss-mask.fits')"
   ]
  },
  {
   "cell_type": "code",
   "execution_count": 16,
   "id": "8e2e4105",
   "metadata": {},
   "outputs": [
    {
     "ename": "IndexError",
     "evalue": "index 4300 is out of bounds for axis 0 with size 4300",
     "output_type": "error",
     "traceback": [
      "\u001b[1;31m---------------------------------------------------------------------------\u001b[0m",
      "\u001b[1;31mIndexError\u001b[0m                                Traceback (most recent call last)",
      "Cell \u001b[1;32mIn[16], line 4\u001b[0m\n\u001b[0;32m      2\u001b[0m minl \u001b[39m=\u001b[39m np\u001b[39m.\u001b[39mwhere(mask\u001b[39m.\u001b[39mspectral_axis \u001b[39m==\u001b[39m cube\u001b[39m.\u001b[39mspectral_axis[\u001b[39m0\u001b[39m])[\u001b[39m0\u001b[39m][\u001b[39m0\u001b[39m]\n\u001b[0;32m      3\u001b[0m maxl \u001b[39m=\u001b[39m np\u001b[39m.\u001b[39mwhere(mask\u001b[39m.\u001b[39mspectral_axis \u001b[39m==\u001b[39m cube\u001b[39m.\u001b[39mspectral_axis[\u001b[39m-\u001b[39m\u001b[39m1\u001b[39m])[\u001b[39m0\u001b[39m][\u001b[39m0\u001b[39m]\n\u001b[1;32m----> 4\u001b[0m \u001b[39mprint\u001b[39m(mask\u001b[39m.\u001b[39;49mspectral_axis[[minl,maxl\u001b[39m+\u001b[39;49m\u001b[39m1\u001b[39;49m]])\n\u001b[0;32m      5\u001b[0m \u001b[39mprint\u001b[39m(cube\u001b[39m.\u001b[39mspectral_axis[[\u001b[39m0\u001b[39m,\u001b[39m-\u001b[39m\u001b[39m1\u001b[39m]])\n\u001b[0;32m      6\u001b[0m mask \u001b[39m=\u001b[39m mask\u001b[39m.\u001b[39munmasked_data[minl:maxl\u001b[39m+\u001b[39m\u001b[39m1\u001b[39m]\n",
      "File \u001b[1;32mc:\\Users\\ixaka\\miniconda3\\envs\\x3d\\lib\\site-packages\\astropy\\units\\quantity.py:1272\u001b[0m, in \u001b[0;36mQuantity.__getitem__\u001b[1;34m(self, key)\u001b[0m\n\u001b[0;32m   1269\u001b[0m     \u001b[39mreturn\u001b[39;00m \u001b[39mself\u001b[39m\u001b[39m.\u001b[39m_new_view(\u001b[39mself\u001b[39m\u001b[39m.\u001b[39mview(np\u001b[39m.\u001b[39mndarray)[key], \u001b[39mself\u001b[39m\u001b[39m.\u001b[39munit[key])\n\u001b[0;32m   1271\u001b[0m \u001b[39mtry\u001b[39;00m:\n\u001b[1;32m-> 1272\u001b[0m     out \u001b[39m=\u001b[39m \u001b[39msuper\u001b[39;49m()\u001b[39m.\u001b[39;49m\u001b[39m__getitem__\u001b[39;49m(key)\n\u001b[0;32m   1273\u001b[0m \u001b[39mexcept\u001b[39;00m \u001b[39mIndexError\u001b[39;00m:\n\u001b[0;32m   1274\u001b[0m     \u001b[39m# We want zero-dimensional Quantity objects to behave like scalars,\u001b[39;00m\n\u001b[0;32m   1275\u001b[0m     \u001b[39m# so they should raise a TypeError rather than an IndexError.\u001b[39;00m\n\u001b[0;32m   1276\u001b[0m     \u001b[39mif\u001b[39;00m \u001b[39mself\u001b[39m\u001b[39m.\u001b[39misscalar:\n",
      "\u001b[1;31mIndexError\u001b[0m: index 4300 is out of bounds for axis 0 with size 4300"
     ]
    }
   ],
   "source": [
    "#because the mask is for the full cube and we upload only the subcube, we need to cut the mask\n",
    "minl = np.where(mask.spectral_axis == cube.spectral_axis[0])[0][0]\n",
    "maxl = np.where(mask.spectral_axis == cube.spectral_axis[-1])[0][0]\n",
    "print(mask.spectral_axis[[minl,maxl+1]])\n",
    "print(cube.spectral_axis[[0,-1]])\n",
    "mask = mask.unmasked_data[minl:maxl+1]"
   ]
  },
  {
   "cell_type": "code",
   "execution_count": 103,
   "id": "a446d2c4",
   "metadata": {},
   "outputs": [],
   "source": [
    "#borja HRR\n",
    "limx = [0, nx-1]\n",
    "limy = [0, ny-1]\n",
    "#limz = [1520, 2100-1] #also 4300-2200\n",
    "limz = [0,hw*2-1]"
   ]
  },
  {
   "cell_type": "code",
   "execution_count": 104,
   "id": "00a8ccb7",
   "metadata": {},
   "outputs": [],
   "source": [
    "# The CRVAL1/2 values in the cubes of borja are wrong, must calculate axis using 'RADEG', 'DECDEG' \n",
    "ralim = [cubehead['RADEG']+dra, cubehead['RADEG']+(1+nx)*dra][::int(np.sign(cubehead[\"CDELT1\"]))]\n",
    "ramean = np.mean(ralim)\n",
    "declim = [cubehead['DECDEG']+ddec, cubehead['DECDEG']+(1+ny)*ddec][::int(np.sign(cubehead[\"CDELT2\"]))]\n",
    "decmean = np.mean(declim)\n",
    "vlim = cube.spectral_axis[limz][::int(np.sign(dv))]\n",
    "vmean = np.mean(vlim).to('angstrom').to_value()"
   ]
  },
  {
   "cell_type": "code",
   "execution_count": 105,
   "id": "e2ab3936",
   "metadata": {},
   "outputs": [
    {
     "name": "stdout",
     "output_type": "stream",
     "text": [
      "[289.5838209575624, 289.58727376877226] -- 289.58554736316734\n",
      "[1.7815651055555557, 1.7846619944444446] -- 1.7831135500000002\n",
      "[6390.0974 6413.376 ] Angstrom\n"
     ]
    }
   ],
   "source": [
    "print(ralim,'--',ramean)\n",
    "print(declim,'--',decmean)\n",
    "print(vlim)"
   ]
  },
  {
   "cell_type": "code",
   "execution_count": 17,
   "id": "f39b5927",
   "metadata": {},
   "outputs": [],
   "source": [
    "ralim = cube.spatial_coordinate_map[1][0,:][limx][::int(np.sign(cubehead[\"CDELT1\"]))]\n",
    "ramean = np.mean(ralim)\n",
    "declim = cube.spatial_coordinate_map[0][:,0][limy][::int(np.sign(cubehead[\"CDELT2\"]))]\n",
    "decmean = np.mean(declim)\n",
    "vlim = cube.spectral_axis[limz][::int(np.sign(dv))]\n",
    "vmean = np.mean(vlim).to('angstrom').to_value()"
   ]
  },
  {
   "cell_type": "code",
   "execution_count": 106,
   "id": "7ee1a36a",
   "metadata": {},
   "outputs": [],
   "source": [
    "line2 = 6548.05 #NII 1\n",
    "line2 = find_nearest(cube.spectral_axis, line2)"
   ]
  },
  {
   "cell_type": "code",
   "execution_count": 310,
   "id": "54aad616",
   "metadata": {},
   "outputs": [
    {
     "ename": "NameError",
     "evalue": "name 'mask' is not defined",
     "output_type": "error",
     "traceback": [
      "\u001b[1;31m---------------------------------------------------------------------------\u001b[0m",
      "\u001b[1;31mNameError\u001b[0m                                 Traceback (most recent call last)",
      "Cell \u001b[1;32mIn[310], line 2\u001b[0m\n\u001b[0;32m      1\u001b[0m \u001b[39m# with mask\u001b[39;00m\n\u001b[1;32m----> 2\u001b[0m cube \u001b[39m=\u001b[39m cube\u001b[39m.\u001b[39munmasked_data[:] \u001b[39m*\u001b[39m mask\u001b[39m.\u001b[39munmasked_data[:]\u001b[39m/\u001b[39mnp\u001b[39m.\u001b[39mmax(mask\u001b[39m.\u001b[39munmasked_data[:])\n",
      "\u001b[1;31mNameError\u001b[0m: name 'mask' is not defined"
     ]
    }
   ],
   "source": [
    "# with mask\n",
    "cube = cube.unmasked_data[:] * mask.unmasked_data[:]/np.max(mask.unmasked_data[:])"
   ]
  },
  {
   "cell_type": "code",
   "execution_count": 107,
   "id": "36c28aed",
   "metadata": {},
   "outputs": [],
   "source": [
    "# without mask\n",
    "cube = cube.unmasked_data[:]"
   ]
  },
  {
   "cell_type": "code",
   "execution_count": 108,
   "id": "c4c88c9f",
   "metadata": {},
   "outputs": [],
   "source": [
    "# create cropped array and transform units to mJy/beam\n",
    "HI_cube = cube[:,limy[0]:limy[1]+1,limx[0]:limx[1]+1].to_value()*10**17\n",
    "# Slice the data, transpose to (ra,dec,v) and flip axes if needed (see if step in FITS header is + or -)\n",
    "HI_cube = c3.transpose(HI_cube, (dra,ddec,dv))"
   ]
  },
  {
   "cell_type": "code",
   "execution_count": 109,
   "id": "67c950d8",
   "metadata": {},
   "outputs": [],
   "source": [
    "#HRR\n",
    "cube2 = HI_cube[:,:,line2[1]-hw:line2[1]+hw]"
   ]
  },
  {
   "cell_type": "code",
   "execution_count": 110,
   "id": "2794687c",
   "metadata": {},
   "outputs": [],
   "source": [
    "cubes = [cube1, cube2]"
   ]
  },
  {
   "cell_type": "code",
   "execution_count": 111,
   "id": "597c9910",
   "metadata": {},
   "outputs": [
    {
     "data": {
      "text/plain": [
       "[[0, 0, 0], [-0.19063089752167536, 0.39067967999999637, 0]]"
      ]
     },
     "execution_count": 111,
     "metadata": {},
     "output_type": "execute_result"
    }
   ],
   "source": [
    "shifts = [[0,0,0],[0.8895*dra*3600, 1.8222*ddec*3600, 0]]\n",
    "shifts"
   ]
  },
  {
   "attachments": {},
   "cell_type": "markdown",
   "id": "d1f11f87",
   "metadata": {},
   "source": [
    "tomamos como fija la del oxigeno:\n",
    "\n",
    "shift en nitrogeno<br>\n",
    "coordenada x  -0.8895 coordenada y -1.8222<br>\n",
    "\n",
    "sistema de referencia local standard of rest\n",
    "\n",
    "HE TOMADO EL SHIFT POSITIVO, SI NO, SE DESPLAZA AUN MÁS"
   ]
  },
  {
   "cell_type": "code",
   "execution_count": 23,
   "id": "cf9ceac4",
   "metadata": {},
   "outputs": [
    {
     "data": {
      "text/plain": [
       "<matplotlib.lines.Line2D at 0x1f8bfa83910>"
      ]
     },
     "execution_count": 23,
     "metadata": {},
     "output_type": "execute_result"
    },
    {
     "data": {
      "image/png": "[encoded data removed]",
      "text/plain": [
       "<Figure size 1600x700 with 2 Axes>"
      ]
     },
     "metadata": {},
     "output_type": "display_data"
    }
   ],
   "source": [
    "fig, ax = plt.subplots(nrows=2,figsize=(16,7))\n",
    "ax[0].imshow(cube1[:,26,:])\n",
    "#ax[0].axvline(line1[1],color='r', label=line1[1])\n",
    "#ax[0].set_xlim(3480,3630)\n",
    "ax[0].set_xlim(100,150)\n",
    "ax[0].set_ylim(25,35)\n",
    "#ax[0].legend()\n",
    "ax[0].axhline(nx/2,color='k', lw=3)\n",
    "ax[1].imshow(cube2[:,26,:])\n",
    "#ax[1].set_xlim(3920,4070)\n",
    "ax[1].set_xlim(100,150)\n",
    "ax[1].set_ylim(25,35)\n",
    "#ax[1].axvline(line2[1],color='r', label=line2[1])\n",
    "#ax[1].legend()\n",
    "ax[1].axhline(nx/2,color='k',lw=3)"
   ]
  },
  {
   "cell_type": "code",
   "execution_count": 30,
   "id": "076af822",
   "metadata": {},
   "outputs": [
    {
     "data": {
      "text/plain": [
       "<matplotlib.contour.QuadContourSet at 0x1f8d2826b90>"
      ]
     },
     "execution_count": 30,
     "metadata": {},
     "output_type": "execute_result"
    },
    {
     "data": {
      "image/png": "[encoded data removed]",
      "text/plain": [
       "<Figure size 1600x700 with 2 Axes>"
      ]
     },
     "metadata": {},
     "output_type": "display_data"
    }
   ],
   "source": [
    "fig, ax = plt.subplots(nrows=2,figsize=(16,7))\n",
    "ax[0].imshow(cube1[:,:,120].T, norm='linear')\n",
    "#ax[0].axvline(line1[1],color='r', label=line1[1])\n",
    "ax[0].set_xlim(40,20)\n",
    "ax[0].set_ylim(15,35)\n",
    "ax[0].contour(cube1[:,:,120].T, levels=isolevels1, colors='k', linewidths=0.5)\n",
    "#ax[0].legend()\n",
    "ax[0].axhline(ny/2-.5,color='k', lw=3)\n",
    "ax[0].axvline(nx/2-.5,color='k', lw=3)\n",
    "ax[1].imshow(cube2[:,:,120].T)\n",
    "ax[1].set_xlim(40,20)\n",
    "ax[1].set_ylim(15,35)\n",
    "#ax[1].axvline(line2[1],color='r', label=line2[1])\n",
    "#ax[1].legend()\n",
    "ax[1].axhline(ny/2-.5-1.8222,color='k',lw=3)\n",
    "ax[1].axvline(nx/2-.5+0.8895,color='k',lw=3)\n",
    "ax[1].contour(cube2[:,:,120].T, levels=isolevels2, colors='k', linewidths=0.5)"
   ]
  },
  {
   "attachments": {},
   "cell_type": "markdown",
   "id": "0c5d3a28",
   "metadata": {},
   "source": [
    "To overlay both lines we need to create two small cubes of the same size where the lines can be found at (approximately) the same position."
   ]
  },
  {
   "cell_type": "code",
   "execution_count": 153,
   "id": "18ac25ca",
   "metadata": {},
   "outputs": [
    {
     "data": {
      "text/plain": [
       "(0.0, 6.617385876951613)"
      ]
     },
     "execution_count": 153,
     "metadata": {},
     "output_type": "execute_result"
    },
    {
     "data": {
      "image/png": "[encoded data removed]",
      "text/plain": [
       "<Figure size 2000x500 with 2 Axes>"
      ]
     },
     "metadata": {},
     "output_type": "display_data"
    }
   ],
   "source": [
    "fig, ax = plt.subplots(ncols=2, figsize=(20,5))\n",
    "ax[0].hist(cube1.flatten(), bins=400)\n",
    "ax[0].set_yscale('log')\n",
    "ax[0].set_xlim(0,)\n",
    "ax[0].axvline(7.5, c='r')\n",
    "ax[1].hist(cube2.flatten(), bins=400)\n",
    "ax[1].set_yscale('log')\n",
    "ax[1].set_xlim(0,)"
   ]
  },
  {
   "cell_type": "code",
   "execution_count": 112,
   "id": "157dadf2",
   "metadata": {},
   "outputs": [],
   "source": [
    "#MRB\n",
    "isolevels1 = np.array([0.45, 1.1, 2.3, 4, 6]) #because isolevels were written considering *10**16\n",
    "isolevels2 = np.array([0.7, 1.3, 2.1, 3, 4])\n",
    "isolevels = [isolevels1, isolevels2]"
   ]
  },
  {
   "cell_type": "code",
   "execution_count": 113,
   "id": "fddea91d",
   "metadata": {},
   "outputs": [
    {
     "data": {
      "text/plain": [
       "array([[2.89583821e+02, 2.89587274e+02],\n",
       "       [1.78156511e+00, 1.78466199e+00],\n",
       "       [6.39009740e+03, 6.41337600e+03]])"
      ]
     },
     "execution_count": 113,
     "metadata": {},
     "output_type": "execute_result"
    }
   ],
   "source": [
    "coords = np.array([ralim, declim, vlim])\n",
    "coords"
   ]
  },
  {
   "cell_type": "code",
   "execution_count": 114,
   "id": "1a5c5648",
   "metadata": {},
   "outputs": [],
   "source": [
    "color1 = c3.create_colormap('Greens', isolevels1, start=255/2.5)\n",
    "color2 = c3.create_colormap('Blues', isolevels2, start=255/2.5)\n",
    "colors = [color1,color2]"
   ]
  },
  {
   "cell_type": "code",
   "execution_count": 115,
   "id": "7f6d4932",
   "metadata": {},
   "outputs": [
    {
     "data": {
      "text/plain": [
       "['5.96078e-01 8.34510e-01 5.78824e-01',\n",
       " '5.01961e-01 7.90588e-01 5.01438e-01',\n",
       " '2.94902e-01 6.90196e-01 3.84314e-01',\n",
       " '1.03883e-01 5.16494e-01 2.46751e-01',\n",
       " '0.00000e+00 2.66667e-01 1.05882e-01']"
      ]
     },
     "execution_count": 115,
     "metadata": {},
     "output_type": "execute_result"
    }
   ],
   "source": [
    "color1"
   ]
  },
  {
   "cell_type": "code",
   "execution_count": 72,
   "id": "da05d1c8",
   "metadata": {},
   "outputs": [
    {
     "data": {
      "text/plain": [
       "['9.68627e-01 9.88235e-01 9.60784e-01',\n",
       " '9.04406e-01 9.63260e-01 8.85859e-01',\n",
       " '6.81046e-01 8.71895e-01 6.56209e-01',\n",
       " '2.41522e-01 6.56317e-01 3.54002e-01',\n",
       " '0.00000e+00 2.66667e-01 1.05882e-01']"
      ]
     },
     "execution_count": 72,
     "metadata": {},
     "output_type": "execute_result"
    }
   ],
   "source": [
    "color1"
   ]
  },
  {
   "cell_type": "code",
   "execution_count": 116,
   "id": "94f6d26e",
   "metadata": {},
   "outputs": [],
   "source": [
    "meta = {'generator':'create_x3d python module',\n",
    "       'creator':'Name Surname',\n",
    "       'title':cubehead['OBJECT'],\n",
    "        'numberofelements':f'{len(isolevels)} layers',\n",
    "        'description':'data cube of %s'%cubehead['OBJECT']\n",
    "       }"
   ]
  },
  {
   "cell_type": "code",
   "execution_count": 117,
   "id": "0fba6a83",
   "metadata": {},
   "outputs": [],
   "source": [
    "x3dname = 'OIII_1-NII_1_corr.x3d'"
   ]
  },
  {
   "cell_type": "code",
   "execution_count": 118,
   "id": "cf2aa79b",
   "metadata": {},
   "outputs": [
    {
     "name": "stdout",
     "output_type": "stream",
     "text": [
      "[[ -6.21205591   0.           6.21205591]\n",
      " [ -5.5744       0.           5.5744    ]\n",
      " [-11.6393       0.          11.6393    ]]\n"
     ]
    }
   ],
   "source": [
    "file = c3.write_x3d('./cube_x3d/examples/%s'%x3dname, delta_arcsec,\n",
    "                    coords, header=cubehead, units=[\"e17 \"+cubehead[\"BUNIT\"], 'arcsec', 'arcsec', 'angstrom'], meta=meta, picking=False)\n",
    "\n",
    "#also need html.func_pick() if picking=True"
   ]
  },
  {
   "cell_type": "code",
   "execution_count": 119,
   "id": "41363a70",
   "metadata": {},
   "outputs": [],
   "source": [
    "file.make_layers(cubes, isolevels, colors, shifts=shifts)\n",
    "file.make_outline()\n",
    "#file.make_galaxies(gals=gals, labels=True)\n",
    "#file.make_image2d(imcol=None, img_shape=None)\n",
    "file.make_ticklines()\n",
    "file.make_labels(gals=None, axlab='diff') \n",
    "#html.func_scalev(axes) should be same as axlab, not func_axes() though.\n",
    "file.close()"
   ]
  },
  {
   "cell_type": "code",
   "execution_count": 120,
   "id": "be78667c",
   "metadata": {},
   "outputs": [],
   "source": [
    "tabtitle = f'{cubehead[\"OBJECT\"]}'\n",
    "pagetitle = f'3D interactive datacube: {cubehead[\"OBJECT\"]}'\n",
    "# add in desc for 2d image: <br>\\n\\t Background image: {survey}\n",
    "desc = f\"Object: {cubehead['OBJECT']}.<t> Telescope: {cubehead['TELESCOP']}, Instrument: {cubehead['INSTRUME']}, Obsmode: {cubehead['OBSMODE']}.<br>\\n\\t Center: (RA,DEC)=({np.round(ramean,5)}, {np.round(decmean,5)}). Date-obs: {cubehead['DATE-OBS']}\""
   ]
  },
  {
   "cell_type": "code",
   "execution_count": 121,
   "id": "153e26dd",
   "metadata": {},
   "outputs": [],
   "source": [
    "colmaps = ['Greens', 'Reds', 'magma', 'CMRmap', 'inferno', 'plasma', 'viridis', 'Greys',\n",
    "           'Blues', 'OrRd', 'PuRd', 'Reds', 'Spectral', 'Wistia',\n",
    "          'YlGn', 'YlOrRd', 'afmhot', 'autumn', 'cool', 'coolwarm',\n",
    "          'copper', 'cubehelix', 'flag', 'gist_earth', 'gist_heat',\n",
    "          'gist_ncar', 'gist_stern', 'gnuplot', 'gnuplot2', 'hot',\n",
    "          'nipy_spectral', 'prism', 'winter', 'Paired']"
   ]
  },
  {
   "cell_type": "code",
   "execution_count": 74,
   "id": "a1438c81",
   "metadata": {},
   "outputs": [
    {
     "data": {
      "text/plain": [
       "<module 'cube_x3d' from 'c:\\\\Users\\\\ixaka\\\\Documents\\\\Visualization\\\\cube_x3d\\\\cube_x3d.py'>"
      ]
     },
     "execution_count": 74,
     "metadata": {},
     "output_type": "execute_result"
    }
   ],
   "source": [
    "import importlib\n",
    "importlib.reload(c3)"
   ]
  },
  {
   "cell_type": "code",
   "execution_count": 122,
   "id": "36d3dc86",
   "metadata": {},
   "outputs": [],
   "source": [
    "html = c3.write_html('./cube_x3d/examples/%s.html'%x3dname.split('.')[0], \n",
    "                    units=[\"e17 \"+cubehead[\"BUNIT\"], 'arcsec', 'arcsec', 'angstrom'],\n",
    "                     tabtitle=tabtitle, pagetitle=pagetitle,\n",
    "                     description=desc)"
   ]
  },
  {
   "cell_type": "code",
   "execution_count": 123,
   "id": "1cb18a7d",
   "metadata": {},
   "outputs": [],
   "source": [
    "html.func_layers(isolevels)\n",
    "#html.func_galaxies(gals)\n",
    "#html.func_gallab()\n",
    "html.func_grids()\n",
    "html.func_axes('diff')\n",
    "#html.func_pick() #for coordinate picking\n",
    "html.start_x3d()\n",
    "html.viewpoints(maxcoord=file.diff_coords[:,2])\n",
    "html.close_x3d(x3dname)\n",
    "html.buttons(isolevels, colors, colormaps=colmaps, hide2d=False, scalev=True, move2d=False, lineLabs=[r'OIII ($4958.911 \\, \\mathring{A}$)', r'NII ($6548.05 \\, \\mathring{A}$)'])\n",
    "#func_move2dimage, func_setCenterOfRotation, func_colormaps and func_scalev must always go after buttons\n",
    "#html.func_image2d()\n",
    "#html.func_setCenterOfRotation(['0 0 -19', '0 0 -4','0 0 17.5']) #['0 0 -29.3', '0 0 19.1'] for MRB\n",
    "html.func_colormaps(isolevels)\n",
    "html.func_scalev(gals=None, axes='diff', coords=file.diff_coords, move2d=False) #file.diff_coords[2,2]\n",
    "#html.func_move2dimage(real_vmax=file.real_coords[2,2], diff_vmax=file.diff_coords[2,2])\n",
    "html.close_html()"
   ]
  },
  {
   "cell_type": "code",
   "execution_count": null,
   "id": "81075620",
   "metadata": {},
   "outputs": [],
   "source": []
  }
 ],
 "metadata": {
  "kernelspec": {
   "display_name": "Python 3 (ipykernel)",
   "language": "python",
   "name": "python3"
  },
  "language_info": {
   "codemirror_mode": {
    "name": "ipython",
    "version": 3
   },
   "file_extension": ".py",
   "mimetype": "text/x-python",
   "name": "python",
   "nbconvert_exporter": "python",
   "pygments_lexer": "ipython3",
   "version": "3.10.8"
  }
 },
 "nbformat": 4,
 "nbformat_minor": 5
}
