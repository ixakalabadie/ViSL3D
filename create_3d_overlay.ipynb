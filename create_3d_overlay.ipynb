{
 "cells": [
  {
   "cell_type": "code",
   "execution_count": 1,
   "id": "a663f696",
   "metadata": {},
   "outputs": [],
   "source": [
    "from spectral_cube import SpectralCube #To read FITS\n",
    "import numpy as np\n",
    "import astropy.units as u\n",
    "from astropy.coordinates import SkyCoord, Angle\n",
    "from skimage import measure\n",
    "from astropy import wcs\n",
    "import cube_x3d as c3\n",
    "import matplotlib.pyplot as plt\n",
    "from matplotlib import cm\n",
    "from astroquery.skyview import SkyView"
   ]
  },
  {
   "cell_type": "code",
   "execution_count": 65,
   "id": "ade3539b",
   "metadata": {},
   "outputs": [
    {
     "data": {
      "text/plain": [
       "<module 'cube_x3d' from 'c:\\\\Users\\\\ixaka\\\\Documents\\\\Visualization\\\\cube_x3d\\\\cube_x3d.py'>"
      ]
     },
     "execution_count": 65,
     "metadata": {},
     "output_type": "execute_result"
    }
   ],
   "source": [
    "import importlib\n",
    "importlib.reload(c3)"
   ]
  },
  {
   "cell_type": "code",
   "execution_count": 2,
   "id": "4977833d",
   "metadata": {},
   "outputs": [
    {
     "name": "stdout",
     "output_type": "stream",
     "text": [
      "C:\\Users\\ixaka\\Documents\\Visualization\n"
     ]
    }
   ],
   "source": [
    "%cd C:\\Users\\ixaka\\Documents\\Visualization"
   ]
  },
  {
   "cell_type": "code",
   "execution_count": 3,
   "id": "6909a3e4",
   "metadata": {},
   "outputs": [],
   "source": [
    "def find_nearest(array, value):\n",
    "    array = np.asarray(array)\n",
    "    idx = (np.abs(array - value)).argmin()\n",
    "    return array[idx],idx"
   ]
  },
  {
   "cell_type": "code",
   "execution_count": 4,
   "id": "ebf77bf3",
   "metadata": {},
   "outputs": [],
   "source": [
    "def transpose(array, delta):\n",
    "    dra, ddec, dv = delta\n",
    "    return np.transpose(array, (2,1,0))[::int(np.sign(dra)), ::int(np.sign(ddec)),::int(np.sign(dv))]"
   ]
  },
  {
   "cell_type": "code",
   "execution_count": 11,
   "id": "41fd7d93",
   "metadata": {},
   "outputs": [
    {
     "name": "stdout",
     "output_type": "stream",
     "text": [
      "(4300, 52, 58)\n"
     ]
    },
    {
     "name": "stderr",
     "output_type": "stream",
     "text": [
      "WARNING: UnitsWarning: 'erg/cm2/s/A' contains multiple slashes, which is discouraged by the FITS standard [astropy.units.format.generic]\n"
     ]
    }
   ],
   "source": [
    "# Read the fits file and save header\n",
    "HI_cube = SpectralCube.read('C:\\\\Users\\\\ixaka\\\\Documents\\\\Optical-Montoro\\\\flux_MRB_final_rss.fits')\n",
    "cubehead = HI_cube.header\n",
    "cubew = wcs.WCS(cubehead)\n",
    "nz, ny, nx = HI_cube.shape\n",
    "print(HI_cube.shape)\n",
    "dra, ddec, dv = cubehead['CDELT1'], cubehead['CDELT2'], cubehead['CDELT3']\n",
    "delta_arcsec = (np.abs(dra)*3600, np.abs(ddec)*3600, np.abs(dv))"
   ]
  },
  {
   "cell_type": "code",
   "execution_count": 12,
   "id": "5d4cacb2",
   "metadata": {},
   "outputs": [],
   "source": [
    "#half width of wanted wavelength axis\n",
    "hw = 125"
   ]
  },
  {
   "cell_type": "code",
   "execution_count": 13,
   "id": "122969c2",
   "metadata": {},
   "outputs": [],
   "source": [
    "#borja MRB\n",
    "# Limits to crop the cube, no HI there. Subtract 1 to wanted number, e.g. nz-1.\n",
    "limx = [0, nx-1]\n",
    "limy = [0, ny-1]\n",
    "#limz = [3450, 4100-1]\n",
    "limz = [0,hw*2-1]"
   ]
  },
  {
   "cell_type": "code",
   "execution_count": 14,
   "id": "3943bcdb",
   "metadata": {},
   "outputs": [],
   "source": [
    "ralim = HI_cube.spatial_coordinate_map[1][0,:][limx][::int(np.sign(cubehead[\"CDELT1\"]))]\n",
    "ramean = np.mean(ralim)\n",
    "declim = HI_cube.spatial_coordinate_map[0][:,0][limy][::int(np.sign(cubehead[\"CDELT2\"]))]\n",
    "decmean = np.mean(declim)\n",
    "vlim = HI_cube.spectral_axis[limz][::int(np.sign(dv))]\n",
    "vmean = np.mean(vlim).to('angstrom').to_value()"
   ]
  },
  {
   "cell_type": "code",
   "execution_count": 15,
   "id": "70b0c441",
   "metadata": {},
   "outputs": [],
   "source": [
    "line1 = 4958.991 #OIII 1\n",
    "line1 = find_nearest(HI_cube.spectral_axis, line1)"
   ]
  },
  {
   "cell_type": "code",
   "execution_count": 16,
   "id": "7bd37a45",
   "metadata": {},
   "outputs": [],
   "source": [
    "# create cropped array and transform units to mJy/beam\n",
    "HI_cube = HI_cube.unmasked_data[:,limy[0]:limy[1]+1,limx[0]:limx[1]+1].to_value()*10**16\n",
    "# Slice the data, transpose to (ra,dec,v) and flip axes if needed (see if step in FITS header is + or -)\n",
    "HI_cube = transpose(HI_cube, (dra,ddec,dv))"
   ]
  },
  {
   "cell_type": "code",
   "execution_count": 17,
   "id": "dd79ffb2",
   "metadata": {},
   "outputs": [],
   "source": [
    "#MRB\n",
    "cube1 = HI_cube[:,:,line1[1]-hw:line1[1]+hw]"
   ]
  },
  {
   "cell_type": "code",
   "execution_count": 31,
   "id": "cf147fec",
   "metadata": {},
   "outputs": [
    {
     "name": "stdout",
     "output_type": "stream",
     "text": [
      "(4300, 52, 58)\n"
     ]
    },
    {
     "name": "stderr",
     "output_type": "stream",
     "text": [
      "WARNING: UnitsWarning: 'erg/cm2/s/A' contains multiple slashes, which is discouraged by the FITS standard [astropy.units.format.generic]\n"
     ]
    }
   ],
   "source": [
    "# Read the fits file and save header\n",
    "HI_cube = SpectralCube.read('C:\\\\Users\\\\ixaka\\\\Documents\\\\Optical-Montoro\\\\flux_HRR_final_rss.fits')\n",
    "cubehead = HI_cube.header\n",
    "cubew = wcs.WCS(cubehead)\n",
    "nz, ny, nx = HI_cube.shape\n",
    "print(HI_cube.shape)\n",
    "dra, ddec, dv = cubehead['CDELT1'], cubehead['CDELT2'], cubehead['CDELT3']\n",
    "delta_arcsec = (np.abs(dra)*3600, np.abs(ddec)*3600, np.abs(dv))"
   ]
  },
  {
   "cell_type": "code",
   "execution_count": 32,
   "id": "a446d2c4",
   "metadata": {},
   "outputs": [],
   "source": [
    "#borja HRR\n",
    "limx = [0, nx-1]\n",
    "limy = [0, ny-1]\n",
    "#limz = [1520, 2100-1] #also 4300-2200\n",
    "limz = [0,hw*2-1]"
   ]
  },
  {
   "cell_type": "code",
   "execution_count": 33,
   "id": "f39b5927",
   "metadata": {},
   "outputs": [],
   "source": [
    "ralim = HI_cube.spatial_coordinate_map[1][0,:][limx][::int(np.sign(cubehead[\"CDELT1\"]))]\n",
    "ramean = np.mean(ralim)\n",
    "declim = HI_cube.spatial_coordinate_map[0][:,0][limy][::int(np.sign(cubehead[\"CDELT2\"]))]\n",
    "decmean = np.mean(declim)\n",
    "vlim = HI_cube.spectral_axis[limz][::int(np.sign(dv))]\n",
    "vmean = np.mean(vlim).to('angstrom').to_value()"
   ]
  },
  {
   "cell_type": "code",
   "execution_count": 34,
   "id": "7ee1a36a",
   "metadata": {},
   "outputs": [],
   "source": [
    "line2 = 6548.05 #NII 1\n",
    "line2 = find_nearest(HI_cube.spectral_axis, line2)"
   ]
  },
  {
   "cell_type": "code",
   "execution_count": 35,
   "id": "c4c88c9f",
   "metadata": {},
   "outputs": [],
   "source": [
    "# create cropped array and transform units to mJy/beam\n",
    "HI_cube = HI_cube.unmasked_data[:,limy[0]:limy[1]+1,limx[0]:limx[1]+1].to_value()*10**17\n",
    "# Slice the data, transpose to (ra,dec,v) and flip axes if needed (see if step in FITS header is + or -)\n",
    "HI_cube = transpose(HI_cube, (dra,ddec,dv))"
   ]
  },
  {
   "cell_type": "code",
   "execution_count": 36,
   "id": "67c950d8",
   "metadata": {},
   "outputs": [],
   "source": [
    "#HRR\n",
    "cube2 = HI_cube[:,:,line2[1]-hw:line2[1]+hw]"
   ]
  },
  {
   "cell_type": "code",
   "execution_count": 43,
   "id": "2794687c",
   "metadata": {},
   "outputs": [],
   "source": [
    "cubes = [cube1, cube2]"
   ]
  },
  {
   "cell_type": "code",
   "execution_count": 41,
   "id": "cf9ceac4",
   "metadata": {},
   "outputs": [
    {
     "data": {
      "text/plain": [
       "<matplotlib.image.AxesImage at 0x20fa65d67d0>"
      ]
     },
     "execution_count": 41,
     "metadata": {},
     "output_type": "execute_result"
    },
    {
     "data": {
      "image/png": "[encoded data removed]",
      "text/plain": [
       "<Figure size 1600x700 with 2 Axes>"
      ]
     },
     "metadata": {},
     "output_type": "display_data"
    }
   ],
   "source": [
    "fig, ax = plt.subplots(nrows=2,figsize=(16,7))\n",
    "ax[0].imshow(cube1[29,:,:])\n",
    "#ax[0].axvline(line1[1],color='r', label=line1[1])\n",
    "#ax[0].set_xlim(3480,3630)\n",
    "#ax[0].legend()\n",
    "ax[1].imshow(cube2[29,:,:])\n",
    "#ax[1].set_xlim(3920,4070)\n",
    "#ax[1].axvline(line2[1],color='r', label=line2[1])\n",
    "#ax[1].legend()"
   ]
  },
  {
   "attachments": {},
   "cell_type": "markdown",
   "id": "0c5d3a28",
   "metadata": {},
   "source": [
    "To overlay both lines we need to create two small cubes of the same size where the lines can be found at (approximately) the same position."
   ]
  },
  {
   "cell_type": "code",
   "execution_count": 44,
   "id": "18ac25ca",
   "metadata": {},
   "outputs": [
    {
     "data": {
      "text/plain": [
       "(0.0, 6.617385876951613)"
      ]
     },
     "execution_count": 44,
     "metadata": {},
     "output_type": "execute_result"
    },
    {
     "data": {
      "image/png": "[encoded data removed]",
      "text/plain": [
       "<Figure size 2000x500 with 2 Axes>"
      ]
     },
     "metadata": {},
     "output_type": "display_data"
    }
   ],
   "source": [
    "fig, ax = plt.subplots(ncols=2, figsize=(20,5))\n",
    "ax[0].hist(cube1.flatten(), bins=400)\n",
    "ax[0].set_yscale('log')\n",
    "ax[0].set_xlim(0,)\n",
    "ax[1].hist(cube2.flatten(), bins=400)\n",
    "ax[1].set_yscale('log')\n",
    "ax[1].set_xlim(0,)"
   ]
  },
  {
   "cell_type": "code",
   "execution_count": 45,
   "id": "157dadf2",
   "metadata": {},
   "outputs": [],
   "source": [
    "#MRB\n",
    "isolevels1 = np.array([0.45, 1.1, 2.3, 4, 6])\n",
    "isolevels2 = np.array([0.7, 1.3, 2.1, 3, 4])\n",
    "isolevels = [isolevels1, isolevels2]"
   ]
  },
  {
   "cell_type": "code",
   "execution_count": 46,
   "id": "fddea91d",
   "metadata": {},
   "outputs": [
    {
     "data": {
      "text/plain": [
       "array([[2.15470951e-02, 2.49404672e-02],\n",
       "       [4.22059556e-01, 4.25096889e-01],\n",
       "       [6.39009740e+03, 6.41435000e+03]])"
      ]
     },
     "execution_count": 46,
     "metadata": {},
     "output_type": "execute_result"
    }
   ],
   "source": [
    "coords = np.array([ralim, declim, vlim])\n",
    "coords"
   ]
  },
  {
   "cell_type": "code",
   "execution_count": 47,
   "id": "1a5c5648",
   "metadata": {},
   "outputs": [],
   "source": [
    "color1 = c3.create_colormap('Greens', isolevels1)\n",
    "color2 = c3.create_colormap('Reds', isolevels2)\n",
    "colors = [color1,color2]"
   ]
  },
  {
   "cell_type": "code",
   "execution_count": 48,
   "id": "94f6d26e",
   "metadata": {},
   "outputs": [],
   "source": [
    "meta = {'generator':'create_x3d python module',\n",
    "       'creator':'Name Surname',\n",
    "       'title':cubehead['OBJECT'],\n",
    "        'numberofelements':f'{len(isolevels)} layers',\n",
    "        'description':'data cube of %s'%cubehead['OBJECT']\n",
    "       }"
   ]
  },
  {
   "cell_type": "code",
   "execution_count": 49,
   "id": "0fba6a83",
   "metadata": {},
   "outputs": [],
   "source": [
    "x3dname = 'OIII_1-NII_1.x3d'"
   ]
  },
  {
   "cell_type": "code",
   "execution_count": 50,
   "id": "cf2aa79b",
   "metadata": {},
   "outputs": [
    {
     "name": "stdout",
     "output_type": "stream",
     "text": [
      "[[ -6.10790397   0.           6.10790397]\n",
      " [ -5.4672       0.           5.4672    ]\n",
      " [-12.1263       0.          12.1263    ]]\n"
     ]
    }
   ],
   "source": [
    "file = c3.write_x3d('./cube_x3d/examples/%s'%x3dname, delta_arcsec,\n",
    "                    coords, header=cubehead, units=[\"e17 \"+cubehead[\"BUNIT\"], 'arcsec', 'arcsec', 'angstrom'], meta=meta, picking=False)\n",
    "\n",
    "#also need html.func_pick() if picking=True"
   ]
  },
  {
   "cell_type": "code",
   "execution_count": 51,
   "id": "41363a70",
   "metadata": {},
   "outputs": [],
   "source": [
    "file.make_layers(cubes, isolevels, colors)\n",
    "file.make_outline()\n",
    "#file.make_galaxies(gals=gals, labels=True)\n",
    "file.make_image2d(imcol=None, img_shape=None)\n",
    "file.make_ticklines()\n",
    "file.make_labels(gals=None, axlab='diff') \n",
    "#html.func_scalev(axes) should be same as axlab, not func_axes() though.\n",
    "file.close()"
   ]
  },
  {
   "cell_type": "code",
   "execution_count": 52,
   "id": "be78667c",
   "metadata": {},
   "outputs": [],
   "source": [
    "tabtitle = f'{cubehead[\"OBJECT\"]}'\n",
    "pagetitle = f'3D interactive datacube: {cubehead[\"OBJECT\"]}'\n",
    "# add in desc for 2d image: <br>\\n\\t Background image: {survey}\n",
    "desc = f\"Object: {cubehead['OBJECT']}.<t> Telescope: {cubehead['TELESCOP']}, Instrument: {cubehead['INSTRUME']}, Obsmode: {cubehead['OBSMODE']}.<br>\\n\\t Center: (RA,DEC)=({np.round(ramean,5)}, {np.round(decmean,5)}). Date-obs: {cubehead['DATE-OBS']}\""
   ]
  },
  {
   "cell_type": "code",
   "execution_count": 53,
   "id": "153e26dd",
   "metadata": {},
   "outputs": [],
   "source": [
    "colmaps = ['Greens', 'Reds', 'magma', 'CMRmap', 'inferno', 'plasma', 'viridis', 'Greys',\n",
    "           'Blues', 'OrRd', 'PuRd', 'Reds', 'Spectral', 'Wistia',\n",
    "          'YlGn', 'YlOrRd', 'afmhot', 'autumn', 'cool', 'coolwarm',\n",
    "          'copper', 'cubehelix', 'flag', 'gist_earth', 'gist_heat',\n",
    "          'gist_ncar', 'gist_stern', 'gnuplot', 'gnuplot2', 'hot',\n",
    "          'nipy_spectral', 'prism', 'winter', 'Paired']"
   ]
  },
  {
   "cell_type": "code",
   "execution_count": 25,
   "id": "a1438c81",
   "metadata": {},
   "outputs": [
    {
     "data": {
      "text/plain": [
       "<module 'cube_x3d' from 'c:\\\\Users\\\\ixaka\\\\Documents\\\\Visualization\\\\cube_x3d\\\\cube_x3d.py'>"
      ]
     },
     "execution_count": 25,
     "metadata": {},
     "output_type": "execute_result"
    }
   ],
   "source": [
    "import importlib\n",
    "importlib.reload(c3)"
   ]
  },
  {
   "cell_type": "code",
   "execution_count": 57,
   "id": "36d3dc86",
   "metadata": {},
   "outputs": [],
   "source": [
    "html = c3.write_html('./cube_x3d/examples/%s.html'%x3dname.split('.')[0], \n",
    "                    units=[\"e17 \"+cubehead[\"BUNIT\"], 'arcsec', 'arcsec', 'angstrom'],\n",
    "                     tabtitle=tabtitle, pagetitle=pagetitle,\n",
    "                     description=desc)"
   ]
  },
  {
   "cell_type": "code",
   "execution_count": 58,
   "id": "1cb18a7d",
   "metadata": {},
   "outputs": [],
   "source": [
    "html.func_layers(isolevels)\n",
    "#html.func_galaxies(gals)\n",
    "#html.func_gallab()\n",
    "html.func_grids()\n",
    "html.func_axes('diff')\n",
    "#html.func_pick() #for coordinate picking\n",
    "html.start_x3d()\n",
    "html.viewpoints(maxcoord=file.diff_coords[:,2])\n",
    "html.close_x3d(x3dname)\n",
    "html.buttons(isolevels, colors, colormaps=colmaps, hide2d=True, scalev=True, move2d=True, lineLabs=[r'OIII ($4958.911 \\, \\mathring{A}$)', r'NII ($6548.05 \\, \\mathring{A}$)'])\n",
    "#func_move2dimage, func_setCenterOfRotation, func_colormaps and func_scalev must always go after buttons\n",
    "html.func_image2d()\n",
    "#html.func_setCenterOfRotation(['0 0 -19', '0 0 -4','0 0 17.5']) #['0 0 -29.3', '0 0 19.1'] for MRB\n",
    "html.func_colormaps(isolevels)\n",
    "html.func_scalev(gals=None, axes='diff', coords=file.diff_coords, vmax=file.diff_coords[2,2]) #file.diff_coords[2,2]\n",
    "html.func_move2dimage(real_vmax=file.real_coords[2,2], diff_vmax=file.diff_coords[2,2])\n",
    "html.close_html()"
   ]
  },
  {
   "cell_type": "code",
   "execution_count": null,
   "id": "81075620",
   "metadata": {},
   "outputs": [],
   "source": []
  }
 ],
 "metadata": {
  "kernelspec": {
   "display_name": "Python 3 (ipykernel)",
   "language": "python",
   "name": "python3"
  },
  "language_info": {
   "codemirror_mode": {
    "name": "ipython",
    "version": 3
   },
   "file_extension": ".py",
   "mimetype": "text/x-python",
   "name": "python",
   "nbconvert_exporter": "python",
   "pygments_lexer": "ipython3",
   "version": "3.10.8"
  }
 },
 "nbformat": 4,
 "nbformat_minor": 5
}
