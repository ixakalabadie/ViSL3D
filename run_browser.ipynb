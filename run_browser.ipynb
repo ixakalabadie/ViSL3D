{
 "cells": [
  {
   "cell_type": "code",
   "execution_count": 1,
   "metadata": {},
   "outputs": [],
   "source": [
    "import subprocess\n",
    "import psutil\n",
    "import time"
   ]
  },
  {
   "cell_type": "code",
   "execution_count": 32,
   "metadata": {},
   "outputs": [],
   "source": [
    "import subprocess\n",
    "import psutil\n",
    "import time\n",
    "\n",
    "def open_browser(url):\n",
    "    subprocess.Popen(['C:\\\\Program Files\\\\Google\\\\Chrome\\\\Application\\\\chrome.exe', url])\n",
    "\n",
    "def monitor_ram(process_name):\n",
    "    for i in range(5):\n",
    "        for process in psutil.process_iter(['pid', 'name', 'memory_info']):\n",
    "            if process.info['name'] == process_name:\n",
    "                pid = process.info['pid']\n",
    "                memory_info = process.info['memory_info']\n",
    "                print(f\"PID: {pid}, RAM Usage: {memory_info.rss / (1024 ** 2):.2f} MB\")\n",
    "        print('--------------------------------------')\n",
    "        time.sleep(5)\n",
    "\n",
    "def close_browser(process_name):\n",
    "    for process in psutil.process_iter(['pid', 'name']):\n",
    "        if process.info['name'] == process_name:\n",
    "            pid = process.info['pid']\n",
    "            try:\n",
    "                # Terminate the process\n",
    "                psutil.Process(pid).terminate()\n",
    "                print(f\"Browser with PID {pid} terminated.\")\n",
    "            except psutil.NoSuchProcess:\n",
    "                pass"
   ]
  },
  {
   "cell_type": "code",
   "execution_count": 33,
   "metadata": {},
   "outputs": [
    {
     "name": "stdout",
     "output_type": "stream",
     "text": [
      "PID: 18436, RAM Usage: 20.34 MB\n",
      "PID: 26084, RAM Usage: 34.24 MB\n",
      "PID: 26916, RAM Usage: 27.69 MB\n",
      "PID: 28880, RAM Usage: 8.60 MB\n",
      "PID: 29316, RAM Usage: 177.19 MB\n",
      "PID: 29612, RAM Usage: 148.57 MB\n",
      "PID: 30732, RAM Usage: 388.00 MB\n",
      "--------------------------------------\n",
      "PID: 18436, RAM Usage: 20.34 MB\n",
      "PID: 26084, RAM Usage: 34.31 MB\n",
      "PID: 26916, RAM Usage: 27.55 MB\n",
      "PID: 28880, RAM Usage: 8.60 MB\n",
      "PID: 29316, RAM Usage: 172.66 MB\n",
      "PID: 29612, RAM Usage: 148.30 MB\n",
      "PID: 30732, RAM Usage: 389.62 MB\n",
      "--------------------------------------\n",
      "PID: 18436, RAM Usage: 20.34 MB\n",
      "PID: 26084, RAM Usage: 34.28 MB\n",
      "PID: 26916, RAM Usage: 27.55 MB\n",
      "PID: 28880, RAM Usage: 8.60 MB\n",
      "PID: 29316, RAM Usage: 174.30 MB\n",
      "PID: 29612, RAM Usage: 148.23 MB\n",
      "PID: 30732, RAM Usage: 390.57 MB\n",
      "--------------------------------------\n",
      "PID: 18436, RAM Usage: 20.34 MB\n",
      "PID: 26084, RAM Usage: 34.38 MB\n",
      "PID: 26916, RAM Usage: 27.55 MB\n",
      "PID: 28880, RAM Usage: 8.60 MB\n",
      "PID: 29316, RAM Usage: 172.19 MB\n",
      "PID: 29612, RAM Usage: 148.34 MB\n",
      "PID: 30732, RAM Usage: 392.00 MB\n",
      "--------------------------------------\n",
      "PID: 18436, RAM Usage: 20.34 MB\n",
      "PID: 26084, RAM Usage: 34.19 MB\n",
      "PID: 26916, RAM Usage: 27.55 MB\n",
      "PID: 28880, RAM Usage: 8.60 MB\n",
      "PID: 29316, RAM Usage: 172.18 MB\n",
      "PID: 29612, RAM Usage: 148.23 MB\n",
      "PID: 30732, RAM Usage: 393.73 MB\n",
      "--------------------------------------\n",
      "Browser with PID 18436 terminated.\n",
      "Browser with PID 26084 terminated.\n",
      "Browser with PID 26916 terminated.\n",
      "Browser with PID 28880 terminated.\n",
      "Browser with PID 29316 terminated.\n",
      "Browser with PID 29612 terminated.\n",
      "Browser with PID 30732 terminated.\n"
     ]
    }
   ],
   "source": [
    "\n",
    "url_to_open = \"localhost/stats/one_HCG16_highno.html\"  # Replace with your desired URL\n",
    "browser_process_name = \"chrome.exe\"  # Adjust for the browser you're using (e.g., \"firefox.exe\" for Firefox)\n",
    "\n",
    "open_browser(url_to_open)\n",
    "\n",
    "# Allow some time for the browser to open before monitoring\n",
    "time.sleep(5)\n",
    "\n",
    "monitor_ram(browser_process_name)\n",
    "\n",
    "close_browser(browser_process_name)\n"
   ]
  },
  {
   "cell_type": "code",
   "execution_count": null,
   "metadata": {},
   "outputs": [],
   "source": []
  },
  {
   "cell_type": "code",
   "execution_count": null,
   "metadata": {},
   "outputs": [],
   "source": []
  }
 ],
 "metadata": {
  "kernelspec": {
   "display_name": "x3d",
   "language": "python",
   "name": "python3"
  },
  "language_info": {
   "codemirror_mode": {
    "name": "ipython",
    "version": 3
   },
   "file_extension": ".py",
   "mimetype": "text/x-python",
   "name": "python",
   "nbconvert_exporter": "python",
   "pygments_lexer": "ipython3",
   "version": "3.10.8"
  }
 },
 "nbformat": 4,
 "nbformat_minor": 2
}
