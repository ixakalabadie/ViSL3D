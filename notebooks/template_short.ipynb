{
 "cells": [
  {
   "cell_type": "markdown",
   "metadata": {},
   "source": [
    "# Short template to create 3D visualisations with **cubeX3D**\n",
    "\n",
    "This template describes how to create different 3D visualisations with the **cubeX3D** package."
   ]
  },
  {
   "cell_type": "code",
   "execution_count": 1,
   "metadata": {},
   "outputs": [],
   "source": [
    "from cubeX3D import visual as vis\n",
    "import astropy.units as u"
   ]
  },
  {
   "cell_type": "markdown",
   "metadata": {},
   "source": [
    "## Default visualisation\n",
    "\n",
    "In the simplest case, a 3D visualisation of an entire datacube can be created with just giving the name of a FITS file as input:"
   ]
  },
  {
   "cell_type": "code",
   "execution_count": 2,
   "metadata": {},
   "outputs": [
    {
     "name": "stdout",
     "output_type": "stream",
     "text": [
      "Warning: Cube with polarization axis. Using first one.\n"
     ]
    }
   ],
   "source": [
    "cube = vis.prep_one('../../HCG16.fits')\n",
    "\n",
    "vis.createX3D(cube, 'HCG16_default.x3d')\n",
    "vis.createHTML(cube, 'HCG16_default.html')"
   ]
  },
  {
   "cell_type": "markdown",
   "metadata": {},
   "source": [
    "The function *vis.prep_one* returns a Cube object with all the information needed to create a 3D visualisation.<br>\n",
    "Then, the X3D file and the HTML file are created with *vis.createX3D* and *vis.createHTML* respectively.\n",
    "\n",
    "## Custom visualisation, single spectral line\n",
    "\n",
    "Several parameters can be introduced in *vis.prep_one* to customise the visualisation:"
   ]
  },
  {
   "cell_type": "code",
   "execution_count": 3,
   "metadata": {},
   "outputs": [],
   "source": [
    "lims = [[32.3*u.deg,32.5*u.deg],\n",
    "        [-10.4*u.deg,-10.3*u.deg],\n",
    "        [3800*u.km/u.s,3900*u.km/u.s]]\n",
    "\n",
    "galaxies = ['HCG16a','HCG16b', 'HCG16c', 'HCG16d']"
   ]
  },
  {
   "cell_type": "code",
   "execution_count": 4,
   "metadata": {},
   "outputs": [
    {
     "name": "stdout",
     "output_type": "stream",
     "text": [
      "Warning: Cube with polarization axis. Using first one.\n"
     ]
    }
   ],
   "source": [
    "cube = vis.prep_one('../../HCG16.fits', lims=lims, unit='rms', isolevels=[3,4],\n",
    "                    colormap='magma_r', image2d='DSS2 Blue', galaxies=galaxies)\n",
    "\n",
    "vis.createX3D(cube, 'HCG16_custom.x3d')\n",
    "vis.createHTML(cube, 'HCG16_custom.html')"
   ]
  },
  {
   "cell_type": "markdown",
   "metadata": {},
   "source": [
    "## Multiple spectral lines\n",
    "\n",
    "Visualisations with several subcubes can be created to represent different spectral lines.\n",
    "In this case the spectral_lims parameter is mandatory."
   ]
  },
  {
   "cell_type": "code",
   "execution_count": 5,
   "metadata": {},
   "outputs": [],
   "source": [
    "spectral_lims = [[3600*u.km/u.s,3700*u.km/u.s],\n",
    "                 [3800*u.km/u.s,3900*u.km/u.s]]\n",
    "\n",
    "spatial_lims = [[[32.3*u.deg,32.5*u.deg],[-10.4*u.deg,-10.3*u.deg]],\n",
    "                [[32.6*u.deg,32.7*u.deg],[-10.2*u.deg,-10.1*u.deg]]]\n",
    "\n",
    "lines = ['First', 'Second']"
   ]
  },
  {
   "cell_type": "code",
   "execution_count": 6,
   "metadata": {},
   "outputs": [
    {
     "name": "stdout",
     "output_type": "stream",
     "text": [
      "Warning: Cube with polarization axis. Using first one.\n"
     ]
    }
   ],
   "source": [
    "cube = vis.prep_mult('../../HCG16.fits', spectral_lims=spectral_lims, spatial_lims=spatial_lims,\n",
    "                     lines = lines, unit='rms')\n",
    "\n",
    "vis.createX3D(cube, 'HCG16_mult.x3d')\n",
    "vis.createHTML(cube, 'HCG16_mult.html')"
   ]
  },
  {
   "cell_type": "markdown",
   "metadata": {},
   "source": [
    "## Spectral line overlay\n",
    "\n",
    "Instead of plotting different spectral lines separately, they can be overlaid in the same volume.<br>\n",
    "The subcubes can be definead as with *vis.prep_mult* or with the lines parameter as a dictionary."
   ]
  },
  {
   "cell_type": "code",
   "execution_count": 7,
   "metadata": {},
   "outputs": [],
   "source": [
    "lines = {'Line 1': (3600*u.km/u.s, 200*u.km/u.s), 'Line 2': (3850*u.km/u.s, 20)}\n",
    "\n",
    "spatial_lims = [[[32.3*u.deg,32.5*u.deg],[-10.4*u.deg,-10.3*u.deg]],\n",
    "                [[32.6*u.deg,32.7*u.deg],[-10.25*u.deg,-10.1*u.deg]]]"
   ]
  },
  {
   "cell_type": "code",
   "execution_count": 8,
   "metadata": {},
   "outputs": [
    {
     "name": "stdout",
     "output_type": "stream",
     "text": [
      "Warning: Cube with polarization axis. Using first one.\n"
     ]
    }
   ],
   "source": [
    "cube = vis.prep_overlay('../../HCG16.fits', lines=lines, spatial_lims=spatial_lims,\n",
    "                        unit='percent', colormap=['Reds', 'Blues'])\n",
    "\n",
    "vis.createX3D(cube, 'HCG16_overlay.x3d')\n",
    "vis.createHTML(cube, 'HCG16_overlay.html')"
   ]
  },
  {
   "cell_type": "markdown",
   "metadata": {},
   "source": [
    "## Conclusions\n",
    "\n",
    "**cubeX3D** provides a straightforward method to create 3D visualisations of datacubes, with the possibility of customising the visualisation in many ways.\n",
    "\n",
    "Apart from the provided examples, many other visualisations can be created by combining the different parameters available in the functions *vis.prep_one*, *vis.prep_mult*, *vis.prep_overlay*. See the documentation of each function for more information.\n",
    "\n",
    "Even though those functions are recommended to create the visualisations, they can also be created from scratch with only the vis.Cube object and functions in the writers submodule.\n",
    "\n",
    "**REMEMBER THAT THE VISUALISATIONS MUST BE OPENED THROUGH A LOCAL SERVER, NOT DIRECTLY FROM THE FILE SYSTEM.**"
   ]
  }
 ],
 "metadata": {
  "kernelspec": {
   "display_name": "x3d",
   "language": "python",
   "name": "python3"
  },
  "language_info": {
   "codemirror_mode": {
    "name": "ipython",
    "version": 3
   },
   "file_extension": ".py",
   "mimetype": "text/x-python",
   "name": "python",
   "nbconvert_exporter": "python",
   "pygments_lexer": "ipython3",
   "version": "3.10.8"
  }
 },
 "nbformat": 4,
 "nbformat_minor": 2
}
