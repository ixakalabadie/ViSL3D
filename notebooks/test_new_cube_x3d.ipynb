{
 "cells": [
  {
   "cell_type": "code",
   "execution_count": 1,
   "metadata": {},
   "outputs": [
    {
     "data": {
      "text/plain": [
       "<module 'cubeX3D' from 'c:\\\\Users\\\\ixaka\\\\Documents\\\\Visualization\\\\cube_x3d\\\\notebooks\\\\cubeX3D\\\\__init__.py'>"
      ]
     },
     "execution_count": 1,
     "metadata": {},
     "output_type": "execute_result"
    }
   ],
   "source": [
    "import cubeX3D\n",
    "import importlib\n",
    "importlib.reload(cubeX3D)"
   ]
  },
  {
   "cell_type": "code",
   "execution_count": 2,
   "metadata": {},
   "outputs": [],
   "source": [
    "%reload_ext autoreload\n",
    "%autoreload all"
   ]
  },
  {
   "cell_type": "code",
   "execution_count": 3,
   "metadata": {},
   "outputs": [
    {
     "name": "stderr",
     "output_type": "stream",
     "text": [
      "C:\\Users\\ixaka\\AppData\\Local\\Temp\\ipykernel_18600\\841671745.py:2: DeprecationWarning: the imp module is deprecated in favour of importlib and slated for removal in Python 3.12; see the module's documentation for alternative uses\n",
      "  from imp import reload\n"
     ]
    },
    {
     "data": {
      "text/plain": [
       "<module 'cubeX3D' from 'c:\\\\Users\\\\ixaka\\\\Documents\\\\Visualization\\\\cube_x3d\\\\notebooks\\\\cubeX3D\\\\__init__.py'>"
      ]
     },
     "execution_count": 3,
     "metadata": {},
     "output_type": "execute_result"
    }
   ],
   "source": [
    "import cubeX3D\n",
    "from imp import reload\n",
    "reload(cubeX3D) "
   ]
  },
  {
   "cell_type": "code",
   "execution_count": 1,
   "metadata": {},
   "outputs": [],
   "source": [
    "from cubeX3D import visual as vis\n",
    "from astropy.io import fits\n",
    "from cubeX3D import misc\n",
    "import numpy as np\n",
    "import astropy.units as u\n",
    "from scipy.stats import norm"
   ]
  },
  {
   "cell_type": "code",
   "execution_count": 4,
   "metadata": {},
   "outputs": [
    {
     "name": "stdout",
     "output_type": "stream",
     "text": [
      "Warning: Cube with polarization axis. Using first one.\n"
     ]
    }
   ],
   "source": [
    "cube = vis.prep_overlay('../../HCG16.fits', lines={'Line1': (3600*u.km/u.s, 200*u.km/u.s), 'Line2': (3850*u.km/u.s, 20)},\n",
    "                     spatial_lims=[[[32.3*u.deg,32.5*u.deg],[-10.4*u.deg,-10.3*u.deg]],[[32.6*u.deg,32.7*u.deg],[-10.25*u.deg,-10.1*u.deg]]])"
   ]
  },
  {
   "cell_type": "code",
   "execution_count": null,
   "metadata": {},
   "outputs": [
    {
     "name": "stdout",
     "output_type": "stream",
     "text": [
      "Warning: Cube with polarization axis. Using first one.\n"
     ]
    }
   ],
   "source": [
    "cube = vis.prep_overlay('../../HCG16.fits', spectral_lims=[[3500*u.km/u.s,3700*u.km/u.s],[3800*u.km/u.s,3900*u.km/u.s]],\n",
    "                     spatial_lims=[[[32.3*u.deg,32.5*u.deg],[-10.4*u.deg,-10.3*u.deg]],[[32.6*u.deg,32.7*u.deg],[-10.25*u.deg,-10.1*u.deg]]])"
   ]
  },
  {
   "cell_type": "code",
   "execution_count": null,
   "metadata": {},
   "outputs": [
    {
     "name": "stdout",
     "output_type": "stream",
     "text": [
      "Warning: Cube with polarization axis. Using first one.\n"
     ]
    }
   ],
   "source": [
    "cube = vis.prep_mult('../../HCG16.fits', spectral_lims=[[3600*u.km/u.s,3700*u.km/u.s],[3800*u.km/u.s,3900*u.km/u.s]],\n",
    "                     spatial_lims=[[[32.3*u.deg,32.5*u.deg],[-10.4*u.deg,-10.3*u.deg]],[[32.6*u.deg,32.7*u.deg],[-10.2*u.deg,-10.1*u.deg]]])"
   ]
  },
  {
   "cell_type": "code",
   "execution_count": 5,
   "metadata": {},
   "outputs": [],
   "source": [
    "vis.createX3D(cube, 'HCG16_over.x3d')\n",
    "vis.createHTML(cube, 'HCG16_over.html')"
   ]
  },
  {
   "cell_type": "code",
   "execution_count": null,
   "metadata": {},
   "outputs": [],
   "source": [
    "coords = [[np.array([[ 32.80541667,  32.28208333],\n",
    "       [-10.50305556, -10.03805556]])], [[3600000.0, 3700000.0], [3800000.0, 3900000.0]]]\n",
    "lims = [np.array([[[  0, 315],\n",
    "        [  0, 280]]]), np.array([[ 94, 112],\n",
    "       [ 58,  76]])]"
   ]
  },
  {
   "cell_type": "code",
   "execution_count": 2,
   "metadata": {},
   "outputs": [
    {
     "name": "stdout",
     "output_type": "stream",
     "text": [
      "Warning: Cube with polarization axis. Using first one.\n"
     ]
    }
   ],
   "source": [
    "cube = vis.prep_one('../../HCG16.fits', unit='rms', isolevels=[3,4,5,6,10], image2d=\"DSS2 Blue\")"
   ]
  },
  {
   "cell_type": "code",
   "execution_count": 3,
   "metadata": {},
   "outputs": [],
   "source": [
    "vis.createX3D(cube, 'HCG16_markers.x3d')\n",
    "vis.createHTML(cube, 'HCG16_markers.html')"
   ]
  },
  {
   "cell_type": "code",
   "execution_count": null,
   "metadata": {},
   "outputs": [],
   "source": [
    "with fits.open('../../HCG16.fits') as hdul:\n",
    "    cube = hdul[0].data[0]\n",
    "    header = hdul[0].header"
   ]
  },
  {
   "cell_type": "code",
   "execution_count": null,
   "metadata": {},
   "outputs": [
    {
     "data": {
      "text/plain": [
       "4923631.32763"
      ]
     },
     "execution_count": 38,
     "metadata": {},
     "output_type": "execute_result"
    }
   ],
   "source": [
    "header['CRVAL3']"
   ]
  },
  {
   "cell_type": "code",
   "execution_count": null,
   "metadata": {},
   "outputs": [],
   "source": [
    "a = 0\n",
    "pix = 4217913.330927281"
   ]
  },
  {
   "cell_type": "code",
   "execution_count": null,
   "metadata": {},
   "outputs": [
    {
     "data": {
      "text/plain": [
       "4217913.330927281"
      ]
     },
     "execution_count": 53,
     "metadata": {},
     "output_type": "execute_result"
    }
   ],
   "source": [
    "header['CRVAL3']+header['CDELT3']*(a-header['CRPIX3'])"
   ]
  },
  {
   "cell_type": "code",
   "execution_count": null,
   "metadata": {},
   "outputs": [
    {
     "data": {
      "text/plain": [
       "-8.526512829121202e-14"
      ]
     },
     "execution_count": 54,
     "metadata": {},
     "output_type": "execute_result"
    }
   ],
   "source": [
    "(pix - header['CRVAL3'])/header['CDELT3'] + header['CRPIX3']"
   ]
  },
  {
   "cell_type": "code",
   "execution_count": null,
   "metadata": {},
   "outputs": [
    {
     "data": {
      "text/plain": [
       "0.18886567963518475"
      ]
     },
     "execution_count": 43,
     "metadata": {},
     "output_type": "execute_result"
    }
   ],
   "source": [
    "(header['CRVAL3']-4079114-header['CDELT3']*(header['CRPIX3']-1))/(header['CDELT3']*header['CRPIX3'])"
   ]
  },
  {
   "cell_type": "code",
   "execution_count": null,
   "metadata": {},
   "outputs": [
    {
     "data": {
      "text/plain": [
       "3479114.8031291203"
      ]
     },
     "execution_count": 39,
     "metadata": {},
     "output_type": "execute_result"
    }
   ],
   "source": [
    "header['CRVAL3'] + header['CDELT3']*(129+133)"
   ]
  },
  {
   "cell_type": "code",
   "execution_count": null,
   "metadata": {},
   "outputs": [
    {
     "data": {
      "text/plain": [
       "-111.66024138727276"
      ]
     },
     "execution_count": 7,
     "metadata": {},
     "output_type": "execute_result"
    }
   ],
   "source": [
    "(header['CRVAL3']-3600000+5500*(header['CRPIX3']-1))/-5500"
   ]
  },
  {
   "cell_type": "code",
   "execution_count": null,
   "metadata": {},
   "outputs": [],
   "source": [
    "delta = np.array([header['CDELT1'], header['CDELT2'], header['CDELT3']])\n",
    "cubeunits = np.array([header['BUNIT'],header['CUNIT1'], header['CUNIT2'], header['CUNIT3']])\n",
    "if cubeunits[0] == 'JY/BEAM':\n",
    "    cubeunits[0] = 'Jy/beam'\n",
    "cubemags = np.array([header['BTYPE'],header['CTYPE1'], header['CTYPE2'], header['CTYPE3']])\n",
    "\n",
    "cube = misc.transpose(cube, delta)\n",
    "nx, ny, nz = cube.shape\n",
    "trans = (2000/nx, 2000/ny, 2000/nz)\n",
    "\n",
    "lims = np.array([[20, nx], [100, ny], [50, nz]], dtype=int)\n",
    "\n",
    "cubecoords = np.array([[header['CRVAL1']-delta[0]*(header['CRPIX1']-1-lims[0,0]),\n",
    "                    header['CRVAL1']+delta[0]*(lims[0,1]-header['CRPIX1'])],\n",
    "                    [header['CRVAL2']-delta[1]*(header['CRPIX2']-1-lims[1,0]),\n",
    "                    header['CRVAL2']+delta[1]*(lims[1,1]-header['CRPIX2'])],\n",
    "                    [header['CRVAL3']-delta[2]*(header['CRPIX3']-1-lims[2,0]),\n",
    "                    header['CRVAL3']+delta[2]*(lims[2,1]-header['CRPIX3'])]])\n",
    "\n",
    "cubecoords = np.sort(cubecoords)\n",
    "cube = cube[lims[0,0]:lims[0,1],lims[1,0]:lims[1,1],lims[2,0]:lims[2,1]]\n",
    "cube[np.isnan(cube)] = 0\n",
    "\n",
    "_, rms = norm.fit(np.hstack([cube[0 > cube].flatten(),\n",
    "                        -cube[0 > cube].flatten()]))\n",
    "cube = cube/rms #rms is in units of cubeunits[0]\n",
    "\n",
    "isolevels = misc.calc_isolevels(cube)\n",
    "colors = misc.create_colormap('CMRmap_r', isolevels)"
   ]
  },
  {
   "cell_type": "code",
   "execution_count": null,
   "metadata": {},
   "outputs": [],
   "source": [
    "cube = vis.Cube([cube], header['OBJECT'], cubecoords, [isolevels], [colors], cubeunits, cubemags, rms=rms)"
   ]
  },
  {
   "cell_type": "code",
   "execution_count": null,
   "metadata": {},
   "outputs": [],
   "source": [
    "vis.createX3D(cube, 'HCG16_autotest.x3d')\n",
    "vis.createHTML(cube, 'HCG16_autotest.html')"
   ]
  },
  {
   "cell_type": "code",
   "execution_count": null,
   "metadata": {},
   "outputs": [],
   "source": [
    "coords = [[[2,45],[3,40]],[]]"
   ]
  }
 ],
 "metadata": {
  "kernelspec": {
   "display_name": "x3d",
   "language": "python",
   "name": "python3"
  },
  "language_info": {
   "codemirror_mode": {
    "name": "ipython",
    "version": 3
   },
   "file_extension": ".py",
   "mimetype": "text/x-python",
   "name": "python",
   "nbconvert_exporter": "python",
   "pygments_lexer": "ipython3",
   "version": "3.10.8"
  }
 },
 "nbformat": 4,
 "nbformat_minor": 2
}
