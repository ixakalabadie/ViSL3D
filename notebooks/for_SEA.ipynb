{
 "cells": [
  {
   "cell_type": "markdown",
   "metadata": {},
   "source": [
    "# Short template to create 3D visualisations with **cubeX3D**\n",
    "\n",
    "**cubeX3D** provides a straightforward method to create 3D visualisations of datacubes, with the possibility of customising the visualisation in many ways. This template describes how to create different 3D visualisations with the **cubeX3D** package.\n",
    "\n",
    "Apart from the provided examples, many other visualisations can be created by combining the different parameters available in the functions *vis.prep_one*, *vis.prep_mult*, *vis.prep_overlay*. See the documentation of each function for more information.\n",
    "\n",
    "Even though those functions are recommended to create the visualisations, they can also be created from scratch with only the vis.Cube object and functions in the writers submodule.\n",
    "\n",
    "**REMEMBER THAT THE VISUALISATIONS MUST BE OPENED THROUGH A LOCAL SERVER, NOT DIRECTLY FROM THE FILE SYSTEM.**"
   ]
  },
  {
   "cell_type": "code",
   "execution_count": 1,
   "metadata": {},
   "outputs": [],
   "source": [
    "from visl3d import visual as vis\n",
    "import astropy.units as u"
   ]
  },
  {
   "cell_type": "markdown",
   "metadata": {},
   "source": [
    "The function *vis.prep_one* returns a Cube object with all the information needed to create a 3D visualisation.<br>\n",
    "Then, the X3D file and the HTML file are created with *vis.createX3D* and *vis.createHTML* respectively.\n",
    "\n",
    "## Custom visualisation, single spectral line\n",
    "\n",
    "Several parameters can be introduced in *vis.prep_one* to customise the visualisation:"
   ]
  },
  {
   "cell_type": "code",
   "execution_count": 2,
   "metadata": {},
   "outputs": [],
   "source": [
    "lims = [[32.283*u.deg,32.7*u.deg],\n",
    "        [-10.4*u.deg,-10.05*u.deg],\n",
    "        [3485*u.km/u.s,4217.8*u.km/u.s]]\n",
    "\n",
    "galaxies = ['HCG16a','HCG16b', 'HCG16c', 'HCG16d', 'NCG848']"
   ]
  },
  {
   "cell_type": "code",
   "execution_count": 3,
   "metadata": {},
   "outputs": [
    {
     "name": "stdout",
     "output_type": "stream",
     "text": [
      "Warning: Cube with polarization axis. Using first.\n"
     ]
    }
   ],
   "source": [
    "cube = vis.prep_one('../../HCG16.fits', lims=lims, unit='rms', isolevels=[3,4,5,7,10],\n",
    "                    colormap='CMRmap_r', galaxies=galaxies)\n",
    "\n",
    "coords = cube.coords\n",
    "units = cube.units"
   ]
  },
  {
   "cell_type": "code",
   "execution_count": 4,
   "metadata": {},
   "outputs": [
    {
     "name": "stderr",
     "output_type": "stream",
     "text": [
      "WARNING: InputWarning: Coordinate string is being interpreted as an ICRS coordinate. [astroquery.utils.commons]\n"
     ]
    }
   ],
   "source": [
    "import numpy as np\n",
    "from visl3d import misc\n",
    "from scipy.stats import norm\n",
    "from astropy.coordinates import SkyCoord\n",
    "import matplotlib.pyplot as plt\n",
    "\n",
    "pixels = 1000\n",
    "co = SkyCoord(ra=np.mean(coords[0])*u.Unit(units[1]), dec=np.mean(coords[1])*u.Unit(units[2]))\n",
    "co = co.to_string('hmsdms')\n",
    "_, _, img1 = misc.get_imcol(position=co, survey='DSS2 Blue',pixels=f'{pixels}',\n",
    "        coordinates='J2000', width=np.diff(coords[0])[0]*u.Unit(units[1]),\n",
    "        height=np.diff(coords[1])[0]*u.Unit(units[2]))\n",
    "_, _, img2 = misc.get_imcol(position=co, survey='DSS2 Red',pixels=f'{pixels}',\n",
    "        coordinates='J2000', width=np.diff(coords[0])[0]*u.Unit(units[1]),\n",
    "        height=np.diff(coords[1])[0]*u.Unit(units[2]))\n",
    "_, _, img3 = misc.get_imcol(position=co, survey='DSS2 IR',pixels=f'{pixels}',\n",
    "        coordinates='J2000', width=np.diff(coords[0])[0]*u.Unit(units[1]),\n",
    "        height=np.diff(coords[1])[0]*u.Unit(units[2]))\n",
    "\n",
    "print('images dowloaded')\n",
    "\n",
    "ima = np.array([img1, img2, img3])\n",
    "ima = np.transpose(ima, axes=(1,2,0))\n",
    "\n",
    "imcol, img_shape, _ = misc.get_imcol(image=ima)\n",
    "image2d = imcol, img_shape"
   ]
  },
  {
   "cell_type": "code",
   "execution_count": 5,
   "metadata": {},
   "outputs": [],
   "source": [
    "cube.image2d = image2d"
   ]
  },
  {
   "cell_type": "code",
   "execution_count": 4,
   "metadata": {},
   "outputs": [
    {
     "name": "stdout",
     "output_type": "stream",
     "text": [
      "Warning: Cube with polarization axis. Using first one.\n"
     ]
    }
   ],
   "source": [
    "vis.createX3D(cube, 'HCG16_custom.x3d')\n",
    "vis.createHTML(cube, 'HCG16_custom.html')"
   ]
  },
  {
   "cell_type": "code",
   "execution_count": 45,
   "metadata": {},
   "outputs": [
    {
     "name": "stderr",
     "output_type": "stream",
     "text": [
      "WARNING: StokesWarning: Cube is a Stokes cube, returning spectral cube for I component [spectral_cube.io.core]\n"
     ]
    },
    {
     "name": "stdout",
     "output_type": "stream",
     "text": [
      "(133, 280, 315)\n",
      "(0.00166666666667, 0.00166666666667, 5513.42184924)\n",
      "[[ 3.23056917e+01  3.27192898e+01]\n",
      " [-1.04194513e+01 -1.00711173e+01]\n",
      " [ 3.48462822e+06  4.21239991e+06]]\n",
      "0.00038666147\n"
     ]
    },
    {
     "name": "stderr",
     "output_type": "stream",
     "text": [
      "WARNING: InputWarning: Coordinate string is being interpreted as an ICRS coordinate. [astroquery.utils.commons]\n"
     ]
    }
   ],
   "source": [
    "from spectral_cube import SpectralCube\n",
    "import numpy as np\n",
    "from visl3d import misc\n",
    "from scipy.stats import norm\n",
    "from astropy.coordinates import SkyCoord\n",
    "\n",
    "# Read the fits file and save header\n",
    "data = SpectralCube.read(\"../../HCG16.fits\")\n",
    "cubehead = data.header\n",
    "nz, ny, nx = data.shape\n",
    "print(data.shape)\n",
    "dra, ddec, dv = cubehead['CDELT1'], cubehead['CDELT2'], cubehead['CDELT3']\n",
    "units = [cubehead['BUNIT'], cubehead['CUNIT1'], cubehead['CUNIT2'], cubehead['CUNIT3']]\n",
    "mags = [cubehead['BTYPE'], cubehead['CTYPE1'], cubehead['CTYPE2'], cubehead['CTYPE3']]\n",
    "delta = (np.abs(dra), np.abs(ddec), np.abs(dv))\n",
    "print(delta)\n",
    "\n",
    "# Limits to crop the cube, no HI there. Subtract 1 to wanted number, e.g. nz-1.\n",
    "limx = [55, nx-16]\n",
    "limy = [50, ny-21]\n",
    "limz = [0, nz-1]\n",
    "\n",
    "# Calculate coordinates from limits\n",
    "ralim = data.spatial_coordinate_map[1][0,:][limx][::int(np.sign(cubehead[\"CDELT1\"]))]\n",
    "ramean = np.mean(ralim)\n",
    "declim = data.spatial_coordinate_map[0][:,0][limy][::int(np.sign(cubehead[\"CDELT2\"]))]\n",
    "decmean = np.mean(declim)\n",
    "vlim = data.spectral_axis[limz][::int(np.sign(dv))]\n",
    "vmean = np.mean(vlim).to_value()\n",
    "\n",
    "coords = np.array([ralim, declim, vlim])\n",
    "print(coords)\n",
    "\n",
    "# create cropped array\n",
    "data = data.unmasked_data[limz[0]:limz[1]+1,limy[0]:limy[1]+1,limx[0]:limx[1]+1].to_value()\n",
    "# Slice data, transpose to (ra,dec,v) and flip axes if needed (see if step in FITS header is + or -)\n",
    "data = misc.transpose(data, (dra,ddec,dv))\n",
    "\n",
    "# calculate rms of data from negative values in the cube\n",
    "_, rms = norm.fit(np.hstack([data[data<0].flatten(),-data[data<0].flatten()]))\n",
    "print(rms)\n",
    "\n",
    "# Divide the cube by the RMS\n",
    "data = data/rms\n",
    "units[0] = 'RMS'\n",
    "\n",
    "isolevels = np.array([3, 3.5, 4, 4.5, 5, 6, 7, 8 ,9, 10, 15, 25])\n",
    "\n",
    "galaxies = ['HCG16a','HCG16b', 'HCG16c', 'HCG16d', 'NGC848']\n",
    "trans = (2000/nx, 2000/ny, 2000/nz)\n",
    "galdict = misc.get_galaxies(galaxies, coords, units, cubehead['OBJECT'], delta, trans)\n",
    "\n",
    "color = misc.create_colormap('CMRmap_r', isolevels)\n",
    "\n",
    "pixels = 1000\n",
    "co = SkyCoord(ra=np.mean(coords[0])*u.Unit(units[1]), dec=np.mean(coords[1])*u.Unit(units[2]))\n",
    "co = co.to_string('hmsdms')\n",
    "imcol, img_shape, img = misc.get_imcol(position=co, survey='DSS2 Blue',pixels=f'{pixels}',\n",
    "        coordinates='J2000', width=np.diff(coords[0])[0]*u.Unit(units[1]),\n",
    "        height=np.diff(coords[1])[0]*u.Unit(units[2]))\n",
    "image2d = imcol, img_shape\n",
    "\n",
    "cube = vis.Cube(l_cubes=[data], name=cubehead['OBJECT'], coords=coords, units=units,\n",
    "                 mags=mags, l_colors=[color], rms=rms, image2d=image2d, delta=delta,\n",
    "                 galaxies=galdict, l_isolevels=[isolevels])"
   ]
  },
  {
   "cell_type": "code",
   "execution_count": 46,
   "metadata": {},
   "outputs": [],
   "source": [
    "cube = vis.Cube(l_cubes=[data], name=cubehead['OBJECT'], coords=coords, units=units,\n",
    "                 mags=mags, l_colors=[color], rms=rms, image2d=image2d, delta=delta,\n",
    "                 galaxies=galdict, l_isolevels=[isolevels])"
   ]
  },
  {
   "cell_type": "markdown",
   "metadata": {},
   "source": [
    "Now that we have defined the Cube object, we can create the X3D and HTML files with the *writers* submodule.<br>\n",
    "The previous step can be done with *vis.prep_one*, *vis.prep_mult* or *vis.prep_overlay* and still create the files with the *writers* submodule."
   ]
  },
  {
   "cell_type": "code",
   "execution_count": 47,
   "metadata": {},
   "outputs": [],
   "source": [
    "from visl3d import writers\n",
    "\n",
    "x3d = writers.WriteX3D('HCG16_manual.x3d', cube)\n",
    "x3d.make_layers()\n",
    "x3d.make_outline()\n",
    "x3d.make_galaxies()\n",
    "x3d.make_image2d()\n",
    "x3d.make_ticklines()\n",
    "x3d.make_animation()\n",
    "x3d.make_labels()\n"
   ]
  },
  {
   "cell_type": "markdown",
   "metadata": {},
   "source": [
    "We can add functionalities that are not implemented by *vis.createX3D* and *vis.createHTML*,<br>\n",
    "such as adding a marker directly in the X3D model."
   ]
  },
  {
   "cell_type": "code",
   "execution_count": 48,
   "metadata": {},
   "outputs": [],
   "source": [
    "# variables needed to create markers\n",
    "delta = cube.delta\n",
    "nx, ny, nz = cube.l_cubes[0].shape\n",
    "trans = [2000/nx, 2000/ny, 2000/nz]"
   ]
  },
  {
   "cell_type": "code",
   "execution_count": 49,
   "metadata": {},
   "outputs": [],
   "source": [
    "# coordinates to create markers, in units of the cube.\n",
    "tub = [np.array([[32.4, -10.1, 3850000], [32.6, -10.2, 4050000]]),\n",
    "          np.array([[32.5, -10.3, 3900000], [32.7, -10.4, 4000000], [32.4, -10.2, 4100000]])]\n",
    "sph = [[32.35,-10.15,3820000],[32.45,-10.45,3910000]]\n",
    "box = [[32.4,-10.2,4100000],[32.6,-10.4,3900000]]\n",
    "con = [[32.5,-10.3,3950000],[32.7,-10.1,4050000]]"
   ]
  },
  {
   "cell_type": "code",
   "execution_count": 50,
   "metadata": {},
   "outputs": [],
   "source": [
    "tub = [np.array([[32.465,-10.23,3930000],\n",
    "                 [32.535,-10.27,3925000],\n",
    "                 [32.57,-10.32,3910000],\n",
    "                 [32.573,-10.345,4000000],\n",
    "                 [32.635,-10.362,3990000],\n",
    "                 [32.58,-10.28,4008000],\n",
    "                 [32.545,-10.235,3960000]])]"
   ]
  },
  {
   "cell_type": "code",
   "execution_count": 51,
   "metadata": {},
   "outputs": [],
   "source": [
    "# create markers in the x3d model and close.\n",
    "\n",
    "x3d.make_markers(geom='tube', points=tub, shape=[15], delta=delta,\n",
    "                 trans=trans, color=['1 0 0'], labels=['Tidal tail'])\n",
    "\n",
    "# x3d.make_markers(geom='sphere', points=sph, shape=[50,40], delta=delta,\n",
    "#                  trans=trans, color=['1 0 1','0 1 1'])\n",
    "# x3d.make_markers(geom='box', points=box, shape=[[100,50,50],[40,40,40]], delta=delta,\n",
    "#                  trans=trans, color=['1 1 0','0 0 1'])\n",
    "# x3d.make_markers(geom='cone', points=con, shape=[[60,200],[40,100]], delta=delta,\n",
    "#                  trans=trans, color=['0 1 1','1 1 0'])\n",
    "\n",
    "x3d.close()"
   ]
  },
  {
   "cell_type": "markdown",
   "metadata": {},
   "source": [
    "We also have to define give the coordinates of the markers in the HTML file to be able to interact with them.<br>\n",
    "These are needed in *func_pymarkers()*, *func_buttons()* and *func_scalev()*.\n",
    "\n",
    "Another functionality is adding custom viewpoints to give a better perspective of certain features in the data.<br>\n",
    "This is done by adding points in *viewpoints()* and names in *buttons()*."
   ]
  },
  {
   "cell_type": "code",
   "execution_count": 52,
   "metadata": {},
   "outputs": [],
   "source": [
    "html = writers.WriteHTML('HCG16_manual.html', cube)\n",
    "html.func_layers()\n",
    "html.func_galaxies()\n",
    "html.func_grids()\n",
    "html.func_axes()\n",
    "html.func_animation()\n",
    "html.func_pymarkers(tube=tub) # , sphere=sph, box=box, cone=con\n",
    "html.start_x3d()\n",
    "html.viewpoints(point=[[1,1,1]]) # ,[-2,1,0]\n",
    "html.close_x3d('HCG16_manual.html')\n",
    "html.buttons(tube=tub, viewpoint=['Tidal tail']) # , sphere=sph, box=box, cone=con  , 'HII region'\n",
    "html.func_galsize()\n",
    "html.func_image2d()\n",
    "html.func_move2dimage()\n",
    "html.func_scalev(tube=tub, delta=delta, trans=trans) # , sphere=sph, box=box, cone=con\n",
    "html.func_markers()\n",
    "html.func_background()\n",
    "html.func_colormaps()\n",
    "html.close_html()"
   ]
  },
  {
   "cell_type": "code",
   "execution_count": null,
   "metadata": {},
   "outputs": [],
   "source": []
  },
  {
   "cell_type": "code",
   "execution_count": 6,
   "metadata": {},
   "outputs": [
    {
     "name": "stdout",
     "output_type": "stream",
     "text": [
      "(4300, 52, 58)\n",
      "(5.9531227756441e-05, 5.9555555555555e-05, 0.10999999999999999)\n",
      "[[2.15470951e-02 2.49404672e-02]\n",
      " [4.22059556e-01 4.25096889e-01]\n",
      " [4.56811000e+03 5.04100000e+03]]\n"
     ]
    },
    {
     "name": "stderr",
     "output_type": "stream",
     "text": [
      "WARNING: UnitsWarning: 'erg/cm2/s/A' contains multiple slashes, which is discouraged by the FITS standard [astropy.units.format.generic]\n"
     ]
    }
   ],
   "source": [
    "from spectral_cube import SpectralCube\n",
    "import numpy as np\n",
    "from visl3d import misc\n",
    "from scipy.stats import norm\n",
    "from astropy.coordinates import SkyCoord\n",
    "\n",
    "# Read the fits file and save header\n",
    "data = SpectralCube.read(\"../../flux_MRB_final_rss.fits\")\n",
    "cubehead = data.header\n",
    "nz, ny, nx = data.shape\n",
    "print(data.shape)\n",
    "dra, ddec, dv = cubehead['CDELT1'], cubehead['CDELT2'], cubehead['CDELT3']\n",
    "units = [cubehead['BUNIT'], cubehead['CUNIT1'], cubehead['CUNIT2'], cubehead['CUNIT3']]\n",
    "mags = [\"Intensity\", cubehead['CTYPE1'], cubehead['CTYPE2'], cubehead['CTYPE3']]\n",
    "delta = (np.abs(dra), np.abs(ddec), np.abs(dv))\n",
    "print(delta)\n",
    "\n",
    "# Limits to crop the cube, no HI there. Subtract 1 to wanted number, e.g. nz-1.\n",
    "limx = [0, nx-1]\n",
    "limy = [0, ny-1]\n",
    "limz = [0, nz-1]\n",
    "\n",
    "# Calculate coordinates from limits\n",
    "ralim = data.spatial_coordinate_map[1][0,:][limx][::int(np.sign(cubehead[\"CDELT1\"]))]\n",
    "ramean = np.mean(ralim)\n",
    "declim = data.spatial_coordinate_map[0][:,0][limy][::int(np.sign(cubehead[\"CDELT2\"]))]\n",
    "decmean = np.mean(declim)\n",
    "vlim = data.spectral_axis[limz][::int(np.sign(dv))]\n",
    "vmean = np.mean(vlim).to_value()\n",
    "\n",
    "coords = np.array([ralim, declim, vlim])\n",
    "print(coords)\n",
    "\n",
    "# create cropped array\n",
    "data = data.unmasked_data[limz[0]:limz[1]+1,limy[0]:limy[1]+1,limx[0]:limx[1]+1].to_value()\n",
    "# Slice data, transpose to (ra,dec,v) and flip axes if needed (see if step in FITS header is + or -)\n",
    "data = misc.transpose(data, (dra,ddec,dv))\n",
    "\n",
    "# calculate rms of data from negative values in the cube\n",
    "_, rms = norm.fit(np.hstack([data[data<0].flatten(),-data[data<0].flatten()]))\n",
    "print(rms)\n",
    "\n",
    "# Divide the cube by the RMS\n",
    "data = data/rms\n",
    "units[0] = 'RMS'\n",
    "\n",
    "isolevels = np.array([3, 3.5, 4, 4.5, 5, 6, 7, 8 ,9, 10, 15, 25])\n",
    "\n",
    "galaxies = ['HCG16a','HCG16b', 'HCG16c', 'HCG16d', 'NGC848']\n",
    "trans = (2000/nx, 2000/ny, 2000/nz)\n",
    "galdict = misc.get_galaxies(galaxies, coords, units, cubehead['OBJECT'], delta, trans)\n",
    "\n",
    "color = misc.create_colormap('CMRmap_r', isolevels)"
   ]
  },
  {
   "cell_type": "code",
   "execution_count": 3,
   "metadata": {},
   "outputs": [
    {
     "name": "stdout",
     "output_type": "stream",
     "text": [
      "Warning: BUNIT or BTYPE not in header\n",
      "If the path leads to a local server, the visualisation can be accessed in a web browser with \"localhost/path/from/DocumentRoot/a58_mrb.html\"\n"
     ]
    }
   ],
   "source": [
    "# limx = [0, 58-1]\n",
    "# limy = [0, 52-1]\n",
    "# limz = [3450, 4100-1]\n",
    "\n",
    "a58_mrb = vis.prep_mult(\"../../flux_MRB_final_rss.fits\", spectral_lims=[]])\n",
    "vis.createX3D(a58_mrb, 'a58_mrb.x3d')\n",
    "vis.createHTML(a58_mrb, 'a58_mrb.html')"
   ]
  },
  {
   "cell_type": "code",
   "execution_count": 27,
   "metadata": {},
   "outputs": [
    {
     "data": {
      "image/png": "[encoded data removed]",
      "text/plain": [
       "<Figure size 2000x600 with 2 Axes>"
      ]
     },
     "metadata": {},
     "output_type": "display_data"
    }
   ],
   "source": [
    "\n",
    "fig = plt.figure(figsize=(20,6))\n",
    "plt.imshow(data.unmasked_data[3400:-200,:,25].T.to_value(), )\n",
    "plt.colorbar();"
   ]
  },
  {
   "cell_type": "code",
   "execution_count": 7,
   "metadata": {},
   "outputs": [
    {
     "name": "stdout",
     "output_type": "stream",
     "text": [
      "(4300, 52, 58)\n",
      "(5.9531227756441e-05, 5.9555555555555e-05, 0.09739999999999999)\n",
      "[[2.15470951e-02 2.49404672e-02]\n",
      " [4.22059556e-01 4.25096889e-01]\n",
      " [6.39009740e+03 6.80882000e+03]]\n"
     ]
    },
    {
     "name": "stderr",
     "output_type": "stream",
     "text": [
      "WARNING: UnitsWarning: 'erg/cm2/s/A' contains multiple slashes, which is discouraged by the FITS standard [astropy.units.format.generic]\n"
     ]
    }
   ],
   "source": [
    "from spectral_cube import SpectralCube\n",
    "import numpy as np\n",
    "from visl3d import misc\n",
    "from scipy.stats import norm\n",
    "from astropy.coordinates import SkyCoord\n",
    "import matplotlib.pyplot as plt\n",
    "\n",
    "# Read the fits file and save header\n",
    "data = SpectralCube.read(\"../../flux_HRR_final_rss.fits\")\n",
    "cubehead = data.header\n",
    "nz, ny, nx = data.shape\n",
    "print(data.shape)\n",
    "dra, ddec, dv = cubehead['CDELT1'], cubehead['CDELT2'], cubehead['CDELT3']\n",
    "units = [cubehead['BUNIT'], cubehead['CUNIT1'], cubehead['CUNIT2'], cubehead['CUNIT3']]\n",
    "mags = [\"Intensity\", cubehead['CTYPE1'], cubehead['CTYPE2'], cubehead['CTYPE3']]\n",
    "delta = (np.abs(dra), np.abs(ddec), np.abs(dv))\n",
    "print(delta)\n",
    "\n",
    "# Limits to crop the cube, no HI there. Subtract 1 to wanted number, e.g. nz-1.\n",
    "limx = [0, nx-1]\n",
    "limy = [0, ny-1]\n",
    "limz = [0, nz-1]\n",
    "\n",
    "# Calculate coordinates from limits\n",
    "ralim = data.spatial_coordinate_map[1][0,:][limx][::int(np.sign(cubehead[\"CDELT1\"]))]\n",
    "ramean = np.mean(ralim)\n",
    "declim = data.spatial_coordinate_map[0][:,0][limy][::int(np.sign(cubehead[\"CDELT2\"]))]\n",
    "decmean = np.mean(declim)\n",
    "vlim = data.spectral_axis[limz][::int(np.sign(dv))]\n",
    "vmean = np.mean(vlim).to_value()\n",
    "\n",
    "coords = np.array([ralim, declim, vlim])\n",
    "print(coords)"
   ]
  },
  {
   "cell_type": "code",
   "execution_count": 4,
   "metadata": {},
   "outputs": [
    {
     "name": "stdout",
     "output_type": "stream",
     "text": [
      "aaaa\n",
      "Warning: BUNIT or BTYPE not in header\n"
     ]
    }
   ],
   "source": [
    "spectral_lims = [[6542.00*u.angstrom,6552.00*u.angstrom],\n",
    "                 [6557.05*u.angstrom,6567.05*u.angstrom],\n",
    "                 [6572.45*u.angstrom,6588.45*u.angstrom]]\n",
    "\n",
    "isolevels_p = [20,35,50,65,80]\n",
    "isolevels = [isolevels_p, isolevels_p, isolevels_p]\n",
    "a58_hrr = vis.prep_mult(\"../../flux_HRR_final_rss_corr.fits\", spectral_lims=spectral_lims, unit='percent',\n",
    "                        l_isolevels=isolevels, lines=['NII_1', 'Halpha', 'NII_2'])"
   ]
  },
  {
   "cell_type": "code",
   "execution_count": 5,
   "metadata": {},
   "outputs": [
    {
     "data": {
      "text/plain": [
       "array([[ 131.71604324,  131.72276546],\n",
       "       [  17.87639685,   17.88239685],\n",
       "       [4567.89      , 5040.89      ]])"
      ]
     },
     "execution_count": 5,
     "metadata": {},
     "output_type": "execute_result"
    }
   ],
   "source": [
    "ncu.coords"
   ]
  },
  {
   "cell_type": "code",
   "execution_count": 10,
   "metadata": {},
   "outputs": [
    {
     "name": "stdout",
     "output_type": "stream",
     "text": [
      "Warning: BUNIT or BTYPE not in header\n"
     ]
    },
    {
     "name": "stderr",
     "output_type": "stream",
     "text": [
      "WARNING: InputWarning: Coordinate string is being interpreted as an ICRS coordinate. [astroquery.utils.commons]\n"
     ]
    },
    {
     "name": "stdout",
     "output_type": "stream",
     "text": [
      "If the path leads to a local server, the visualisation can be accessed in a web browser with \"localhost/path/from/DocumentRoot/test_a30.html\"\n"
     ]
    }
   ],
   "source": [
    "from visl3d import visual as vis\n",
    "import astropy.units as u\n",
    "\n",
    "\n",
    "lims = [[131.71604324*u.deg, 131.72276546*u.deg],\n",
    "        [17.87639685*u.deg, 17.88239685*u.deg],\n",
    "        [5000*u.Angstrom, 5012*u.Angstrom]]\n",
    "\n",
    "ncu = vis.prep_one(\"D:\\hypercube_mrb_a30.fits\", unit='percent', lims=lims, isolevels=[2,5,10,15], image2d='DSS2 Blue')\n",
    "\n",
    "vis.createX3D(ncu, 'test_a30.x3d')\n",
    "vis.createHTML(ncu, 'test_a30.html')\n"
   ]
  },
  {
   "cell_type": "code",
   "execution_count": 1,
   "metadata": {},
   "outputs": [
    {
     "data": {
      "text/plain": [
       "(4300, 52, 58)"
      ]
     },
     "execution_count": 1,
     "metadata": {},
     "output_type": "execute_result"
    }
   ],
   "source": [
    "from spectral_cube import SpectralCube\n",
    "import numpy as np\n",
    "from visl3d import visual as vis\n",
    "import astropy.units as u\n",
    "mask1 = SpectralCube.read('C:\\\\Users\\\\ixaka\\\\Documents\\\\Optical-Montoro\\\\flux_HRR_final_rss-mask.fits')\n",
    "mask1.shape"
   ]
  },
  {
   "cell_type": "code",
   "execution_count": 2,
   "metadata": {},
   "outputs": [
    {
     "name": "stderr",
     "output_type": "stream",
     "text": [
      "WARNING: UnitsWarning: 'erg/cm2/s/A' contains multiple slashes, which is discouraged by the FITS standard [astropy.units.format.generic]\n"
     ]
    }
   ],
   "source": [
    "data1 = SpectralCube.read(\"../../flux_HRR_final_rss_corr.fits\")\n",
    "head1 = data1.header"
   ]
  },
  {
   "cell_type": "code",
   "execution_count": 3,
   "metadata": {},
   "outputs": [
    {
     "name": "stdout",
     "output_type": "stream",
     "text": [
      "Warning: BUNIT or BTYPE not in header\n",
      "If the path leads to a local server, the visualisation can be accessed in a web browser with \"localhost/path/from/DocumentRoot/a58_hrr.html\"\n"
     ]
    }
   ],
   "source": [
    "data1 = data1.unmasked_data[:] * mask1.unmasked_data[:]/np.max(mask1.unmasked_data[:])\n",
    "data1.shape\n",
    "\n",
    "# limx = [0, 58-1]\n",
    "# limy = [0, 52-1]\n",
    "# limz = [1520, 2100-1]\n",
    "\n",
    "spectral_lims = [[6542.00*u.angstrom,6552.00*u.angstrom],\n",
    "                 [6557.05*u.angstrom,6567.05*u.angstrom],\n",
    "                 [6572.45*u.angstrom,6588.45*u.angstrom]]\n",
    "\n",
    "isolevels_p = [20,35,50,65,80]\n",
    "isolevels = [isolevels_p, isolevels_p, isolevels_p]\n",
    "\n",
    "a58_hrr = vis.prep_mult(data1, header=head1, spectral_lims=spectral_lims, unit='percent',\n",
    "                        l_isolevels=isolevels, lines=['NII_1', 'Halpha', 'NII_2'])\n",
    "vis.createX3D(a58_hrr, 'a58_hrr.x3d')\n",
    "vis.createHTML(a58_hrr, 'a58_hrr.html')"
   ]
  },
  {
   "cell_type": "code",
   "execution_count": 3,
   "metadata": {},
   "outputs": [
    {
     "data": {
      "text/plain": [
       "(682, 52, 58)"
      ]
     },
     "execution_count": 3,
     "metadata": {},
     "output_type": "execute_result"
    }
   ],
   "source": [
    "from spectral_cube import SpectralCube\n",
    "mask2 = SpectralCube.read('C:\\\\Users\\\\ixaka\\\\Documents\\\\Optical-Montoro\\\\flux_MRB_final_rss_subCube-mask_copy.fits')\n",
    "mask2.shape"
   ]
  },
  {
   "cell_type": "code",
   "execution_count": 4,
   "metadata": {},
   "outputs": [
    {
     "name": "stderr",
     "output_type": "stream",
     "text": [
      "WARNING: UnitsWarning: 'erg/cm2/s/A' contains multiple slashes, which is discouraged by the FITS standard [astropy.units.format.generic]\n"
     ]
    },
    {
     "data": {
      "text/plain": [
       "(682, 52, 58)"
      ]
     },
     "execution_count": 4,
     "metadata": {},
     "output_type": "execute_result"
    }
   ],
   "source": [
    "data2 = SpectralCube.read(\"../../flux_MRB_final_rss_subCube.fits\") # OIII\n",
    "head2 = data2.header\n",
    "data2.shape"
   ]
  },
  {
   "cell_type": "code",
   "execution_count": 5,
   "metadata": {},
   "outputs": [],
   "source": [
    "from visl3d import misc\n",
    "\n",
    "oiii = 5006.843 #OIII 1\n",
    "oiii = misc.find_nearest(data2.spectral_axis, oiii)\n",
    "nii = 6583.45 #NII 2\n",
    "nii = misc.find_nearest(data1.spectral_axis, nii)\n",
    "ha = 6562.05 #Halpha\n",
    "ha = misc.find_nearest(data1.spectral_axis, ha)"
   ]
  },
  {
   "cell_type": "code",
   "execution_count": 6,
   "metadata": {},
   "outputs": [
    {
     "name": "stdout",
     "output_type": "stream",
     "text": [
      "COORDS =  [[2.15470951e-02 2.49404672e-02]\n",
      " [4.22059556e-01 4.25096889e-01]\n",
      " [6.39009740e+03 6.80882000e+03]]\n",
      "DELTA =  [-5.95312278e-05  5.95555556e-05  1.03700000e-01]\n"
     ]
    }
   ],
   "source": [
    "coords = [[data1.spatial_coordinate_map[1][0,:][0].value, data1.spatial_coordinate_map[1][0,:][-1].value],\n",
    "          [data1.spatial_coordinate_map[0][:,0][0].value, data1.spatial_coordinate_map[0][:,0][-1].value],\n",
    "          [data1.spectral_axis[0].value, data1.spectral_axis[-1].value]]\n",
    "coords = np.sort(coords)\n",
    "print('COORDS = ',coords)\n",
    "delta = np.array([np.mean([head1['CDELT1'], head2['CDELT1']]),\n",
    "                  np.mean([head1['CDELT2'], head2['CDELT2']]),\n",
    "                  np.mean([head1['CDELT3'], head2['CDELT3']])])\n",
    "print('DELTA = ',delta)"
   ]
  },
  {
   "cell_type": "code",
   "execution_count": 7,
   "metadata": {},
   "outputs": [
    {
     "data": {
      "text/plain": [
       "(4300, 52, 58)"
      ]
     },
     "execution_count": 7,
     "metadata": {},
     "output_type": "execute_result"
    }
   ],
   "source": [
    "data1 = data1.unmasked_data[:] * mask1.unmasked_data[:]/np.max(mask1.unmasked_data[:])\n",
    "data1.shape"
   ]
  },
  {
   "cell_type": "code",
   "execution_count": 8,
   "metadata": {},
   "outputs": [
    {
     "data": {
      "text/plain": [
       "(682, 52, 58)"
      ]
     },
     "execution_count": 8,
     "metadata": {},
     "output_type": "execute_result"
    }
   ],
   "source": [
    "data2 = data2.unmasked_data[:] * mask2.unmasked_data[:]/np.max(mask2.unmasked_data[:])\n",
    "data2.shape"
   ]
  },
  {
   "cell_type": "code",
   "execution_count": 9,
   "metadata": {},
   "outputs": [
    {
     "data": {
      "text/plain": [
       "((100, 52, 58), (100, 52, 58), (100, 52, 58))"
      ]
     },
     "execution_count": 9,
     "metadata": {},
     "output_type": "execute_result"
    }
   ],
   "source": [
    "hw = 50\n",
    "\n",
    "data_oiii = data2[oiii[1]-hw:oiii[1]+hw].to_value()\n",
    "data_nii = data1[nii[1]-hw:nii[1]+hw].to_value()\n",
    "data_ha = data1[ha[1]-hw:ha[1]+hw].to_value()\n",
    "data_oiii.shape, data_nii.shape, data_ha.shape"
   ]
  },
  {
   "cell_type": "code",
   "execution_count": 10,
   "metadata": {},
   "outputs": [],
   "source": [
    "data_oiii = data_oiii/np.max(data_oiii) * 100\n",
    "data_nii = data_nii/np.max(data_nii) * 100\n",
    "data_ha = data_ha/np.max(data_ha) * 100"
   ]
  },
  {
   "cell_type": "code",
   "execution_count": 11,
   "metadata": {},
   "outputs": [],
   "source": [
    "# # because the mask is for the full cube and we upload only the subcube, we need to cut the mask\n",
    "import numpy as np\n",
    "minl = np.where(np.abs(mask2.spectral_axis-6542*u.angstrom) == np.min(np.abs(mask2.spectral_axis-6542*u.angstrom)))[0][0]\n",
    "maxl = np.where(np.abs(mask2.spectral_axis-6588.45*u.angstrom) == np.min(np.abs(mask2.spectral_axis-6588.45*u.angstrom)))[0][0]\n",
    "mask2 = mask2.unmasked_data[minl:maxl+1]"
   ]
  },
  {
   "cell_type": "code",
   "execution_count": 12,
   "metadata": {},
   "outputs": [],
   "source": [
    "data_oiii = misc.transpose(data_oiii, (head2['CDELT1'], head2['CDELT2'], head2['CDELT3']))\n",
    "data_nii = misc.transpose(data_nii, delta)\n",
    "data_ha = misc.transpose(data_ha, delta)"
   ]
  },
  {
   "cell_type": "code",
   "execution_count": 14,
   "metadata": {},
   "outputs": [],
   "source": [
    "data = [data_oiii, data_nii, data_ha]\n",
    "isolevels_p = [20,35,50,65,80]\n",
    "isolevels = [isolevels_p, isolevels_p, isolevels_p]\n",
    "mags=['Intensity', 'RA', 'DEC', 'WAVELENGTH']\n",
    "# l_colors = [misc.create_colormap('Blues', isolevels[0], start=70), misc.create_colormap('Reds', isolevels[1], start=70),\n",
    "#             misc.create_colormap('Greens', isolevels[2], start=70)]\n",
    "\n",
    "shifts = np.array([[0,0,0],[0.8895*delta[0], 1.8222*delta[1], 0],[0.8895*delta[0], 1.8222*delta[1], 0]])\n",
    "shifts = np.array([[0,0,0],[-0.8895, 1.8222, 0],[-0.8895, 1.8222, 0]])\n",
    "\n",
    "a58_over = vis.Cube(l_cubes=data, name='3D Interactive Visualisation: A58_1.1', coords=coords,\n",
    "                    l_isolevels=isolevels, cmaps=['Blues', 'Reds', 'Greens'],\n",
    "                    units=['%', 'deg', 'deg', 'Angstrom'], mags=mags, delta=delta,\n",
    "                    lines=['OIII', 'NII', 'Halpha'])"
   ]
  },
  {
   "cell_type": "code",
   "execution_count": 15,
   "metadata": {},
   "outputs": [
    {
     "name": "stdout",
     "output_type": "stream",
     "text": [
      "[[23.969    22.       42.      ]\n",
      " [24.       22.       41.878166]\n",
      " [24.       21.940214 42.      ]\n",
      " ...\n",
      " [35.203175 26.       51.      ]\n",
      " [35.097267 26.       52.      ]\n",
      " [35.003574 26.       53.      ]]\n",
      "[0. 0. 0.]\n",
      "[[24.99752  22.       45.      ]\n",
      " [25.       22.       44.966175]\n",
      " [25.       21.99561  45.      ]\n",
      " ...\n",
      " [34.02067  26.       47.      ]\n",
      " [34.032    26.       48.      ]\n",
      " [34.00616  26.       49.      ]]\n",
      "[0. 0. 0.]\n",
      "[[25.981237 22.       47.      ]\n",
      " [26.       22.       46.70323 ]\n",
      " [26.       21.971142 47.      ]\n",
      " ...\n",
      " [33.036144 26.       47.      ]\n",
      " [33.05068  26.       48.      ]\n",
      " [33.00915  26.       49.      ]]\n",
      "[0. 0. 0.]\n",
      "[[26.954887 23.       42.      ]\n",
      " [27.       23.       41.865448]\n",
      " [27.       22.92596  42.      ]\n",
      " ...\n",
      " [32.068783 26.       47.      ]\n",
      " [32.092007 26.       48.      ]\n",
      " [32.025433 26.       49.      ]]\n",
      "[0. 0. 0.]\n",
      "[[27.801165 23.       43.      ]\n",
      " [28.       23.       42.556717]\n",
      " [28.       22.783419 43.      ]\n",
      " [28.       22.494467 44.      ]\n",
      " [27.555592 23.       44.      ]\n",
      " [28.       22.402145 45.      ]\n",
      " [27.471643 23.       45.      ]\n",
      " [28.       22.482998 46.      ]\n",
      " [27.547852 23.       46.      ]\n",
      " [28.       22.346222 47.      ]\n",
      " [27.450796 23.       47.      ]\n",
      " [28.       22.337334 48.      ]\n",
      " [27.441235 23.       48.      ]\n",
      " [28.       22.439583 49.      ]\n",
      " [27.519377 23.       49.      ]\n",
      " [28.       22.837141 50.      ]\n",
      " [27.867804 23.       50.      ]\n",
      " [28.       23.       50.40855 ]\n",
      " [27.84843  24.       42.      ]\n",
      " [28.       24.       41.742332]\n",
      " [28.       23.624434 42.      ]\n",
      " [27.399635 24.       43.      ]\n",
      " [27.183353 24.       44.      ]\n",
      " [27.102272 24.       45.      ]\n",
      " [27.172976 24.       46.      ]\n",
      " [27.115501 24.       47.      ]\n",
      " [27.112972 24.       48.      ]\n",
      " [27.19554  24.       49.      ]\n",
      " [27.54483  24.       50.      ]\n",
      " [28.       23.538807 51.      ]\n",
      " [27.8361   24.       51.      ]\n",
      " [28.       24.       51.375256]\n",
      " [28.       24.924458 42.      ]\n",
      " [27.515928 25.       43.      ]\n",
      " [28.       25.       42.0241  ]\n",
      " [27.282358 25.       44.      ]\n",
      " [27.208368 25.       45.      ]\n",
      " [27.272877 25.       46.      ]\n",
      " [27.244444 25.       47.      ]\n",
      " [27.24806  25.       48.      ]\n",
      " [27.352085 25.       49.      ]\n",
      " [27.703074 25.       50.      ]\n",
      " [27.985884 25.       51.      ]\n",
      " [28.       25.       51.03479 ]\n",
      " [28.       25.729986 43.      ]\n",
      " [27.891819 26.       44.      ]\n",
      " [28.       26.       43.628742]\n",
      " [27.826956 26.       45.      ]\n",
      " [27.899405 26.       46.      ]\n",
      " [27.891405 26.       47.      ]\n",
      " [27.885763 26.       48.      ]\n",
      " [28.       26.       48.86339 ]\n",
      " [28.       25.974724 49.      ]\n",
      " [28.       25.46505  50.      ]\n",
      " [28.       25.022373 51.      ]\n",
      " [28.       26.09845  44.      ]\n",
      " [28.       26.15539  45.      ]\n",
      " [28.       26.088556 46.      ]\n",
      " [28.       26.095013 47.      ]\n",
      " [28.       26.102213 48.      ]\n",
      " [28.929823 22.       44.      ]\n",
      " [29.       22.       43.88684 ]\n",
      " [29.       21.97373  44.      ]\n",
      " [29.       21.91611  45.      ]\n",
      " [28.772053 22.       45.      ]\n",
      " [29.       21.965248 46.      ]\n",
      " [28.907518 22.       46.      ]\n",
      " [29.       21.861197 47.      ]\n",
      " [28.632616 22.       47.      ]\n",
      " [29.       21.858284 48.      ]\n",
      " [28.6222   22.       48.      ]\n",
      " [29.       21.949999 49.      ]\n",
      " [28.856907 22.       49.      ]\n",
      " [29.       22.       49.22861 ]\n",
      " [28.521423 23.       42.      ]\n",
      " [29.       23.       41.613327]\n",
      " [29.       22.751047 42.      ]\n",
      " [29.       22.287088 43.      ]\n",
      " [29.       22.249266 50.      ]\n",
      " [29.       22.648266 51.      ]\n",
      " [28.383892 23.       51.      ]\n",
      " [29.       23.       51.651196]\n",
      " [29.       24.       41.06299 ]\n",
      " [29.       23.410402 52.      ]\n",
      " [28.535723 24.       52.      ]\n",
      " [29.       24.       52.452343]\n",
      " [28.026453 25.       42.      ]\n",
      " [29.       25.       41.376064]\n",
      " [28.754698 25.       52.      ]\n",
      " [29.       25.       52.26499 ]\n",
      " [29.       25.594816 42.      ]\n",
      " [28.418945 26.       43.      ]\n",
      " [29.       26.       42.546867]\n",
      " [28.035742 26.       49.      ]\n",
      " [28.693157 26.       50.      ]\n",
      " [29.       26.       50.595497]\n",
      " [29.       25.841745 51.      ]\n",
      " [29.       25.211323 52.      ]\n",
      " [29.       26.218426 43.      ]\n",
      " [29.       26.52193  44.      ]\n",
      " [29.       26.575302 45.      ]\n",
      " [29.       26.498116 46.      ]\n",
      " [29.       26.49748  47.      ]\n",
      " [29.       26.526129 48.      ]\n",
      " [29.       26.411419 49.      ]\n",
      " [29.       26.140087 50.      ]\n",
      " [29.898815 22.       44.      ]\n",
      " [30.       22.       44.062508]\n",
      " [30.       21.95524  45.      ]\n",
      " [30.       21.989786 46.      ]\n",
      " [30.       21.898558 47.      ]\n",
      " [30.       21.900085 48.      ]\n",
      " [29.95043  22.       49.      ]\n",
      " [30.       22.       48.974983]\n",
      " [30.       23.       41.780647]\n",
      " [30.       22.843445 42.      ]\n",
      " [30.       22.37057  43.      ]\n",
      " [30.       22.003881 44.      ]\n",
      " [30.       22.003473 49.      ]\n",
      " [30.       22.291105 50.      ]\n",
      " [30.       22.68556  51.      ]\n",
      " [30.       23.       51.590057]\n",
      " [30.       24.       41.2733  ]\n",
      " [30.       23.459835 52.      ]\n",
      " [30.       24.       52.44072 ]\n",
      " [30.       25.       41.56637 ]\n",
      " [30.       25.       52.28968 ]\n",
      " [30.       25.442495 42.      ]\n",
      " [30.       26.       42.75342 ]\n",
      " [30.       25.840849 51.      ]\n",
      " [30.       26.       50.56894 ]\n",
      " [30.       25.222511 52.      ]\n",
      " [30.       26.119452 43.      ]\n",
      " [30.       26.46157  44.      ]\n",
      " [30.       26.523811 45.      ]\n",
      " [30.       26.441349 46.      ]\n",
      " [30.       26.436499 47.      ]\n",
      " [30.       26.476673 48.      ]\n",
      " [30.       26.363085 49.      ]\n",
      " [30.       26.1257   50.      ]\n",
      " [30.102262 22.       45.      ]\n",
      " [30.024391 22.       46.      ]\n",
      " [30.231718 22.       47.      ]\n",
      " [30.223648 22.       48.      ]\n",
      " [30.224958 23.       42.      ]\n",
      " [30.940037 23.       43.      ]\n",
      " [31.       23.       43.09596 ]\n",
      " [31.       22.613632 44.      ]\n",
      " [31.       22.559595 45.      ]\n",
      " [31.       22.58023  46.      ]\n",
      " [31.       22.486063 47.      ]\n",
      " [31.       22.49383  48.      ]\n",
      " [31.       22.637774 49.      ]\n",
      " [31.       22.927368 50.      ]\n",
      " [30.51564  23.       51.      ]\n",
      " [31.       23.       50.19191 ]\n",
      " [30.807108 24.       42.      ]\n",
      " [31.       24.       42.25821 ]\n",
      " [31.       23.095366 43.      ]\n",
      " [31.       23.639896 51.      ]\n",
      " [30.436666 24.       52.      ]\n",
      " [31.       24.       51.33426 ]\n",
      " [30.508663 25.       42.      ]\n",
      " [31.       25.       42.614983]\n",
      " [30.26078  25.       52.      ]\n",
      " [31.       25.       51.05351 ]\n",
      " [30.21794  26.       43.      ]\n",
      " [31.       25.290125 43.      ]\n",
      " [30.870659 26.       44.      ]\n",
      " [31.       25.885998 44.      ]\n",
      " [30.995007 26.       45.      ]\n",
      " [31.       25.995573 45.      ]\n",
      " [30.863617 26.       46.      ]\n",
      " [31.       25.88443  46.      ]\n",
      " [30.855457 26.       47.      ]\n",
      " [31.       25.880579 47.      ]\n",
      " [30.930458 26.       48.      ]\n",
      " [31.       25.941465 48.      ]\n",
      " [30.717192 26.       49.      ]\n",
      " [31.       25.76489  49.      ]\n",
      " [30.261965 26.       50.      ]\n",
      " [31.       25.41925  50.      ]\n",
      " [31.       25.0333   51.      ]\n",
      " [31.320787 23.       44.      ]\n",
      " [31.363476 23.       45.      ]\n",
      " [31.351948 23.       46.      ]\n",
      " [31.417715 23.       47.      ]\n",
      " [31.411804 23.       48.      ]\n",
      " [31.297482 23.       49.      ]\n",
      " [31.060152 23.       50.      ]\n",
      " [31.32262  24.       43.      ]\n",
      " [31.665934 24.       44.      ]\n",
      " [31.711384 24.       45.      ]\n",
      " [31.695292 24.       46.      ]\n",
      " [31.732847 24.       47.      ]\n",
      " [31.739527 24.       48.      ]\n",
      " [31.632616 24.       49.      ]\n",
      " [31.417452 24.       50.      ]\n",
      " [31.14477  24.       51.      ]\n",
      " [31.179749 25.       43.      ]\n",
      " [31.540247 25.       44.      ]\n",
      " [31.597288 25.       45.      ]\n",
      " [31.558456 25.       46.      ]\n",
      " [31.573183 25.       47.      ]\n",
      " [31.597666 25.       48.      ]\n",
      " [31.487808 25.       49.      ]\n",
      " [31.270805 25.       50.      ]\n",
      " [31.021143 25.       51.      ]]\n",
      "[0. 0. 0.]\n",
      "[[22.898798 21.       61.      ]\n",
      " [23.       21.       60.909065]\n",
      " [23.       20.64706  61.      ]\n",
      " ...\n",
      " [37.637314 23.       62.      ]\n",
      " [37.092743 24.       61.      ]\n",
      " [37.285904 24.       62.      ]]\n",
      "[-0.8895  1.8222  0.    ]\n",
      "[[24.943472 21.       61.      ]\n",
      " [25.       21.       60.90324 ]\n",
      " [25.       20.839458 61.      ]\n",
      " ...\n",
      " [35.088318 23.       43.      ]\n",
      " [35.092533 23.       62.      ]\n",
      " [35.002075 24.       40.      ]]\n",
      "[-0.8895  1.8222  0.    ]\n",
      "[[26.997593 21.       43.      ]\n",
      " [27.       21.       42.987045]\n",
      " [27.       20.995861 43.      ]\n",
      " ...\n",
      " [34.301373 23.       42.      ]\n",
      " [34.23324  23.       43.      ]\n",
      " [34.11029  24.       40.      ]]\n",
      "[-0.8895  1.8222  0.    ]\n",
      "[[27.979647 21.       43.      ]\n",
      " [28.       21.       42.8618  ]\n",
      " [28.       20.971525 43.      ]\n",
      " ...\n",
      " [33.262512 24.       40.      ]\n",
      " [33.140373 24.       41.      ]\n",
      " [33.136467 24.       42.      ]]\n",
      "[-0.8895  1.8222  0.    ]\n",
      "[[28.74691  22.       39.      ]\n",
      " [29.       22.       38.522335]\n",
      " [29.       21.57766  39.      ]\n",
      " [29.       21.347185 40.      ]\n",
      " [28.61856  22.       40.      ]\n",
      " [29.       21.427582 41.      ]\n",
      " [28.65649  22.       41.      ]\n",
      " [29.       21.31177  42.      ]\n",
      " [28.603588 22.       42.      ]\n",
      " [29.       21.177788 43.      ]\n",
      " [28.562443 22.       43.      ]\n",
      " [29.       21.34645  44.      ]\n",
      " [28.696459 22.       44.      ]\n",
      " [29.       21.177078 45.      ]\n",
      " [28.607388 22.       45.      ]\n",
      " [29.       21.030796 46.      ]\n",
      " [28.596338 22.       46.      ]\n",
      " [29.       21.58777  47.      ]\n",
      " [28.863394 22.       47.      ]\n",
      " [29.       22.       47.899326]\n",
      " [28.981798 22.       49.      ]\n",
      " [29.       22.       48.510807]\n",
      " [29.       21.954351 49.      ]\n",
      " [29.       21.807093 50.      ]\n",
      " [28.910162 22.       50.      ]\n",
      " [29.       22.       50.311516]\n",
      " [28.588179 23.       39.      ]\n",
      " [29.       23.       38.245903]\n",
      " [28.446764 23.       40.      ]\n",
      " [28.482244 23.       41.      ]\n",
      " [28.475458 23.       42.      ]\n",
      " [28.513098 23.       43.      ]\n",
      " [28.71447  23.       44.      ]\n",
      " [28.633713 23.       45.      ]\n",
      " [28.6997   23.       46.      ]\n",
      " [29.       23.       46.878246]\n",
      " [29.       22.770758 47.      ]\n",
      " [29.       22.067871 49.      ]\n",
      " [29.       22.39761  50.      ]\n",
      " [28.907238 24.       39.      ]\n",
      " [29.       24.       38.838215]\n",
      " [28.722008 24.       40.      ]\n",
      " [28.758114 24.       41.      ]\n",
      " [28.82043  24.       42.      ]\n",
      " [28.9728   24.       43.      ]\n",
      " [29.       24.       43.10187 ]\n",
      " [29.       23.546152 44.      ]\n",
      " [29.       23.622742 45.      ]\n",
      " [29.       23.473612 46.      ]\n",
      " [29.       24.114119 39.      ]\n",
      " [29.       24.359589 40.      ]\n",
      " [29.       24.30961  41.      ]\n",
      " [29.       24.212257 42.      ]\n",
      " [29.       24.028564 43.      ]\n",
      " [29.600563 21.       39.      ]\n",
      " [30.       21.       38.558285]\n",
      " [30.       20.771214 39.      ]\n",
      " [30.       20.589148 40.      ]\n",
      " [29.341127 21.       40.      ]\n",
      " [30.       20.659142 41.      ]\n",
      " [29.435995 21.       41.      ]\n",
      " [30.       20.587852 42.      ]\n",
      " [29.30666  21.       42.      ]\n",
      " [30.       20.51811  43.      ]\n",
      " [29.16486  21.       43.      ]\n",
      " [30.       20.597065 44.      ]\n",
      " [29.297733 21.       44.      ]\n",
      " [30.       20.535456 45.      ]\n",
      " [29.159174 21.       45.      ]\n",
      " [30.       20.4399   46.      ]\n",
      " [29.024126 21.       46.      ]\n",
      " [30.       20.575361 47.      ]\n",
      " [29.348475 21.       47.      ]\n",
      " [30.       20.843414 48.      ]\n",
      " [29.718245 21.       48.      ]\n",
      " [30.       20.930553 49.      ]\n",
      " [29.844296 21.       49.      ]\n",
      " [30.       20.963472 50.      ]\n",
      " [29.903166 21.       50.      ]\n",
      " [30.       21.       50.123173]\n",
      " [29.484211 22.       38.      ]\n",
      " [30.       22.       37.374077]\n",
      " [30.       21.496746 38.      ]\n",
      " [29.031925 22.       48.      ]\n",
      " [30.       21.64855  51.      ]\n",
      " [29.560862 22.       51.      ]\n",
      " [30.       22.       51.214016]\n",
      " [29.244253 23.       38.      ]\n",
      " [30.       23.       37.074432]\n",
      " [29.076355 23.       47.      ]\n",
      " [29.480247 23.       48.      ]\n",
      " [29.63154  23.       49.      ]\n",
      " [29.345    23.       50.      ]\n",
      " [30.       23.       50.72267 ]\n",
      " [30.       22.610546 51.      ]\n",
      " [29.929102 24.       38.      ]\n",
      " [30.       24.       37.919804]\n",
      " [29.571884 24.       44.      ]\n",
      " [29.577509 24.       45.      ]\n",
      " [29.778082 24.       46.      ]\n",
      " [30.       24.       46.284996]\n",
      " [30.       23.678322 47.      ]\n",
      " [30.       23.31131  48.      ]\n",
      " [30.       23.157331 49.      ]\n",
      " [30.       23.283361 50.      ]\n",
      " [30.       24.042273 38.      ]\n",
      " [30.       24.71407  39.      ]\n",
      " [30.       24.95427  40.      ]\n",
      " [30.       24.864496 41.      ]\n",
      " [30.       24.76964  42.      ]\n",
      " [30.       24.53368  43.      ]\n",
      " [30.       24.172684 44.      ]\n",
      " [30.       24.145712 45.      ]\n",
      " [30.       24.085106 46.      ]\n",
      " [31.       21.       38.398914]\n",
      " [31.       20.695267 39.      ]\n",
      " [31.       20.474075 40.      ]\n",
      " [31.       20.544392 41.      ]\n",
      " [31.       20.487022 42.      ]\n",
      " [31.       20.445734 43.      ]\n",
      " [31.       20.586899 44.      ]\n",
      " [31.       20.557705 45.      ]\n",
      " [31.       20.43949  46.      ]\n",
      " [31.       20.55897  47.      ]\n",
      " [31.       20.908653 48.      ]\n",
      " [30.415854 21.       49.      ]\n",
      " [31.       21.       48.489452]\n",
      " [30.200256 21.       50.      ]\n",
      " [31.       22.       37.25075 ]\n",
      " [31.       21.357094 38.      ]\n",
      " [31.       21.285564 49.      ]\n",
      " [31.       21.368484 50.      ]\n",
      " [30.530787 22.       51.      ]\n",
      " [31.       22.       50.667446]\n",
      " [31.       23.       37.012913]\n",
      " [30.594023 23.       49.      ]\n",
      " [31.       22.712172 49.      ]\n",
      " [31.       23.       48.65993 ]\n",
      " [30.977003 23.       50.      ]\n",
      " [31.       22.978424 50.      ]\n",
      " [31.       24.       37.92959 ]\n",
      " [30.816343 24.       45.      ]\n",
      " [31.       23.949865 45.      ]\n",
      " [31.       24.       44.363293]\n",
      " [30.733202 24.       46.      ]\n",
      " [31.       23.954123 46.      ]\n",
      " [31.       23.624243 47.      ]\n",
      " [31.       23.205425 48.      ]\n",
      " [31.       24.035395 38.      ]\n",
      " [31.       24.67831  39.      ]\n",
      " [31.       24.918974 40.      ]\n",
      " [31.       24.779722 41.      ]\n",
      " [31.       24.727772 42.      ]\n",
      " [31.       24.479391 43.      ]\n",
      " [31.       24.018925 44.      ]\n",
      " [31.678158 21.       39.      ]\n",
      " [32.       21.       39.576675]\n",
      " [32.       20.887426 40.      ]\n",
      " [32.       20.957167 41.      ]\n",
      " [32.       20.89361  42.      ]\n",
      " [32.       20.89991  43.      ]\n",
      " [31.684938 21.       44.      ]\n",
      " [32.       21.       43.362633]\n",
      " [31.67842  21.       45.      ]\n",
      " [31.90054  21.       46.      ]\n",
      " [31.691668 21.       47.      ]\n",
      " [31.130663 21.       48.      ]\n",
      " [31.815056 22.       38.      ]\n",
      " [32.       22.       38.166603]\n",
      " [32.       21.259222 39.      ]\n",
      " [32.       21.492052 44.      ]\n",
      " [32.       21.594038 45.      ]\n",
      " [32.       21.175524 46.      ]\n",
      " [32.       21.567106 47.      ]\n",
      " [32.       22.       47.384865]\n",
      " [31.661774 22.       48.      ]\n",
      " [31.293362 22.       49.      ]\n",
      " [31.319435 22.       50.      ]\n",
      " [31.939766 23.       38.      ]\n",
      " [32.       23.       38.05636 ]\n",
      " [31.905342 23.       45.      ]\n",
      " [32.       22.658865 45.      ]\n",
      " [32.       23.       44.041924]\n",
      " [32.       23.       45.64235 ]\n",
      " [31.797094 23.       47.      ]\n",
      " [32.       22.518677 47.      ]\n",
      " [32.       23.       46.241634]\n",
      " [31.25776  23.       48.      ]\n",
      " [31.060373 24.       38.      ]\n",
      " [32.       24.       38.898624]\n",
      " [31.863462 24.       43.      ]\n",
      " [32.       23.871437 43.      ]\n",
      " [32.       24.       42.680817]\n",
      " [31.029026 24.       44.      ]\n",
      " [32.       23.00452  44.      ]\n",
      " [32.       23.053862 46.      ]\n",
      " [32.       24.061968 39.      ]\n",
      " [32.       24.344898 40.      ]\n",
      " [32.       24.176855 41.      ]\n",
      " [32.       24.165297 42.      ]\n",
      " [32.118755 21.       40.      ]\n",
      " [32.04547  21.       41.      ]\n",
      " [32.114655 21.       42.      ]\n",
      " [32.100533 21.       43.      ]\n",
      " [32.418644 22.       39.      ]\n",
      " [32.6777   22.       40.      ]\n",
      " [32.608032 22.       41.      ]\n",
      " [32.66037  22.       42.      ]\n",
      " [32.573357 22.       43.      ]\n",
      " [32.164856 22.       44.      ]\n",
      " [32.116665 22.       45.      ]\n",
      " [32.24163  22.       46.      ]\n",
      " [32.120827 22.       47.      ]\n",
      " [32.473316 23.       39.      ]\n",
      " [32.728443 23.       40.      ]\n",
      " [32.630363 23.       41.      ]\n",
      " [32.65558  23.       42.      ]\n",
      " [32.499046 23.       43.      ]\n",
      " [32.00267  23.       44.      ]\n",
      " [32.03494  23.       46.      ]\n",
      " [32.052822 24.       39.      ]\n",
      " [32.308914 24.       40.      ]\n",
      " [32.163086 24.       41.      ]\n",
      " [32.156666 24.       42.      ]]\n",
      "[-0.8895  1.8222  0.    ]\n",
      "[[24.55627  18.       41.      ]\n",
      " [25.       18.       40.44154 ]\n",
      " [25.       17.55627  41.      ]\n",
      " ...\n",
      " [36.203133 26.       51.      ]\n",
      " [36.521152 26.       60.      ]\n",
      " [36.470432 27.       60.      ]]\n",
      "[-0.8895  1.8222  0.    ]\n",
      "[[24.973473 18.       41.      ]\n",
      " [25.       18.       40.966614]\n",
      " [25.       17.973473 41.      ]\n",
      " ...\n",
      " [36.224773 25.       60.      ]\n",
      " [36.162014 26.       60.      ]\n",
      " [36.073254 27.       60.      ]]\n",
      "[-0.8895  1.8222  0.    ]\n",
      "[[25.491827 21.       42.      ]\n",
      " [26.       21.       41.35329 ]\n",
      " [26.       20.477612 42.      ]\n",
      " ...\n",
      " [35.43813  24.       60.      ]\n",
      " [36.117188 22.       59.      ]\n",
      " [36.118164 23.       59.      ]]\n",
      "[-0.8895  1.8222  0.    ]\n",
      "[[26.4409   21.       63.      ]\n",
      " [27.       21.       62.80779 ]\n",
      " [27.       20.39656  63.      ]\n",
      " ...\n",
      " [34.520454 24.       59.      ]\n",
      " [35.167088 22.       59.      ]\n",
      " [35.169575 23.       59.      ]]\n",
      "[-0.8895  1.8222  0.    ]\n",
      "[[27.619228 21.       63.      ]\n",
      " [28.       21.       62.91342 ]\n",
      " [28.       20.743238 63.      ]\n",
      " [28.       21.       63.123123]\n",
      " [27.642963 22.       51.      ]\n",
      " [28.       22.       50.70809 ]\n",
      " [28.       21.541185 51.      ]\n",
      " [28.       22.       51.16584 ]\n",
      " [27.062317 22.       63.      ]\n",
      " [28.       22.       62.78608 ]\n",
      " [28.       22.       63.377155]\n",
      " [27.590553 23.       51.      ]\n",
      " [28.       23.       50.770107]\n",
      " [28.       23.       51.126   ]\n",
      " [27.251604 23.       63.      ]\n",
      " [28.       23.       62.801804]\n",
      " [28.       23.       63.438763]\n",
      " [28.       23.497429 51.      ]\n",
      " [27.97772  24.       63.      ]\n",
      " [28.       24.       62.99218 ]\n",
      " [28.       24.       63.02803 ]\n",
      " [28.       24.018621 63.      ]\n",
      " [28.827183 19.       52.      ]\n",
      " [29.       19.       51.938255]\n",
      " [29.       18.525887 52.      ]\n",
      " [29.       19.       52.05776 ]\n",
      " [28.841742 20.       52.      ]\n",
      " [29.       20.       51.89487 ]\n",
      " [29.       20.       52.111156]\n",
      " [29.       20.390102 52.      ]\n",
      " [29.       21.       62.793293]\n",
      " [29.       20.455912 63.      ]\n",
      " [29.       21.       63.256237]\n",
      " [29.       22.       50.393524]\n",
      " [29.       21.193176 51.      ]\n",
      " [29.       22.       51.38398 ]\n",
      " [29.       22.       62.643593]\n",
      " [29.       22.       63.51924 ]\n",
      " [28.732368 23.       48.      ]\n",
      " [29.       23.       47.79353 ]\n",
      " [29.       22.31239  48.      ]\n",
      " [29.       23.       48.056923]\n",
      " [29.       23.       50.524223]\n",
      " [29.       23.       51.246246]\n",
      " [29.       23.       62.63776 ]\n",
      " [29.       23.       63.621006]\n",
      " [28.734571 24.       48.      ]\n",
      " [29.       24.       47.83504 ]\n",
      " [29.       24.       48.045364]\n",
      " [29.       23.880991 51.      ]\n",
      " [29.       24.       62.781677]\n",
      " [29.       24.       63.497448]\n",
      " [29.       24.357138 48.      ]\n",
      " [29.       24.605742 63.      ]\n",
      " [30.       19.       51.933792]\n",
      " [30.       18.568213 52.      ]\n",
      " [30.       19.       52.04927 ]\n",
      " [30.       20.       51.857567]\n",
      " [30.       20.       52.10527 ]\n",
      " [29.919687 21.       48.      ]\n",
      " [30.       21.       47.96224 ]\n",
      " [30.       20.91515  48.      ]\n",
      " [30.       21.       48.01889 ]\n",
      " [30.       20.729845 52.      ]\n",
      " [29.925385 21.       59.      ]\n",
      " [30.       21.       58.97102 ]\n",
      " [30.       20.964094 59.      ]\n",
      " [30.       21.       59.01757 ]\n",
      " [30.       21.       62.774208]\n",
      " [30.       20.475012 63.      ]\n",
      " [30.       21.       63.233616]\n",
      " [29.22144  22.       48.      ]\n",
      " [30.       22.       47.534576]\n",
      " [30.       22.       48.107437]\n",
      " [30.       22.       50.56696 ]\n",
      " [30.       21.629768 51.      ]\n",
      " [30.       22.       51.246128]\n",
      " [29.430937 22.       59.      ]\n",
      " [30.       22.       58.415005]\n",
      " [30.       22.       59.25302 ]\n",
      " [30.       22.       62.578968]\n",
      " [30.       22.       63.4866  ]\n",
      " [30.       23.       47.181316]\n",
      " [30.       23.       48.114952]\n",
      " [30.       23.       50.642113]\n",
      " [30.       23.       51.14992 ]\n",
      " [29.757048 23.       59.      ]\n",
      " [30.       23.       58.549072]\n",
      " [30.       23.       59.218765]\n",
      " [30.       23.       62.563244]\n",
      " [30.       23.       63.575474]\n",
      " [30.       24.       47.678078]\n",
      " [30.       24.       48.0637  ]\n",
      " [30.       23.538847 51.      ]\n",
      " [30.       23.340672 59.      ]\n",
      " [30.       24.       62.714474]\n",
      " [30.       24.       63.47385 ]\n",
      " [30.       24.492428 48.      ]\n",
      " [30.       24.860338 63.      ]\n",
      " [30.237158 19.       52.      ]\n",
      " [30.34965  20.       52.      ]\n",
      " [31.       21.       47.882057]\n",
      " [31.       20.741468 48.      ]\n",
      " [31.       21.       48.049488]\n",
      " [30.554234 21.       59.      ]\n",
      " [31.       21.       62.886482]\n",
      " [31.       20.742502 63.      ]\n",
      " [31.       21.       63.103462]\n",
      " [30.596869 22.       46.      ]\n",
      " [31.       22.       45.932014]\n",
      " [31.       21.648874 46.      ]\n",
      " [31.       22.       46.73261 ]\n",
      " [31.       22.       47.290607]\n",
      " [31.       22.       48.07103 ]\n",
      " [30.313965 22.       51.      ]\n",
      " [30.617655 22.       58.      ]\n",
      " [31.       22.       57.766315]\n",
      " [31.       21.70058  58.      ]\n",
      " [31.       21.043266 59.      ]\n",
      " [31.       22.       59.279118]\n",
      " [31.       22.       62.649773]\n",
      " [31.       22.       63.344746]\n",
      " [30.276657 23.       46.      ]\n",
      " [31.       23.       45.902737]\n",
      " [31.       22.603212 47.      ]\n",
      " [30.634655 23.       47.      ]\n",
      " [31.       23.       48.0062  ]\n",
      " [30.36811  23.       51.      ]\n",
      " [30.965082 23.       58.      ]\n",
      " [31.       23.       57.970722]\n",
      " [31.       23.       59.394516]\n",
      " [31.       23.       62.624664]\n",
      " [31.       23.       63.41755 ]\n",
      " [31.       23.502295 46.      ]\n",
      " [31.       23.073166 47.      ]\n",
      " [31.       23.06268  48.      ]\n",
      " [30.479593 24.       48.      ]\n",
      " [31.       23.014738 58.      ]\n",
      " [30.65599  24.       59.      ]\n",
      " [31.       24.       58.74371 ]\n",
      " [31.       24.       59.22129 ]\n",
      " [31.       24.       62.784054]\n",
      " [31.       24.       63.29905 ]\n",
      " [31.       24.226274 59.      ]\n",
      " [31.       24.674667 63.      ]\n",
      " [31.220713 21.       48.      ]\n",
      " [31.504704 21.       63.      ]\n",
      " [32.       22.       45.995365]\n",
      " [32.       21.977085 46.      ]\n",
      " [32.       22.       46.03893 ]\n",
      " [31.271145 22.       48.      ]\n",
      " [32.       22.       57.909122]\n",
      " [32.       21.76809  58.      ]\n",
      " [32.       21.54771  59.      ]\n",
      " [32.       22.       59.132954]\n",
      " [32.       22.       62.86327 ]\n",
      " [32.       21.4079   63.      ]\n",
      " [32.       22.       63.132694]\n",
      " [32.       23.       45.96442 ]\n",
      " [31.12436  23.       47.      ]\n",
      " [32.       23.       46.229485]\n",
      " [31.020824 23.       48.      ]\n",
      " [32.       22.379618 58.      ]\n",
      " [31.061804 23.       58.      ]\n",
      " [32.       23.       58.23028 ]\n",
      " [32.       23.       59.272793]\n",
      " [32.       23.       62.82649 ]\n",
      " [32.       23.       63.18712 ]\n",
      " [32.       23.172028 46.      ]\n",
      " [32.       24.       58.760292]\n",
      " [32.       24.       59.191833]\n",
      " [32.       24.       62.98092 ]\n",
      " [32.       24.       63.024693]\n",
      " [32.       24.300596 59.      ]\n",
      " [32.       24.058832 63.      ]\n",
      " [32.017338 22.       46.      ]\n",
      " [32.140488 22.       58.      ]\n",
      " [32.62385  22.       59.      ]\n",
      " [32.444885 22.       63.      ]\n",
      " [32.144817 23.       46.      ]\n",
      " [33.       22.813274 59.      ]\n",
      " [33.       23.       58.96025 ]\n",
      " [33.       23.       59.020626]\n",
      " [32.575146 23.       63.      ]\n",
      " [33.       23.148655 59.      ]\n",
      " [32.55915  24.       59.      ]\n",
      " [32.062904 24.       63.      ]\n",
      " [33.063904 23.       59.      ]]\n",
      "[-0.8895  1.8222  0.    ]\n",
      "If the path leads to a local server, the visualisation can be accessed in a web browser with \"localhost/path/from/DocumentRoot/a58_overlay.html\"\n"
     ]
    }
   ],
   "source": [
    "vis.createX3D(a58_over, 'a58_overlay.x3d', shifts=shifts)\n",
    "vis.createHTML(a58_over, 'a58_overlay.html')"
   ]
  },
  {
   "cell_type": "code",
   "execution_count": 10,
   "metadata": {},
   "outputs": [
    {
     "name": "stdout",
     "output_type": "stream",
     "text": [
      "Warning: BUNIT or BTYPE not in header\n"
     ]
    },
    {
     "ename": "AttributeError",
     "evalue": "'list' object has no attribute 'values'",
     "output_type": "error",
     "traceback": [
      "\u001b[1;31m---------------------------------------------------------------------------\u001b[0m",
      "\u001b[1;31mAttributeError\u001b[0m                            Traceback (most recent call last)",
      "Cell \u001b[1;32mIn[10], line 14\u001b[0m\n\u001b[0;32m     10\u001b[0m isolevels \u001b[38;5;241m=\u001b[39m [isolevels_p, isolevels_p, isolevels_p]\n\u001b[0;32m     12\u001b[0m data \u001b[38;5;241m=\u001b[39m [data_oiii, data_nii, data_ha]\n\u001b[1;32m---> 14\u001b[0m a58_hrr \u001b[38;5;241m=\u001b[39m \u001b[43mvis\u001b[49m\u001b[38;5;241;43m.\u001b[39;49m\u001b[43mprep_overlay\u001b[49m\u001b[43m(\u001b[49m\u001b[43mdata\u001b[49m\u001b[43m,\u001b[49m\u001b[43m \u001b[49m\u001b[43mheader\u001b[49m\u001b[38;5;241;43m=\u001b[39;49m\u001b[43mhead2\u001b[49m\u001b[43m,\u001b[49m\u001b[43m \u001b[49m\u001b[43munit\u001b[49m\u001b[38;5;241;43m=\u001b[39;49m\u001b[38;5;124;43m'\u001b[39;49m\u001b[38;5;124;43mpercent\u001b[39;49m\u001b[38;5;124;43m'\u001b[39;49m\u001b[43m,\u001b[49m\n\u001b[0;32m     15\u001b[0m \u001b[43m                        \u001b[49m\u001b[43ml_isolevels\u001b[49m\u001b[38;5;241;43m=\u001b[39;49m\u001b[43misolevels\u001b[49m\u001b[43m,\u001b[49m\u001b[43m \u001b[49m\u001b[43mlines\u001b[49m\u001b[38;5;241;43m=\u001b[39;49m\u001b[43m[\u001b[49m\u001b[38;5;124;43m'\u001b[39;49m\u001b[38;5;124;43mOIII\u001b[39;49m\u001b[38;5;124;43m'\u001b[39;49m\u001b[43m,\u001b[49m\u001b[43m \u001b[49m\u001b[38;5;124;43m'\u001b[39;49m\u001b[38;5;124;43mHalpha\u001b[39;49m\u001b[38;5;124;43m'\u001b[39;49m\u001b[43m,\u001b[49m\u001b[43m \u001b[49m\u001b[38;5;124;43m'\u001b[39;49m\u001b[38;5;124;43mNII\u001b[39;49m\u001b[38;5;124;43m'\u001b[39;49m\u001b[43m]\u001b[49m\u001b[43m)\u001b[49m\n\u001b[0;32m     16\u001b[0m vis\u001b[38;5;241m.\u001b[39mcreateX3D(a58_hrr, \u001b[38;5;124m'\u001b[39m\u001b[38;5;124ma58_overlay.x3d\u001b[39m\u001b[38;5;124m'\u001b[39m)\n\u001b[0;32m     17\u001b[0m vis\u001b[38;5;241m.\u001b[39mcreateHTML(a58_hrr, \u001b[38;5;124m'\u001b[39m\u001b[38;5;124ma58_overlay.html\u001b[39m\u001b[38;5;124m'\u001b[39m)\n",
      "File \u001b[1;32mc:\\Users\\ixaka\\Documents\\Visualization\\ViSL3D\\notebooks\\visl3d\\visual.py:681\u001b[0m, in \u001b[0;36mprep_overlay\u001b[1;34m(cube, header, spectral_lims, lines, spatial_lims, l_isolevels, unit, colormap, image2d, im2dcolor)\u001b[0m\n\u001b[0;32m    668\u001b[0m         coords[\u001b[38;5;241m0\u001b[39m]\u001b[38;5;241m.\u001b[39mappend(np\u001b[38;5;241m.\u001b[39marray([\n\u001b[0;32m    669\u001b[0m             [header[\u001b[38;5;124m'\u001b[39m\u001b[38;5;124mCRVAL1\u001b[39m\u001b[38;5;124m'\u001b[39m]\u001b[38;5;241m+\u001b[39mheader[\u001b[38;5;124m'\u001b[39m\u001b[38;5;124mCDELT1\u001b[39m\u001b[38;5;124m'\u001b[39m]\u001b[38;5;241m*\u001b[39m(spatial_lims[i][\u001b[38;5;241m0\u001b[39m][\u001b[38;5;241m0\u001b[39m]\u001b[38;5;241m-\u001b[39mheader[\u001b[38;5;124m'\u001b[39m\u001b[38;5;124mCRPIX1\u001b[39m\u001b[38;5;124m'\u001b[39m]),\n\u001b[0;32m    670\u001b[0m             header[\u001b[38;5;124m'\u001b[39m\u001b[38;5;124mCRVAL1\u001b[39m\u001b[38;5;124m'\u001b[39m]\u001b[38;5;241m+\u001b[39mheader[\u001b[38;5;124m'\u001b[39m\u001b[38;5;124mCDELT1\u001b[39m\u001b[38;5;124m'\u001b[39m]\u001b[38;5;241m*\u001b[39m(spatial_lims[i][\u001b[38;5;241m0\u001b[39m][\u001b[38;5;241m1\u001b[39m]\u001b[38;5;241m-\u001b[39mheader[\u001b[38;5;124m'\u001b[39m\u001b[38;5;124mCRPIX1\u001b[39m\u001b[38;5;124m'\u001b[39m])],\n\u001b[0;32m    671\u001b[0m             [header[\u001b[38;5;124m'\u001b[39m\u001b[38;5;124mCRVAL2\u001b[39m\u001b[38;5;124m'\u001b[39m]\u001b[38;5;241m+\u001b[39mheader[\u001b[38;5;124m'\u001b[39m\u001b[38;5;124mCDELT2\u001b[39m\u001b[38;5;124m'\u001b[39m]\u001b[38;5;241m*\u001b[39m(spatial_lims[i][\u001b[38;5;241m1\u001b[39m][\u001b[38;5;241m0\u001b[39m]\u001b[38;5;241m-\u001b[39mheader[\u001b[38;5;124m'\u001b[39m\u001b[38;5;124mCRPIX2\u001b[39m\u001b[38;5;124m'\u001b[39m]),\n\u001b[0;32m    672\u001b[0m             header[\u001b[38;5;124m'\u001b[39m\u001b[38;5;124mCRVAL2\u001b[39m\u001b[38;5;124m'\u001b[39m]\u001b[38;5;241m+\u001b[39mheader[\u001b[38;5;124m'\u001b[39m\u001b[38;5;124mCDELT2\u001b[39m\u001b[38;5;124m'\u001b[39m]\u001b[38;5;241m*\u001b[39m(spatial_lims[i][\u001b[38;5;241m1\u001b[39m][\u001b[38;5;241m1\u001b[39m]\u001b[38;5;241m-\u001b[39mheader[\u001b[38;5;124m'\u001b[39m\u001b[38;5;124mCRPIX2\u001b[39m\u001b[38;5;124m'\u001b[39m])]\n\u001b[0;32m    673\u001b[0m             ]))\n\u001b[0;32m    675\u001b[0m \u001b[38;5;28;01mif\u001b[39;00m lines \u001b[38;5;129;01mis\u001b[39;00m \u001b[38;5;129;01mnot\u001b[39;00m \u001b[38;5;28;01mNone\u001b[39;00m:\n\u001b[0;32m    676\u001b[0m     \u001b[38;5;66;03m# if len(lines) < 2:\u001b[39;00m\n\u001b[0;32m    677\u001b[0m     \u001b[38;5;66;03m#     raise AttributeError('Not enough lines for overlay. Use prep_one instead.')\u001b[39;00m\n\u001b[0;32m    678\u001b[0m     \u001b[38;5;66;03m# elif len(spatial_lims) != 1 and len(lines) != len(spatial_lims):\u001b[39;00m\n\u001b[0;32m    679\u001b[0m     \u001b[38;5;66;03m#     raise AttributeError('Different number of lines and spatial limits.')\u001b[39;00m\n\u001b[1;32m--> 681\u001b[0m     \u001b[38;5;28;01mfor\u001b[39;00m i, (center, width) \u001b[38;5;129;01min\u001b[39;00m \u001b[38;5;28menumerate\u001b[39m(\u001b[43mlines\u001b[49m\u001b[38;5;241;43m.\u001b[39;49m\u001b[43mvalues\u001b[49m()):\n\u001b[0;32m    682\u001b[0m         center \u001b[38;5;241m=\u001b[39m center\u001b[38;5;241m.\u001b[39mto(u\u001b[38;5;241m.\u001b[39mUnit(cubeunits[\u001b[38;5;241m3\u001b[39m]))\n\u001b[0;32m    683\u001b[0m         \u001b[38;5;28;01mif\u001b[39;00m \u001b[38;5;28misinstance\u001b[39m(width, u\u001b[38;5;241m.\u001b[39mquantity\u001b[38;5;241m.\u001b[39mQuantity):\n",
      "\u001b[1;31mAttributeError\u001b[0m: 'list' object has no attribute 'values'"
     ]
    }
   ],
   "source": [
    "# limx = [0, 58-1]\n",
    "# limy = [0, 52-1]\n",
    "# limz = [1520, 2100-1]\n",
    "\n",
    "spectral_lims = [[6542.00*u.angstrom,6552.00*u.angstrom],\n",
    "                 [6557.05*u.angstrom,6567.05*u.angstrom],\n",
    "                 [6572.45*u.angstrom,6588.45*u.angstrom]]\n",
    "\n",
    "isolevels_p = [20,35,50,65,80]\n",
    "isolevels = [isolevels_p, isolevels_p, isolevels_p]\n",
    "\n",
    "data = [data_oiii, data_nii, data_ha]\n",
    "\n",
    "a58_over = vis.prep_overlay(data, header=head2, unit='percent',\n",
    "                        l_isolevels=isolevels, lines=['OIII', 'Halpha', 'NII'])\n",
    "vis.createX3D(a58_over, 'a58_overlay.x3d')\n",
    "vis.createHTML(a58_over, 'a58_overlay.html')"
   ]
  }
 ],
 "metadata": {
  "kernelspec": {
   "display_name": "x3d",
   "language": "python",
   "name": "python3"
  },
  "language_info": {
   "codemirror_mode": {
    "name": "ipython",
    "version": 3
   },
   "file_extension": ".py",
   "mimetype": "text/x-python",
   "name": "python",
   "nbconvert_exporter": "python",
   "pygments_lexer": "ipython3",
   "version": "3.10.8"
  }
 },
 "nbformat": 4,
 "nbformat_minor": 2
}
