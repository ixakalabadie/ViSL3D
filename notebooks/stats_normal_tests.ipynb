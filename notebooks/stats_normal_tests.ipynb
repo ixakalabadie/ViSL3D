{
 "cells": [
  {
   "cell_type": "code",
   "execution_count": null,
   "metadata": {},
   "outputs": [],
   "source": [
    "import matplotlib.pyplot as plt\n",
    "import numpy as np\n",
    "import pandas as pd"
   ]
  },
  {
   "cell_type": "code",
   "execution_count": null,
   "metadata": {},
   "outputs": [],
   "source": [
    "one = pd.read_csv('one_stats_rss.csv')\n",
    "ten = pd.read_csv('ten_stats_rss.csv')"
   ]
  },
  {
   "cell_type": "code",
   "execution_count": null,
   "metadata": {},
   "outputs": [],
   "source": [
    "from scipy.stats import shapiro\n",
    "\n",
    "shapiro(func(np.hstack([one['High/No'][m_o],ten['High/No'][m_t]]), *popt)-np.hstack([one['T_RAM'][m_o],ten['T_RAM'][m_t]])) "
   ]
  },
  {
   "cell_type": "code",
   "execution_count": null,
   "metadata": {},
   "outputs": [],
   "source": [
    "from scipy.stats import anderson\n",
    "\n",
    "anderson(func(np.hstack([one['High/No'][m_o],ten['High/No'][m_t]]), *popt)-np.hstack([one['T_RAM'][m_o],ten['T_RAM'][m_t]])) "
   ]
  },
  {
   "cell_type": "code",
   "execution_count": null,
   "metadata": {},
   "outputs": [],
   "source": [
    "from scipy.stats import kstest\n",
    "\n",
    "kstest(func(np.hstack([one['High/No'][m_o],ten['High/No'][m_t]]), *popt)-np.hstack([one['T_RAM'][m_o],ten['T_RAM'][m_t]]), 'norm')"
   ]
  },
  {
   "cell_type": "code",
   "execution_count": null,
   "metadata": {},
   "outputs": [],
   "source": [
    "kstest(np.random.normal(0,1,100000), 'norm')"
   ]
  },
  {
   "cell_type": "code",
   "execution_count": null,
   "metadata": {},
   "outputs": [],
   "source": [
    "def ecdf(data):\n",
    "    \"\"\"Compute ECDF for a one-dimensional array of measurements.\"\"\"\n",
    "    # Number of data points: n\n",
    "    n = len(data)\n",
    " \n",
    "    # x-data for the ECDF: x\n",
    "    x = np.sort(data)\n",
    " \n",
    "    # y-data for the ECDF: y\n",
    "    y = np.arange(1, n+1) / n\n",
    " \n",
    "    return x, y"
   ]
  },
  {
   "cell_type": "code",
   "execution_count": null,
   "metadata": {},
   "outputs": [],
   "source": [
    "plt.hist(func(np.hstack([one['High/No'][m_o],ten['High/No'][m_t]]), *popt)-np.hstack([one['T_RAM'][m_o],ten['T_RAM'][m_t]]), bins=20, density=True, alpha=0.5);\n",
    "plt.hist(np.random.normal(0,49.66,1000), bins=20, alpha=0.5, density=True);"
   ]
  },
  {
   "cell_type": "code",
   "execution_count": null,
   "metadata": {},
   "outputs": [],
   "source": [
    "plt.plot(*ecdf(func(np.hstack([one['High/No'][m_o],ten['High/No'][m_t]]), *popt)-np.hstack([one['T_RAM'][m_o],ten['T_RAM'][m_t]])))\n",
    "plt.plot(*ecdf(np.random.normal(0, 40, 10000)))"
   ]
  },
  {
   "cell_type": "code",
   "execution_count": null,
   "metadata": {},
   "outputs": [],
   "source": []
  }
 ],
 "metadata": {
  "language_info": {
   "name": "python"
  }
 },
 "nbformat": 4,
 "nbformat_minor": 2
}
